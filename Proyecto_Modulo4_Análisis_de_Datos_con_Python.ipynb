{
  "nbformat": 4,
  "nbformat_minor": 0,
  "metadata": {
    "colab": {
      "name": "Proyecto_Modulo4_Análisis_de_Datos_con_Python.ipynb",
      "provenance": [],
      "collapsed_sections": [],
      "include_colab_link": true
    },
    "kernelspec": {
      "display_name": "Python 3",
      "name": "python3"
    },
    "language_info": {
      "name": "python"
    }
  },
  "cells": [
    {
      "cell_type": "markdown",
      "metadata": {
        "id": "view-in-github",
        "colab_type": "text"
      },
      "source": [
        "<a href=\"https://colab.research.google.com/github/DiegoCorona/Proyecto_BEDU_Modulo4_An-lisis_de_Datos_con_Python/blob/main/Proyecto_Modulo4_An%C3%A1lisis_de_Datos_con_Python.ipynb\" target=\"_parent\"><img src=\"https://colab.research.google.com/assets/colab-badge.svg\" alt=\"Open In Colab\"/></a>"
      ]
    },
    {
      "cell_type": "markdown",
      "metadata": {
        "id": "20oSP-q23EE2"
      },
      "source": [
        "# **Estudio de Mercado en las aplicaciones móviles.**\n",
        "\n",
        "Colaboradores:\n",
        "\n",
        "* Carlos Sebastián Madrigal Rodríguez.\n",
        "* Diego Armando Morales Corona.\n",
        "* Carlos Rodríguez Tenorio.\n",
        "* José David Vázquez Rojas"
      ]
    },
    {
      "cell_type": "markdown",
      "metadata": {
        "id": "TGthrTWF3dN0"
      },
      "source": [
        "## **Contexto y preguntas clave.**\n",
        "\n",
        "En el proyecto anterior [_(Modelo de predicción de ejercicios con mancuernas)_](https://github.com/DiegoCorona/Proyecto-BEDU-Procesamiento-de-datos-con-Python), se planteó la realización de un modelo con el cual, dados valores de sensores, se pudieran predecir si un ejercicio con mancuerna se realizaba de manera correcta o se cometía alguno de los errores más comunes. \n",
        "\n",
        "Conseguido esto se enviaron los resultados al equipo de Desarrollo Web para constuir una aplicación móvil con la cual los usuarios puedan tener retroalimentación acerca de los sets de ejercicio realizados en casa.\n",
        "\n",
        "Esta necesidad de crear una aplicación web deriva en otros problemas a resolver y/o analizar para estudiar el éxito en la aceptación de los usuarios de esta App, el siguiente paso fue analizar el mercado de aplicaciones móviles con el propósito de resolver las siguientes preguntas clave:\n",
        "\n",
        "* ¿En qué categoría es más conveniente colocar nuestra app para que sea exitosa?\n",
        "* ¿Es mejor colocarla como app gratuita o como app de cobro?\n",
        "* ¿Existe relación entre la cantidad de actualizaciones y el rating de una app?\n",
        "* ¿Es posible predecir si una app será exitosa o no con base en los datos del dataset?\n",
        "* ¿Qué palabras son las más utilizadas al nombrar una app?\n",
        "\n",
        "De esta forma se busca conocer cómo es conveniente posicionar la aplicación móvil que monitoree los movimientos de los usuarios al ejercitarse con mancuernas en un mercado de 9 millones de apps que se encuentran en la Play Store. \n",
        "\n",
        "El presente proyecto busca estudiar la actualidad del mercado de las aplicaciones web, construir un modelo de predicción del nivel de éxito de una aplicación Web y, dado esto, estudiar el impacto de nuevas Apps en el mercado dadas sus características.\n"
      ]
    },
    {
      "cell_type": "markdown",
      "metadata": {
        "id": "S8zOELPd97fb"
      },
      "source": [
        "## **Acerca de los datos**\n",
        "\n",
        "Los datos utilizados para este proyecto son una combinación de dos fuentes:\n",
        "\n",
        "1. [DataSource.AI](https://www.datasource.ai/es/home/data-science-competitions-for-startups/prediciendo-el-rating-de-las-aplicaciones-en-google-play-store), que lanzá competencias constantemente enfocadas a Machine Learning propuso predecir el exito de Apps de Play Store, pero dividido solamente en dos categorías (exitosa y no exitosa).\n",
        "\n",
        "2. [Kaggle](https://www.kaggle.com/lava18/google-play-store-apps), con su variedad de datasets para el desarrollo de Machine Learning, nos aportó una base de datos muy parecida a la de _DataSource.AI_, con la peculiaridad de tener los ratings en un valor númerico, que posteriormente decodificamos.\n",
        "\n",
        "La base de datos cuenta con las siguientes variables:\n",
        "\n",
        "- _App:_ El nombre de aplicación Web.\n",
        "- _Category:_ Categoría general a la que pertenece la aplicación en el mercado.\n",
        "- _Rating:_ Calificación dada por los usuarios.\n",
        "- _Reviews:_ Número de usuarios que calificaron la App.\n",
        "- _Size:_ Tamaño de la aplicación móvil.\n",
        "- _Installs:_ Intalaciones mínimas estimadas de la aplicación.\n",
        "- _Type:_ Variable categórica que indica si la aplicación es gratuita (Free) o de paga (Paid).\n",
        "- _Price:_ En caso de ser de paga, el precio por el uso de la App.\n",
        "- _Content Rating:_ Clasificación del contenido de la aplicación.\n",
        "- _Genres:_ Géneros específicos de la aplicación.\n",
        "- _Last Updated:_ Fecha de la última actualización hecha por los desarrolladores.\n",
        "- _Current Ver:_ Versión de la aplicación.\n",
        "- _Android Ver:_ Versión de Android mínima con la que es compatible la aplicación."
      ]
    },
    {
      "cell_type": "markdown",
      "metadata": {
        "id": "90vQAOz0ZVFa"
      },
      "source": [
        "## **Limpieza de los Datos**"
      ]
    },
    {
      "cell_type": "code",
      "metadata": {
        "colab": {
          "base_uri": "https://localhost:8080/"
        },
        "id": "d_1BRBICHZel",
        "outputId": "e8602d6f-2d0c-420e-b469-a3efd8788186"
      },
      "source": [
        "from google.colab import drive\n",
        "drive.mount('/content/drive')"
      ],
      "execution_count": null,
      "outputs": [
        {
          "output_type": "stream",
          "text": [
            "Drive already mounted at /content/drive; to attempt to forcibly remount, call drive.mount(\"/content/drive\", force_remount=True).\n"
          ],
          "name": "stdout"
        }
      ]
    },
    {
      "cell_type": "markdown",
      "metadata": {
        "id": "X2RwlMKCZeV8"
      },
      "source": [
        "Primero importamos las paqueterías que vamos a utilizar a lo largo de la mayoría de la limpieza y el análisis. También importamos y leemos el dataset.\n"
      ]
    },
    {
      "cell_type": "code",
      "metadata": {
        "id": "EUhHnCmw07K3"
      },
      "source": [
        "import pandas as pd\n",
        "import numpy as np\n",
        "import plotly as px\n",
        "import seaborn as sns\n",
        "sns.set(style='whitegrid')\n",
        "pd.set_option('display.max_columns', 160)\n",
        "pd.set_option('display.max_rows', 160)\n",
        "pd.options.display.float_format = '{:.3f}'.format"
      ],
      "execution_count": null,
      "outputs": []
    },
    {
      "cell_type": "code",
      "metadata": {
        "colab": {
          "base_uri": "https://localhost:8080/",
          "height": 439
        },
        "id": "BOtwDR1hH8LI",
        "outputId": "f00c53ce-5e77-467c-fdb1-546b8e7050cd"
      },
      "source": [
        "df = pd.read_csv('/content/drive/MyDrive/Dataset Proyecto/Bedu_Proyecto_Modulo_4/googleplaystore.csv')\n",
        "#Observar los datos.\n",
        "(pd.concat([df.head(3), df.tail(3)], axis=0, ignore_index=True))"
      ],
      "execution_count": null,
      "outputs": [
        {
          "output_type": "execute_result",
          "data": {
            "text/html": [
              "<div>\n",
              "<style scoped>\n",
              "    .dataframe tbody tr th:only-of-type {\n",
              "        vertical-align: middle;\n",
              "    }\n",
              "\n",
              "    .dataframe tbody tr th {\n",
              "        vertical-align: top;\n",
              "    }\n",
              "\n",
              "    .dataframe thead th {\n",
              "        text-align: right;\n",
              "    }\n",
              "</style>\n",
              "<table border=\"1\" class=\"dataframe\">\n",
              "  <thead>\n",
              "    <tr style=\"text-align: right;\">\n",
              "      <th></th>\n",
              "      <th>App</th>\n",
              "      <th>Category</th>\n",
              "      <th>Rating</th>\n",
              "      <th>Reviews</th>\n",
              "      <th>Size</th>\n",
              "      <th>Installs</th>\n",
              "      <th>Type</th>\n",
              "      <th>Price</th>\n",
              "      <th>Content Rating</th>\n",
              "      <th>Genres</th>\n",
              "      <th>Last Updated</th>\n",
              "      <th>Current Ver</th>\n",
              "      <th>Android Ver</th>\n",
              "    </tr>\n",
              "  </thead>\n",
              "  <tbody>\n",
              "    <tr>\n",
              "      <th>0</th>\n",
              "      <td>Photo Editor &amp; Candy Camera &amp; Grid &amp; ScrapBook</td>\n",
              "      <td>ART_AND_DESIGN</td>\n",
              "      <td>4.100</td>\n",
              "      <td>159</td>\n",
              "      <td>19M</td>\n",
              "      <td>10,000+</td>\n",
              "      <td>Free</td>\n",
              "      <td>0</td>\n",
              "      <td>Everyone</td>\n",
              "      <td>Art &amp; Design</td>\n",
              "      <td>January 7, 2018</td>\n",
              "      <td>1.0.0</td>\n",
              "      <td>4.0.3 and up</td>\n",
              "    </tr>\n",
              "    <tr>\n",
              "      <th>1</th>\n",
              "      <td>Coloring book moana</td>\n",
              "      <td>ART_AND_DESIGN</td>\n",
              "      <td>3.900</td>\n",
              "      <td>967</td>\n",
              "      <td>14M</td>\n",
              "      <td>500,000+</td>\n",
              "      <td>Free</td>\n",
              "      <td>0</td>\n",
              "      <td>Everyone</td>\n",
              "      <td>Art &amp; Design;Pretend Play</td>\n",
              "      <td>January 15, 2018</td>\n",
              "      <td>2.0.0</td>\n",
              "      <td>4.0.3 and up</td>\n",
              "    </tr>\n",
              "    <tr>\n",
              "      <th>2</th>\n",
              "      <td>U Launcher Lite – FREE Live Cool Themes, Hide ...</td>\n",
              "      <td>ART_AND_DESIGN</td>\n",
              "      <td>4.700</td>\n",
              "      <td>87510</td>\n",
              "      <td>8.7M</td>\n",
              "      <td>5,000,000+</td>\n",
              "      <td>Free</td>\n",
              "      <td>0</td>\n",
              "      <td>Everyone</td>\n",
              "      <td>Art &amp; Design</td>\n",
              "      <td>August 1, 2018</td>\n",
              "      <td>1.2.4</td>\n",
              "      <td>4.0.3 and up</td>\n",
              "    </tr>\n",
              "    <tr>\n",
              "      <th>3</th>\n",
              "      <td>Parkinson Exercices FR</td>\n",
              "      <td>MEDICAL</td>\n",
              "      <td>nan</td>\n",
              "      <td>3</td>\n",
              "      <td>9.5M</td>\n",
              "      <td>1,000+</td>\n",
              "      <td>Free</td>\n",
              "      <td>0</td>\n",
              "      <td>Everyone</td>\n",
              "      <td>Medical</td>\n",
              "      <td>January 20, 2017</td>\n",
              "      <td>1.0</td>\n",
              "      <td>2.2 and up</td>\n",
              "    </tr>\n",
              "    <tr>\n",
              "      <th>4</th>\n",
              "      <td>The SCP Foundation DB fr nn5n</td>\n",
              "      <td>BOOKS_AND_REFERENCE</td>\n",
              "      <td>4.500</td>\n",
              "      <td>114</td>\n",
              "      <td>Varies with device</td>\n",
              "      <td>1,000+</td>\n",
              "      <td>Free</td>\n",
              "      <td>0</td>\n",
              "      <td>Mature 17+</td>\n",
              "      <td>Books &amp; Reference</td>\n",
              "      <td>January 19, 2015</td>\n",
              "      <td>Varies with device</td>\n",
              "      <td>Varies with device</td>\n",
              "    </tr>\n",
              "    <tr>\n",
              "      <th>5</th>\n",
              "      <td>iHoroscope - 2018 Daily Horoscope &amp; Astrology</td>\n",
              "      <td>LIFESTYLE</td>\n",
              "      <td>4.500</td>\n",
              "      <td>398307</td>\n",
              "      <td>19M</td>\n",
              "      <td>10,000,000+</td>\n",
              "      <td>Free</td>\n",
              "      <td>0</td>\n",
              "      <td>Everyone</td>\n",
              "      <td>Lifestyle</td>\n",
              "      <td>July 25, 2018</td>\n",
              "      <td>Varies with device</td>\n",
              "      <td>Varies with device</td>\n",
              "    </tr>\n",
              "  </tbody>\n",
              "</table>\n",
              "</div>"
            ],
            "text/plain": [
              "                                                 App             Category  \\\n",
              "0     Photo Editor & Candy Camera & Grid & ScrapBook       ART_AND_DESIGN   \n",
              "1                                Coloring book moana       ART_AND_DESIGN   \n",
              "2  U Launcher Lite – FREE Live Cool Themes, Hide ...       ART_AND_DESIGN   \n",
              "3                             Parkinson Exercices FR              MEDICAL   \n",
              "4                      The SCP Foundation DB fr nn5n  BOOKS_AND_REFERENCE   \n",
              "5      iHoroscope - 2018 Daily Horoscope & Astrology            LIFESTYLE   \n",
              "\n",
              "   Rating Reviews                Size     Installs  Type Price Content Rating  \\\n",
              "0   4.100     159                 19M      10,000+  Free     0       Everyone   \n",
              "1   3.900     967                 14M     500,000+  Free     0       Everyone   \n",
              "2   4.700   87510                8.7M   5,000,000+  Free     0       Everyone   \n",
              "3     nan       3                9.5M       1,000+  Free     0       Everyone   \n",
              "4   4.500     114  Varies with device       1,000+  Free     0     Mature 17+   \n",
              "5   4.500  398307                 19M  10,000,000+  Free     0       Everyone   \n",
              "\n",
              "                      Genres      Last Updated         Current Ver  \\\n",
              "0               Art & Design   January 7, 2018               1.0.0   \n",
              "1  Art & Design;Pretend Play  January 15, 2018               2.0.0   \n",
              "2               Art & Design    August 1, 2018               1.2.4   \n",
              "3                    Medical  January 20, 2017                 1.0   \n",
              "4          Books & Reference  January 19, 2015  Varies with device   \n",
              "5                  Lifestyle     July 25, 2018  Varies with device   \n",
              "\n",
              "          Android Ver  \n",
              "0        4.0.3 and up  \n",
              "1        4.0.3 and up  \n",
              "2        4.0.3 and up  \n",
              "3          2.2 and up  \n",
              "4  Varies with device  \n",
              "5  Varies with device  "
            ]
          },
          "metadata": {
            "tags": []
          },
          "execution_count": 3
        }
      ]
    },
    {
      "cell_type": "code",
      "metadata": {
        "colab": {
          "base_uri": "https://localhost:8080/"
        },
        "id": "FoxQWjAucUnd",
        "outputId": "b714b45f-051c-4424-958f-b394796cbb03"
      },
      "source": [
        "print('-'*100)\n",
        "print(df.dtypes)\n",
        "print('-'*100)\n",
        "print('Tamaño: ', df.shape)"
      ],
      "execution_count": null,
      "outputs": [
        {
          "output_type": "stream",
          "text": [
            "----------------------------------------------------------------------------------------------------\n",
            "App                object\n",
            "Category           object\n",
            "Rating            float64\n",
            "Reviews            object\n",
            "Size               object\n",
            "Installs           object\n",
            "Type               object\n",
            "Price              object\n",
            "Content Rating     object\n",
            "Genres             object\n",
            "Last Updated       object\n",
            "Current Ver        object\n",
            "Android Ver        object\n",
            "dtype: object\n",
            "----------------------------------------------------------------------------------------------------\n",
            "Tamaño:  (10841, 13)\n"
          ],
          "name": "stdout"
        }
      ]
    },
    {
      "cell_type": "markdown",
      "metadata": {
        "id": "Ke_Fcomda1Af"
      },
      "source": [
        "Para el modelo la variable objetivo será el _Rating_ de la aplicación dada por los usuarios. Aplicando la función _head()_ y _tail()_ notamos la presencia de valores **Nan** en esta columna. \n",
        "\n",
        "Notamos otros problemas con el tipo de datos en las variable, por ejemplo, la variable _Size_, que debería tener un valor númerico, tiene un string que representa Mb en algunos registros y en otros representa Kb. La variable _Installs_ contiene carácteres que deben ser procesados. La variable _Genres_ contiene strings que pueden complicar de una manera el análisis, ya que describen de manera muy específica cada producto, entre otros problemas más con la base de datos."
      ]
    },
    {
      "cell_type": "markdown",
      "metadata": {
        "id": "eGhbi1ver5u6"
      },
      "source": [
        "### Explorando y modificando.\n",
        "\n",
        "La limpieza de los datos en una de las partes más importantes dentro de un proyecto, ya que tener datos sucios dificultan el estudio de las variables y algunas veces pueden llevar a conclusiones erróneas. La primera variable a limpiar será _Reviews_, donde basicamente solo se hace cambio a tipo _numeric_ y borramos una fila con errores de recolección de información."
      ]
    },
    {
      "cell_type": "code",
      "metadata": {
        "id": "6h7oocOGr4VY"
      },
      "source": [
        "df = df.drop([10472],axis=0)\n",
        "df['Reviews'] = pd.to_numeric(df['Reviews'])"
      ],
      "execution_count": null,
      "outputs": []
    },
    {
      "cell_type": "code",
      "metadata": {
        "colab": {
          "base_uri": "https://localhost:8080/"
        },
        "id": "LHTDDRswsyFU",
        "outputId": "dd15e9fa-af6f-479b-d585-5659d010c4cb"
      },
      "source": [
        "df.dtypes"
      ],
      "execution_count": null,
      "outputs": [
        {
          "output_type": "execute_result",
          "data": {
            "text/plain": [
              "App                object\n",
              "Category           object\n",
              "Rating            float64\n",
              "Reviews             int64\n",
              "Size               object\n",
              "Installs           object\n",
              "Type               object\n",
              "Price              object\n",
              "Content Rating     object\n",
              "Genres             object\n",
              "Last Updated       object\n",
              "Current Ver        object\n",
              "Android Ver        object\n",
              "dtype: object"
            ]
          },
          "metadata": {
            "tags": []
          },
          "execution_count": 6
        }
      ]
    },
    {
      "cell_type": "markdown",
      "metadata": {
        "id": "GZMjCd7xfq8T"
      },
      "source": [
        "Respecto a la variable _Size_, dado que contiene caracteres especiales que representan diferentes métricas, se deben realizar conversiones para tener los datos en un solo formato (en este caso el tamaño de la aplicación en Mb).\n"
      ]
    },
    {
      "cell_type": "code",
      "metadata": {
        "colab": {
          "base_uri": "https://localhost:8080/",
          "height": 340
        },
        "id": "mc7omiPwQakO",
        "outputId": "4707b395-0a73-4094-af12-23bde2a2f796"
      },
      "source": [
        "df.head()"
      ],
      "execution_count": null,
      "outputs": [
        {
          "output_type": "execute_result",
          "data": {
            "text/html": [
              "<div>\n",
              "<style scoped>\n",
              "    .dataframe tbody tr th:only-of-type {\n",
              "        vertical-align: middle;\n",
              "    }\n",
              "\n",
              "    .dataframe tbody tr th {\n",
              "        vertical-align: top;\n",
              "    }\n",
              "\n",
              "    .dataframe thead th {\n",
              "        text-align: right;\n",
              "    }\n",
              "</style>\n",
              "<table border=\"1\" class=\"dataframe\">\n",
              "  <thead>\n",
              "    <tr style=\"text-align: right;\">\n",
              "      <th></th>\n",
              "      <th>App</th>\n",
              "      <th>Category</th>\n",
              "      <th>Rating</th>\n",
              "      <th>Reviews</th>\n",
              "      <th>Size</th>\n",
              "      <th>Installs</th>\n",
              "      <th>Type</th>\n",
              "      <th>Price</th>\n",
              "      <th>Content Rating</th>\n",
              "      <th>Genres</th>\n",
              "      <th>Last Updated</th>\n",
              "      <th>Current Ver</th>\n",
              "      <th>Android Ver</th>\n",
              "    </tr>\n",
              "  </thead>\n",
              "  <tbody>\n",
              "    <tr>\n",
              "      <th>0</th>\n",
              "      <td>Photo Editor &amp; Candy Camera &amp; Grid &amp; ScrapBook</td>\n",
              "      <td>ART_AND_DESIGN</td>\n",
              "      <td>4.100</td>\n",
              "      <td>159</td>\n",
              "      <td>19M</td>\n",
              "      <td>10,000+</td>\n",
              "      <td>Free</td>\n",
              "      <td>0</td>\n",
              "      <td>Everyone</td>\n",
              "      <td>Art &amp; Design</td>\n",
              "      <td>January 7, 2018</td>\n",
              "      <td>1.0.0</td>\n",
              "      <td>4.0.3 and up</td>\n",
              "    </tr>\n",
              "    <tr>\n",
              "      <th>1</th>\n",
              "      <td>Coloring book moana</td>\n",
              "      <td>ART_AND_DESIGN</td>\n",
              "      <td>3.900</td>\n",
              "      <td>967</td>\n",
              "      <td>14M</td>\n",
              "      <td>500,000+</td>\n",
              "      <td>Free</td>\n",
              "      <td>0</td>\n",
              "      <td>Everyone</td>\n",
              "      <td>Art &amp; Design;Pretend Play</td>\n",
              "      <td>January 15, 2018</td>\n",
              "      <td>2.0.0</td>\n",
              "      <td>4.0.3 and up</td>\n",
              "    </tr>\n",
              "    <tr>\n",
              "      <th>2</th>\n",
              "      <td>U Launcher Lite – FREE Live Cool Themes, Hide ...</td>\n",
              "      <td>ART_AND_DESIGN</td>\n",
              "      <td>4.700</td>\n",
              "      <td>87510</td>\n",
              "      <td>8.7M</td>\n",
              "      <td>5,000,000+</td>\n",
              "      <td>Free</td>\n",
              "      <td>0</td>\n",
              "      <td>Everyone</td>\n",
              "      <td>Art &amp; Design</td>\n",
              "      <td>August 1, 2018</td>\n",
              "      <td>1.2.4</td>\n",
              "      <td>4.0.3 and up</td>\n",
              "    </tr>\n",
              "    <tr>\n",
              "      <th>3</th>\n",
              "      <td>Sketch - Draw &amp; Paint</td>\n",
              "      <td>ART_AND_DESIGN</td>\n",
              "      <td>4.500</td>\n",
              "      <td>215644</td>\n",
              "      <td>25M</td>\n",
              "      <td>50,000,000+</td>\n",
              "      <td>Free</td>\n",
              "      <td>0</td>\n",
              "      <td>Teen</td>\n",
              "      <td>Art &amp; Design</td>\n",
              "      <td>June 8, 2018</td>\n",
              "      <td>Varies with device</td>\n",
              "      <td>4.2 and up</td>\n",
              "    </tr>\n",
              "    <tr>\n",
              "      <th>4</th>\n",
              "      <td>Pixel Draw - Number Art Coloring Book</td>\n",
              "      <td>ART_AND_DESIGN</td>\n",
              "      <td>4.300</td>\n",
              "      <td>967</td>\n",
              "      <td>2.8M</td>\n",
              "      <td>100,000+</td>\n",
              "      <td>Free</td>\n",
              "      <td>0</td>\n",
              "      <td>Everyone</td>\n",
              "      <td>Art &amp; Design;Creativity</td>\n",
              "      <td>June 20, 2018</td>\n",
              "      <td>1.1</td>\n",
              "      <td>4.4 and up</td>\n",
              "    </tr>\n",
              "  </tbody>\n",
              "</table>\n",
              "</div>"
            ],
            "text/plain": [
              "                                                 App        Category  Rating  \\\n",
              "0     Photo Editor & Candy Camera & Grid & ScrapBook  ART_AND_DESIGN   4.100   \n",
              "1                                Coloring book moana  ART_AND_DESIGN   3.900   \n",
              "2  U Launcher Lite – FREE Live Cool Themes, Hide ...  ART_AND_DESIGN   4.700   \n",
              "3                              Sketch - Draw & Paint  ART_AND_DESIGN   4.500   \n",
              "4              Pixel Draw - Number Art Coloring Book  ART_AND_DESIGN   4.300   \n",
              "\n",
              "   Reviews  Size     Installs  Type Price Content Rating  \\\n",
              "0      159   19M      10,000+  Free     0       Everyone   \n",
              "1      967   14M     500,000+  Free     0       Everyone   \n",
              "2    87510  8.7M   5,000,000+  Free     0       Everyone   \n",
              "3   215644   25M  50,000,000+  Free     0           Teen   \n",
              "4      967  2.8M     100,000+  Free     0       Everyone   \n",
              "\n",
              "                      Genres      Last Updated         Current Ver  \\\n",
              "0               Art & Design   January 7, 2018               1.0.0   \n",
              "1  Art & Design;Pretend Play  January 15, 2018               2.0.0   \n",
              "2               Art & Design    August 1, 2018               1.2.4   \n",
              "3               Art & Design      June 8, 2018  Varies with device   \n",
              "4    Art & Design;Creativity     June 20, 2018                 1.1   \n",
              "\n",
              "    Android Ver  \n",
              "0  4.0.3 and up  \n",
              "1  4.0.3 and up  \n",
              "2  4.0.3 and up  \n",
              "3    4.2 and up  \n",
              "4    4.4 and up  "
            ]
          },
          "metadata": {
            "tags": []
          },
          "execution_count": 7
        }
      ]
    },
    {
      "cell_type": "markdown",
      "metadata": {
        "id": "KiKAwOf1gmUA"
      },
      "source": [
        "Se utilizan algunas técnicas de [_Regex_](https://es.wikipedia.org/wiki/Expresi%C3%B3n_regular) para dividir el dataset en aquellos que tienen el tamaño en Kb para convertir estos regsitros en específico a su equivalencia en Mb"
      ]
    },
    {
      "cell_type": "code",
      "metadata": {
        "colab": {
          "base_uri": "https://localhost:8080/"
        },
        "id": "DKi8viF0SmVr",
        "outputId": "f720a76a-dd1f-406e-de53-6e0b118bb830"
      },
      "source": [
        "df_kb = df[df['Size'].str.contains(r\"k\", regex=True, )]\n",
        "df_kb[\"Size\"] = df_kb[\"Size\"].str.extract(r'([0-9]+)')\n",
        "df_kb['Size'] = pd.to_numeric(df_kb['Size'])\n",
        "df_kb['Size'] = df_kb['Size']/1024;"
      ],
      "execution_count": null,
      "outputs": [
        {
          "output_type": "stream",
          "text": [
            "/usr/local/lib/python3.7/dist-packages/ipykernel_launcher.py:2: SettingWithCopyWarning: \n",
            "A value is trying to be set on a copy of a slice from a DataFrame.\n",
            "Try using .loc[row_indexer,col_indexer] = value instead\n",
            "\n",
            "See the caveats in the documentation: https://pandas.pydata.org/pandas-docs/stable/user_guide/indexing.html#returning-a-view-versus-a-copy\n",
            "  \n",
            "/usr/local/lib/python3.7/dist-packages/ipykernel_launcher.py:3: SettingWithCopyWarning: \n",
            "A value is trying to be set on a copy of a slice from a DataFrame.\n",
            "Try using .loc[row_indexer,col_indexer] = value instead\n",
            "\n",
            "See the caveats in the documentation: https://pandas.pydata.org/pandas-docs/stable/user_guide/indexing.html#returning-a-view-versus-a-copy\n",
            "  This is separate from the ipykernel package so we can avoid doing imports until\n",
            "/usr/local/lib/python3.7/dist-packages/ipykernel_launcher.py:4: SettingWithCopyWarning: \n",
            "A value is trying to be set on a copy of a slice from a DataFrame.\n",
            "Try using .loc[row_indexer,col_indexer] = value instead\n",
            "\n",
            "See the caveats in the documentation: https://pandas.pydata.org/pandas-docs/stable/user_guide/indexing.html#returning-a-view-versus-a-copy\n",
            "  after removing the cwd from sys.path.\n"
          ],
          "name": "stderr"
        }
      ]
    },
    {
      "cell_type": "markdown",
      "metadata": {
        "id": "Jif2tV_xhMrR"
      },
      "source": [
        "En la parte restante del dataset no quedamos con aquellos que estan medidos en Mb, quitamos los caracteres que causan problemas y lo convertimos a formato númerico."
      ]
    },
    {
      "cell_type": "code",
      "metadata": {
        "colab": {
          "base_uri": "https://localhost:8080/"
        },
        "id": "2UDU1a9TggeL",
        "outputId": "c9ec8072-2d26-45dd-888e-205782fc44f4"
      },
      "source": [
        "df_Mb = df[df['Size'].str.contains(r\"M\", regex=True, )]\n",
        "df_Mb[\"Size\"] = df_Mb[\"Size\"].str.extract(r'([0-9]+.?[0-9]+)')\n",
        "df_Mb['Size'] = pd.to_numeric(df_Mb['Size'])"
      ],
      "execution_count": null,
      "outputs": [
        {
          "output_type": "stream",
          "text": [
            "/usr/local/lib/python3.7/dist-packages/ipykernel_launcher.py:2: SettingWithCopyWarning: \n",
            "A value is trying to be set on a copy of a slice from a DataFrame.\n",
            "Try using .loc[row_indexer,col_indexer] = value instead\n",
            "\n",
            "See the caveats in the documentation: https://pandas.pydata.org/pandas-docs/stable/user_guide/indexing.html#returning-a-view-versus-a-copy\n",
            "  \n",
            "/usr/local/lib/python3.7/dist-packages/ipykernel_launcher.py:3: SettingWithCopyWarning: \n",
            "A value is trying to be set on a copy of a slice from a DataFrame.\n",
            "Try using .loc[row_indexer,col_indexer] = value instead\n",
            "\n",
            "See the caveats in the documentation: https://pandas.pydata.org/pandas-docs/stable/user_guide/indexing.html#returning-a-view-versus-a-copy\n",
            "  This is separate from the ipykernel package so we can avoid doing imports until\n"
          ],
          "name": "stderr"
        }
      ]
    },
    {
      "cell_type": "markdown",
      "metadata": {
        "id": "CLyDrC9RiHCt"
      },
      "source": [
        "Dado que la base de datos es pequeña (poco más de 10,000 registros), aplicamos un ciclo _for_ para modificar la variable _Size_ delñ dataset original. Y con los regsitros que no contienen información númerica los sustituimos por un valor **Nan**"
      ]
    },
    {
      "cell_type": "code",
      "metadata": {
        "id": "4chTkOTgiBuI"
      },
      "source": [
        "for index in df.index:\n",
        "  if index in df_kb.index:\n",
        "    df.loc[index, 'Size'] = df_kb.loc[index, 'Size']\n",
        "  elif index in df_Mb.index:\n",
        "    df.loc[index, 'Size'] = df_Mb.loc[index, 'Size']\n",
        "  else:\n",
        "    df.loc[index, 'Size'] = df.loc[index, 'Size']"
      ],
      "execution_count": null,
      "outputs": []
    },
    {
      "cell_type": "markdown",
      "metadata": {
        "id": "qEcDqUfPkcmV"
      },
      "source": [
        "Y ahora la variable Size ya es un valor númerico."
      ]
    },
    {
      "cell_type": "code",
      "metadata": {
        "id": "xbDqieIUmu4L"
      },
      "source": [
        "df['Size'] = df['Size'].replace({'Varies with device': None})\n",
        "df['Size'] = pd.to_numeric(df['Size'], errors= 'coerce')"
      ],
      "execution_count": null,
      "outputs": []
    },
    {
      "cell_type": "markdown",
      "metadata": {
        "id": "qutLp3MyoHWU"
      },
      "source": [
        "Para la variable _Installs_ solamente ocupamos la función _replace_ para quitar los caracteres especiales y quedarnos solo con el valor númerico."
      ]
    },
    {
      "cell_type": "code",
      "metadata": {
        "id": "qlnkDNrcoGQ6"
      },
      "source": [
        "df['Installs'] = df['Installs'].str.replace(',','')\n",
        "df['Installs'] = df['Installs'].str.replace('+','')\n",
        "df['Installs'] = pd.to_numeric(df['Installs'], errors= 'coerce')"
      ],
      "execution_count": null,
      "outputs": []
    },
    {
      "cell_type": "markdown",
      "metadata": {
        "id": "A0BUorz5tRJ0"
      },
      "source": [
        "La columna _Type_ es categoríca binaria, por lo que la separamos en dos columnas donde el valor es solo cero o uno dependiendo si la App es de paga o no lo es."
      ]
    },
    {
      "cell_type": "code",
      "metadata": {
        "id": "qkNFxxjjrWsU"
      },
      "source": [
        "df = pd.get_dummies(df, columns= ['Type'])"
      ],
      "execution_count": null,
      "outputs": []
    },
    {
      "cell_type": "markdown",
      "metadata": {
        "id": "V6ZgZ3BGu6sY"
      },
      "source": [
        "La columna _Price_ solo presenta el caracter especial \"$\", por lo que solo hay que omitirlo y convertir la variable a valor númerico."
      ]
    },
    {
      "cell_type": "code",
      "metadata": {
        "id": "yflg2PZMuXl5"
      },
      "source": [
        "df['Price'] = df['Price'].str.replace('$', '')\n",
        "\n",
        "df['Price'] = pd.to_numeric(df['Price'], errors= 'coerce')"
      ],
      "execution_count": null,
      "outputs": []
    },
    {
      "cell_type": "markdown",
      "metadata": {
        "id": "23KrfKjbmNub"
      },
      "source": [
        "De la variable que contiene la fecha de la ultima actualización, no quedamos con el año, para utilizar esta variable posteriormente."
      ]
    },
    {
      "cell_type": "code",
      "metadata": {
        "id": "maA6c8lbvlB_"
      },
      "source": [
        "df['Last_year_updated'] = df['Last Updated'].str.extract(r'(\\b[0-9]+$)')\n",
        "df['Last_year_updated'] = pd.to_numeric(df['Last_year_updated'])"
      ],
      "execution_count": null,
      "outputs": []
    },
    {
      "cell_type": "markdown",
      "metadata": {
        "id": "nwd-sKeamiYW"
      },
      "source": [
        "Borramos la variable _Genres_ ya que es una variable muy específica para cada aplicación"
      ]
    },
    {
      "cell_type": "code",
      "metadata": {
        "id": "PFUcc0FWyeta"
      },
      "source": [
        "df = df.drop(columns= ['Genres'])"
      ],
      "execution_count": null,
      "outputs": []
    },
    {
      "cell_type": "markdown",
      "metadata": {
        "id": "0MqMPcbJm_5Q"
      },
      "source": [
        "Reordenamos las columnas y nos queda este resultado."
      ]
    },
    {
      "cell_type": "code",
      "metadata": {
        "colab": {
          "base_uri": "https://localhost:8080/",
          "height": 564
        },
        "id": "uQJ2QhqHzqEa",
        "outputId": "3ffca2b5-0265-46e6-b3c7-85423fe5ed27"
      },
      "source": [
        "df = df.reindex(columns=['App', 'Category',  'Reviews', 'Size', 'Installs', 'Type_Free', 'Type_Paid', 'Price',\n",
        "       'Content Rating', 'Last Updated', 'Last_year_updated', 'Current Ver', 'Android Ver', 'Rating' ])\n",
        "df.head()"
      ],
      "execution_count": null,
      "outputs": [
        {
          "output_type": "execute_result",
          "data": {
            "text/html": [
              "<div>\n",
              "<style scoped>\n",
              "    .dataframe tbody tr th:only-of-type {\n",
              "        vertical-align: middle;\n",
              "    }\n",
              "\n",
              "    .dataframe tbody tr th {\n",
              "        vertical-align: top;\n",
              "    }\n",
              "\n",
              "    .dataframe thead th {\n",
              "        text-align: right;\n",
              "    }\n",
              "</style>\n",
              "<table border=\"1\" class=\"dataframe\">\n",
              "  <thead>\n",
              "    <tr style=\"text-align: right;\">\n",
              "      <th></th>\n",
              "      <th>App</th>\n",
              "      <th>Category</th>\n",
              "      <th>Reviews</th>\n",
              "      <th>Size</th>\n",
              "      <th>Installs</th>\n",
              "      <th>Type_Free</th>\n",
              "      <th>Type_Paid</th>\n",
              "      <th>Price</th>\n",
              "      <th>Content Rating</th>\n",
              "      <th>Last Updated</th>\n",
              "      <th>Last_year_updated</th>\n",
              "      <th>Current Ver</th>\n",
              "      <th>Android Ver</th>\n",
              "      <th>Rating</th>\n",
              "    </tr>\n",
              "  </thead>\n",
              "  <tbody>\n",
              "    <tr>\n",
              "      <th>0</th>\n",
              "      <td>Photo Editor &amp; Candy Camera &amp; Grid &amp; ScrapBook</td>\n",
              "      <td>ART_AND_DESIGN</td>\n",
              "      <td>159</td>\n",
              "      <td>19.000</td>\n",
              "      <td>10000</td>\n",
              "      <td>1</td>\n",
              "      <td>0</td>\n",
              "      <td>0.000</td>\n",
              "      <td>Everyone</td>\n",
              "      <td>January 7, 2018</td>\n",
              "      <td>2018</td>\n",
              "      <td>1.0.0</td>\n",
              "      <td>4.0.3 and up</td>\n",
              "      <td>4.100</td>\n",
              "    </tr>\n",
              "    <tr>\n",
              "      <th>1</th>\n",
              "      <td>Coloring book moana</td>\n",
              "      <td>ART_AND_DESIGN</td>\n",
              "      <td>967</td>\n",
              "      <td>14.000</td>\n",
              "      <td>500000</td>\n",
              "      <td>1</td>\n",
              "      <td>0</td>\n",
              "      <td>0.000</td>\n",
              "      <td>Everyone</td>\n",
              "      <td>January 15, 2018</td>\n",
              "      <td>2018</td>\n",
              "      <td>2.0.0</td>\n",
              "      <td>4.0.3 and up</td>\n",
              "      <td>3.900</td>\n",
              "    </tr>\n",
              "    <tr>\n",
              "      <th>2</th>\n",
              "      <td>U Launcher Lite – FREE Live Cool Themes, Hide ...</td>\n",
              "      <td>ART_AND_DESIGN</td>\n",
              "      <td>87510</td>\n",
              "      <td>8.700</td>\n",
              "      <td>5000000</td>\n",
              "      <td>1</td>\n",
              "      <td>0</td>\n",
              "      <td>0.000</td>\n",
              "      <td>Everyone</td>\n",
              "      <td>August 1, 2018</td>\n",
              "      <td>2018</td>\n",
              "      <td>1.2.4</td>\n",
              "      <td>4.0.3 and up</td>\n",
              "      <td>4.700</td>\n",
              "    </tr>\n",
              "    <tr>\n",
              "      <th>3</th>\n",
              "      <td>Sketch - Draw &amp; Paint</td>\n",
              "      <td>ART_AND_DESIGN</td>\n",
              "      <td>215644</td>\n",
              "      <td>25.000</td>\n",
              "      <td>50000000</td>\n",
              "      <td>1</td>\n",
              "      <td>0</td>\n",
              "      <td>0.000</td>\n",
              "      <td>Teen</td>\n",
              "      <td>June 8, 2018</td>\n",
              "      <td>2018</td>\n",
              "      <td>Varies with device</td>\n",
              "      <td>4.2 and up</td>\n",
              "      <td>4.500</td>\n",
              "    </tr>\n",
              "    <tr>\n",
              "      <th>4</th>\n",
              "      <td>Pixel Draw - Number Art Coloring Book</td>\n",
              "      <td>ART_AND_DESIGN</td>\n",
              "      <td>967</td>\n",
              "      <td>2.800</td>\n",
              "      <td>100000</td>\n",
              "      <td>1</td>\n",
              "      <td>0</td>\n",
              "      <td>0.000</td>\n",
              "      <td>Everyone</td>\n",
              "      <td>June 20, 2018</td>\n",
              "      <td>2018</td>\n",
              "      <td>1.1</td>\n",
              "      <td>4.4 and up</td>\n",
              "      <td>4.300</td>\n",
              "    </tr>\n",
              "  </tbody>\n",
              "</table>\n",
              "</div>"
            ],
            "text/plain": [
              "                                                 App        Category  Reviews  \\\n",
              "0     Photo Editor & Candy Camera & Grid & ScrapBook  ART_AND_DESIGN      159   \n",
              "1                                Coloring book moana  ART_AND_DESIGN      967   \n",
              "2  U Launcher Lite – FREE Live Cool Themes, Hide ...  ART_AND_DESIGN    87510   \n",
              "3                              Sketch - Draw & Paint  ART_AND_DESIGN   215644   \n",
              "4              Pixel Draw - Number Art Coloring Book  ART_AND_DESIGN      967   \n",
              "\n",
              "    Size  Installs  Type_Free  Type_Paid  Price Content Rating  \\\n",
              "0 19.000     10000          1          0  0.000       Everyone   \n",
              "1 14.000    500000          1          0  0.000       Everyone   \n",
              "2  8.700   5000000          1          0  0.000       Everyone   \n",
              "3 25.000  50000000          1          0  0.000           Teen   \n",
              "4  2.800    100000          1          0  0.000       Everyone   \n",
              "\n",
              "       Last Updated  Last_year_updated         Current Ver   Android Ver  \\\n",
              "0   January 7, 2018               2018               1.0.0  4.0.3 and up   \n",
              "1  January 15, 2018               2018               2.0.0  4.0.3 and up   \n",
              "2    August 1, 2018               2018               1.2.4  4.0.3 and up   \n",
              "3      June 8, 2018               2018  Varies with device    4.2 and up   \n",
              "4     June 20, 2018               2018                 1.1    4.4 and up   \n",
              "\n",
              "   Rating  \n",
              "0   4.100  \n",
              "1   3.900  \n",
              "2   4.700  \n",
              "3   4.500  \n",
              "4   4.300  "
            ]
          },
          "metadata": {
            "tags": []
          },
          "execution_count": 17
        }
      ]
    },
    {
      "cell_type": "markdown",
      "metadata": {
        "id": "5VYkq1yu0uoH"
      },
      "source": [
        "### Limpiando los _Nan's_\n",
        "\n",
        "Primero debemos ver que variables continen valores vacíos."
      ]
    },
    {
      "cell_type": "code",
      "metadata": {
        "colab": {
          "base_uri": "https://localhost:8080/"
        },
        "id": "qWjxUuJf0LpP",
        "outputId": "5dc1970e-ee3d-4407-b326-9677a1969287"
      },
      "source": [
        "df.isna().sum()"
      ],
      "execution_count": null,
      "outputs": [
        {
          "output_type": "execute_result",
          "data": {
            "text/plain": [
              "App                     0\n",
              "Category                0\n",
              "Reviews                 0\n",
              "Size                 1695\n",
              "Installs                0\n",
              "Type_Free               0\n",
              "Type_Paid               0\n",
              "Price                   0\n",
              "Content Rating          0\n",
              "Last Updated            0\n",
              "Last_year_updated       0\n",
              "Current Ver             8\n",
              "Android Ver             2\n",
              "Rating               1474\n",
              "dtype: int64"
            ]
          },
          "metadata": {
            "tags": []
          },
          "execution_count": 18
        }
      ]
    },
    {
      "cell_type": "markdown",
      "metadata": {
        "id": "nKjkY75tnXkJ"
      },
      "source": [
        "Para rellenar los Nan en la variable _Size_ creamos un dataset auxiliar que contenga la mediana del tamaño de la aplicación por categória a que pertenece.\n",
        "\n",
        "Se utiliza la mediana ya que es menos propensa a verse afecatada por valores atípicos que pudieran haber en esta columna."
      ]
    },
    {
      "cell_type": "code",
      "metadata": {
        "colab": {
          "base_uri": "https://localhost:8080/",
          "height": 235
        },
        "id": "wZdESxzz2yXC",
        "outputId": "ec14f78b-d80d-4164-8e26-5662e58c4d2e"
      },
      "source": [
        "info = df.groupby('Category')['Size'].median().to_frame()\n",
        "info.head()"
      ],
      "execution_count": null,
      "outputs": [
        {
          "output_type": "execute_result",
          "data": {
            "text/html": [
              "<div>\n",
              "<style scoped>\n",
              "    .dataframe tbody tr th:only-of-type {\n",
              "        vertical-align: middle;\n",
              "    }\n",
              "\n",
              "    .dataframe tbody tr th {\n",
              "        vertical-align: top;\n",
              "    }\n",
              "\n",
              "    .dataframe thead th {\n",
              "        text-align: right;\n",
              "    }\n",
              "</style>\n",
              "<table border=\"1\" class=\"dataframe\">\n",
              "  <thead>\n",
              "    <tr style=\"text-align: right;\">\n",
              "      <th></th>\n",
              "      <th>Size</th>\n",
              "    </tr>\n",
              "    <tr>\n",
              "      <th>Category</th>\n",
              "      <th></th>\n",
              "    </tr>\n",
              "  </thead>\n",
              "  <tbody>\n",
              "    <tr>\n",
              "      <th>ART_AND_DESIGN</th>\n",
              "      <td>8.950</td>\n",
              "    </tr>\n",
              "    <tr>\n",
              "      <th>AUTO_AND_VEHICLES</th>\n",
              "      <td>16.000</td>\n",
              "    </tr>\n",
              "    <tr>\n",
              "      <th>BEAUTY</th>\n",
              "      <td>9.200</td>\n",
              "    </tr>\n",
              "    <tr>\n",
              "      <th>BOOKS_AND_REFERENCE</th>\n",
              "      <td>7.400</td>\n",
              "    </tr>\n",
              "    <tr>\n",
              "      <th>BUSINESS</th>\n",
              "      <td>9.050</td>\n",
              "    </tr>\n",
              "  </tbody>\n",
              "</table>\n",
              "</div>"
            ],
            "text/plain": [
              "                      Size\n",
              "Category                  \n",
              "ART_AND_DESIGN       8.950\n",
              "AUTO_AND_VEHICLES   16.000\n",
              "BEAUTY               9.200\n",
              "BOOKS_AND_REFERENCE  7.400\n",
              "BUSINESS             9.050"
            ]
          },
          "metadata": {
            "tags": []
          },
          "execution_count": 19
        }
      ]
    },
    {
      "cell_type": "markdown",
      "metadata": {
        "id": "kXpLmZTKonEA"
      },
      "source": [
        "Y solamente rellenamos esos Nan."
      ]
    },
    {
      "cell_type": "code",
      "metadata": {
        "id": "uBhsyY9E6sq_"
      },
      "source": [
        "for index in df.index:\n",
        "  if np.isnan(df.loc[index, 'Size']) == True:\n",
        "    aux = df.loc[index, 'Category']\n",
        "    df.loc[index, 'Size'] = info.loc[aux, 'Size']"
      ],
      "execution_count": null,
      "outputs": []
    },
    {
      "cell_type": "code",
      "metadata": {
        "colab": {
          "base_uri": "https://localhost:8080/"
        },
        "id": "YUwkdkJX8ypO",
        "outputId": "9be5f3f0-a837-4412-c7a5-e7dc5a472e95"
      },
      "source": [
        "df.isna().sum()"
      ],
      "execution_count": null,
      "outputs": [
        {
          "output_type": "execute_result",
          "data": {
            "text/plain": [
              "App                     0\n",
              "Category                0\n",
              "Reviews                 0\n",
              "Size                    0\n",
              "Installs                0\n",
              "Type_Free               0\n",
              "Type_Paid               0\n",
              "Price                   0\n",
              "Content Rating          0\n",
              "Last Updated            0\n",
              "Last_year_updated       0\n",
              "Current Ver             8\n",
              "Android Ver             2\n",
              "Rating               1474\n",
              "dtype: int64"
            ]
          },
          "metadata": {
            "tags": []
          },
          "execution_count": 21
        }
      ]
    },
    {
      "cell_type": "markdown",
      "metadata": {
        "id": "Yf9xAfSoo2BV"
      },
      "source": [
        "Para las columnas _Current Ver_ y _Android Ver_ solamente sustituimos los Nan por 'No_info'."
      ]
    },
    {
      "cell_type": "code",
      "metadata": {
        "id": "1GgIB521-Hvq"
      },
      "source": [
        "df['Current Ver'] = df['Current Ver'].replace({None: 'No_info'})\n",
        "df['Android Ver'] = df['Android Ver'].replace({None: 'No_info'})"
      ],
      "execution_count": null,
      "outputs": []
    },
    {
      "cell_type": "markdown",
      "metadata": {
        "id": "QWiI7u7_pIen"
      },
      "source": [
        "Solo hay Nan en la variable objetivo, y pra esta había dos opciones:\n",
        "\n",
        "1. Utilizar regresión lineal con las demás variables para tratar de estimar estos Ratigs.\n",
        "\n",
        "2. Borrar estos registros.\n",
        "\n",
        "Se trato de ajustar un modelo de regresión lineal pero el rendimiento fue muy pobre, por lo que se decidio omitir estos registros."
      ]
    },
    {
      "cell_type": "code",
      "metadata": {
        "colab": {
          "base_uri": "https://localhost:8080/"
        },
        "id": "loqHEr4E-qwB",
        "outputId": "fd042f86-f9e8-4a9d-933a-3a9abc9de1bd"
      },
      "source": [
        "df.isna().sum()"
      ],
      "execution_count": null,
      "outputs": [
        {
          "output_type": "execute_result",
          "data": {
            "text/plain": [
              "App                     0\n",
              "Category                0\n",
              "Reviews                 0\n",
              "Size                    0\n",
              "Installs                0\n",
              "Type_Free               0\n",
              "Type_Paid               0\n",
              "Price                   0\n",
              "Content Rating          0\n",
              "Last Updated            0\n",
              "Last_year_updated       0\n",
              "Current Ver             0\n",
              "Android Ver             0\n",
              "Rating               1474\n",
              "dtype: int64"
            ]
          },
          "metadata": {
            "tags": []
          },
          "execution_count": 23
        }
      ]
    },
    {
      "cell_type": "code",
      "metadata": {
        "id": "E-0-8pEKs25j"
      },
      "source": [
        "df = df.dropna(subset = ['Rating'])"
      ],
      "execution_count": null,
      "outputs": []
    },
    {
      "cell_type": "markdown",
      "metadata": {
        "id": "dX9DUlvwpu-L"
      },
      "source": [
        "Y nuestro dataset esta limpio de Nan, cabe mencionar que el tamaño del dataset es de 9,366 registros en 15 columnas."
      ]
    },
    {
      "cell_type": "code",
      "metadata": {
        "colab": {
          "base_uri": "https://localhost:8080/"
        },
        "id": "ku5Gao_Xtryw",
        "outputId": "e7e0e6ca-55f9-456c-8523-0b21a6f50c0b"
      },
      "source": [
        "print('Tamaño final del dataset: ', df.shape)\n",
        "print('-'*100)\n",
        "print(\"Cantidad de Nan's presentes en el dataset: \")\n",
        "df.isna().sum()"
      ],
      "execution_count": null,
      "outputs": [
        {
          "output_type": "stream",
          "text": [
            "Tamaño final del dataset:  (9366, 14)\n",
            "----------------------------------------------------------------------------------------------------\n",
            "Cantidad de Nan's presentes en el dataset: \n"
          ],
          "name": "stdout"
        },
        {
          "output_type": "execute_result",
          "data": {
            "text/plain": [
              "App                  0\n",
              "Category             0\n",
              "Reviews              0\n",
              "Size                 0\n",
              "Installs             0\n",
              "Type_Free            0\n",
              "Type_Paid            0\n",
              "Price                0\n",
              "Content Rating       0\n",
              "Last Updated         0\n",
              "Last_year_updated    0\n",
              "Current Ver          0\n",
              "Android Ver          0\n",
              "Rating               0\n",
              "dtype: int64"
            ]
          },
          "metadata": {
            "tags": []
          },
          "execution_count": 25
        }
      ]
    },
    {
      "cell_type": "markdown",
      "metadata": {
        "id": "WJ7oKeZrqe5o"
      },
      "source": [
        "Por último paso para esta limpieza, definimos una nueva variable llamada 'Exito_app', en la que agruparemos en Rating de la App en algunos de los dos grupos definidos de la siguiente manera, de acuerdo al rating obtenido:\n",
        "\n",
        "- \"0\" significa que es una aplicación de mala a regular.\n",
        "- \"1\" significa que es una buena aplicación.\n",
        "\n",
        "Lo anterior para convertir nuestro problema, que en principio era regresión a un problema de clasificación. "
      ]
    },
    {
      "cell_type": "code",
      "metadata": {
        "colab": {
          "base_uri": "https://localhost:8080/",
          "height": 356
        },
        "id": "FPyU3hL5rk-V",
        "outputId": "e13715b6-a8cd-41b6-87de-34a92057b5e4"
      },
      "source": [
        "sns.distplot(df['Rating'], kde = False, norm_hist= False)"
      ],
      "execution_count": null,
      "outputs": [
        {
          "output_type": "stream",
          "text": [
            "/usr/local/lib/python3.7/dist-packages/seaborn/distributions.py:2557: FutureWarning: `distplot` is a deprecated function and will be removed in a future version. Please adapt your code to use either `displot` (a figure-level function with similar flexibility) or `histplot` (an axes-level function for histograms).\n",
            "  warnings.warn(msg, FutureWarning)\n"
          ],
          "name": "stderr"
        },
        {
          "output_type": "execute_result",
          "data": {
            "text/plain": [
              "<matplotlib.axes._subplots.AxesSubplot at 0x7f21615e4b10>"
            ]
          },
          "metadata": {
            "tags": []
          },
          "execution_count": 26
        },
        {
          "output_type": "display_data",
          "data": {
            "image/png": "[encoded data removed]",
            "text/plain": [
              "<Figure size 432x288 with 1 Axes>"
            ]
          },
          "metadata": {
            "tags": []
          }
        }
      ]
    },
    {
      "cell_type": "code",
      "metadata": {
        "colab": {
          "base_uri": "https://localhost:8080/"
        },
        "id": "mLwSbeG7qedR",
        "outputId": "a9bacca1-db54-4185-ae57-fe1ee9a9f62e"
      },
      "source": [
        "df['Exito_app'] = [0 if df.loc[index , 'Rating'] <= 4 else 1 for index in df.index]\n",
        "\n",
        "print(df['Exito_app'].value_counts())\n",
        "print('-'*100)\n",
        "df['Exito_app'].value_counts()/len(df['Exito_app'])"
      ],
      "execution_count": null,
      "outputs": [
        {
          "output_type": "stream",
          "text": [
            "1    6800\n",
            "0    2566\n",
            "Name: Exito_app, dtype: int64\n",
            "----------------------------------------------------------------------------------------------------\n"
          ],
          "name": "stdout"
        },
        {
          "output_type": "execute_result",
          "data": {
            "text/plain": [
              "1   0.726\n",
              "0   0.274\n",
              "Name: Exito_app, dtype: float64"
            ]
          },
          "metadata": {
            "tags": []
          },
          "execution_count": 27
        }
      ]
    },
    {
      "cell_type": "code",
      "metadata": {
        "id": "wwtBCv_q-8HM"
      },
      "source": [
        "df.columns = ['App', 'Categoria', 'Reviews', 'Tamanio_MB', 'Instalaciones_minimas_estimadas', 'App_gratuita', 'App_pago', 'Precio', 'Rating_del_contenido', \n",
        "              'Ultimo_updated', 'Anio_ultimo_updated', 'Version_actual', 'Version_Android', 'Rating', 'Exito_app']"
      ],
      "execution_count": null,
      "outputs": []
    },
    {
      "cell_type": "code",
      "metadata": {
        "colab": {
          "base_uri": "https://localhost:8080/",
          "height": 547
        },
        "id": "3Qam2LCj-_fH",
        "outputId": "e74ed145-6d1d-42b9-9db5-2b1f8f7d5e1a"
      },
      "source": [
        "df.head()"
      ],
      "execution_count": null,
      "outputs": [
        {
          "output_type": "execute_result",
          "data": {
            "text/html": [
              "<div>\n",
              "<style scoped>\n",
              "    .dataframe tbody tr th:only-of-type {\n",
              "        vertical-align: middle;\n",
              "    }\n",
              "\n",
              "    .dataframe tbody tr th {\n",
              "        vertical-align: top;\n",
              "    }\n",
              "\n",
              "    .dataframe thead th {\n",
              "        text-align: right;\n",
              "    }\n",
              "</style>\n",
              "<table border=\"1\" class=\"dataframe\">\n",
              "  <thead>\n",
              "    <tr style=\"text-align: right;\">\n",
              "      <th></th>\n",
              "      <th>App</th>\n",
              "      <th>Categoria</th>\n",
              "      <th>Reviews</th>\n",
              "      <th>Tamanio_MB</th>\n",
              "      <th>Instalaciones_minimas_estimadas</th>\n",
              "      <th>App_gratuita</th>\n",
              "      <th>App_pago</th>\n",
              "      <th>Precio</th>\n",
              "      <th>Rating_del_contenido</th>\n",
              "      <th>Ultimo_updated</th>\n",
              "      <th>Anio_ultimo_updated</th>\n",
              "      <th>Version_actual</th>\n",
              "      <th>Version_Android</th>\n",
              "      <th>Rating</th>\n",
              "      <th>Exito_app</th>\n",
              "    </tr>\n",
              "  </thead>\n",
              "  <tbody>\n",
              "    <tr>\n",
              "      <th>0</th>\n",
              "      <td>Photo Editor &amp; Candy Camera &amp; Grid &amp; ScrapBook</td>\n",
              "      <td>ART_AND_DESIGN</td>\n",
              "      <td>159</td>\n",
              "      <td>19.000</td>\n",
              "      <td>10000</td>\n",
              "      <td>1</td>\n",
              "      <td>0</td>\n",
              "      <td>0.000</td>\n",
              "      <td>Everyone</td>\n",
              "      <td>January 7, 2018</td>\n",
              "      <td>2018</td>\n",
              "      <td>1.0.0</td>\n",
              "      <td>4.0.3 and up</td>\n",
              "      <td>4.100</td>\n",
              "      <td>1</td>\n",
              "    </tr>\n",
              "    <tr>\n",
              "      <th>1</th>\n",
              "      <td>Coloring book moana</td>\n",
              "      <td>ART_AND_DESIGN</td>\n",
              "      <td>967</td>\n",
              "      <td>14.000</td>\n",
              "      <td>500000</td>\n",
              "      <td>1</td>\n",
              "      <td>0</td>\n",
              "      <td>0.000</td>\n",
              "      <td>Everyone</td>\n",
              "      <td>January 15, 2018</td>\n",
              "      <td>2018</td>\n",
              "      <td>2.0.0</td>\n",
              "      <td>4.0.3 and up</td>\n",
              "      <td>3.900</td>\n",
              "      <td>0</td>\n",
              "    </tr>\n",
              "    <tr>\n",
              "      <th>2</th>\n",
              "      <td>U Launcher Lite – FREE Live Cool Themes, Hide ...</td>\n",
              "      <td>ART_AND_DESIGN</td>\n",
              "      <td>87510</td>\n",
              "      <td>8.700</td>\n",
              "      <td>5000000</td>\n",
              "      <td>1</td>\n",
              "      <td>0</td>\n",
              "      <td>0.000</td>\n",
              "      <td>Everyone</td>\n",
              "      <td>August 1, 2018</td>\n",
              "      <td>2018</td>\n",
              "      <td>1.2.4</td>\n",
              "      <td>4.0.3 and up</td>\n",
              "      <td>4.700</td>\n",
              "      <td>1</td>\n",
              "    </tr>\n",
              "    <tr>\n",
              "      <th>3</th>\n",
              "      <td>Sketch - Draw &amp; Paint</td>\n",
              "      <td>ART_AND_DESIGN</td>\n",
              "      <td>215644</td>\n",
              "      <td>25.000</td>\n",
              "      <td>50000000</td>\n",
              "      <td>1</td>\n",
              "      <td>0</td>\n",
              "      <td>0.000</td>\n",
              "      <td>Teen</td>\n",
              "      <td>June 8, 2018</td>\n",
              "      <td>2018</td>\n",
              "      <td>Varies with device</td>\n",
              "      <td>4.2 and up</td>\n",
              "      <td>4.500</td>\n",
              "      <td>1</td>\n",
              "    </tr>\n",
              "    <tr>\n",
              "      <th>4</th>\n",
              "      <td>Pixel Draw - Number Art Coloring Book</td>\n",
              "      <td>ART_AND_DESIGN</td>\n",
              "      <td>967</td>\n",
              "      <td>2.800</td>\n",
              "      <td>100000</td>\n",
              "      <td>1</td>\n",
              "      <td>0</td>\n",
              "      <td>0.000</td>\n",
              "      <td>Everyone</td>\n",
              "      <td>June 20, 2018</td>\n",
              "      <td>2018</td>\n",
              "      <td>1.1</td>\n",
              "      <td>4.4 and up</td>\n",
              "      <td>4.300</td>\n",
              "      <td>1</td>\n",
              "    </tr>\n",
              "  </tbody>\n",
              "</table>\n",
              "</div>"
            ],
            "text/plain": [
              "                                                 App       Categoria  Reviews  \\\n",
              "0     Photo Editor & Candy Camera & Grid & ScrapBook  ART_AND_DESIGN      159   \n",
              "1                                Coloring book moana  ART_AND_DESIGN      967   \n",
              "2  U Launcher Lite – FREE Live Cool Themes, Hide ...  ART_AND_DESIGN    87510   \n",
              "3                              Sketch - Draw & Paint  ART_AND_DESIGN   215644   \n",
              "4              Pixel Draw - Number Art Coloring Book  ART_AND_DESIGN      967   \n",
              "\n",
              "   Tamanio_MB  Instalaciones_minimas_estimadas  App_gratuita  App_pago  \\\n",
              "0      19.000                            10000             1         0   \n",
              "1      14.000                           500000             1         0   \n",
              "2       8.700                          5000000             1         0   \n",
              "3      25.000                         50000000             1         0   \n",
              "4       2.800                           100000             1         0   \n",
              "\n",
              "   Precio Rating_del_contenido    Ultimo_updated  Anio_ultimo_updated  \\\n",
              "0   0.000             Everyone   January 7, 2018                 2018   \n",
              "1   0.000             Everyone  January 15, 2018                 2018   \n",
              "2   0.000             Everyone    August 1, 2018                 2018   \n",
              "3   0.000                 Teen      June 8, 2018                 2018   \n",
              "4   0.000             Everyone     June 20, 2018                 2018   \n",
              "\n",
              "       Version_actual Version_Android  Rating  Exito_app  \n",
              "0               1.0.0    4.0.3 and up   4.100          1  \n",
              "1               2.0.0    4.0.3 and up   3.900          0  \n",
              "2               1.2.4    4.0.3 and up   4.700          1  \n",
              "3  Varies with device      4.2 and up   4.500          1  \n",
              "4                 1.1      4.4 and up   4.300          1  "
            ]
          },
          "metadata": {
            "tags": []
          },
          "execution_count": 29
        }
      ]
    },
    {
      "cell_type": "code",
      "metadata": {
        "id": "GvhDqw58AEyy"
      },
      "source": [
        "df.to_csv('/content/drive/MyDrive/Dataset Proyecto/Bedu_Proyecto_Modulo_4/Dataset_limpio.csv')"
      ],
      "execution_count": null,
      "outputs": []
    },
    {
      "cell_type": "markdown",
      "metadata": {
        "id": "g5FdjpFskaaz"
      },
      "source": [
        "## **Analisis exploratorio de los datos.**"
      ]
    },
    {
      "cell_type": "code",
      "metadata": {
        "id": "4c4UNKKKAYkt"
      },
      "source": [
        "df_limpio = pd.read_csv('/content/drive/MyDrive/Dataset Proyecto/Bedu_Proyecto_Modulo_4/Dataset_limpio.csv', index_col= 0)"
      ],
      "execution_count": null,
      "outputs": []
    },
    {
      "cell_type": "code",
      "metadata": {
        "id": "d2Vw2nZLd3d2"
      },
      "source": [
        "import pandas as pd\n",
        "import numpy as np\n",
        "from scipy import stats\n",
        "import matplotlib.pyplot as plt\n",
        "import seaborn as sns"
      ],
      "execution_count": null,
      "outputs": []
    },
    {
      "cell_type": "markdown",
      "metadata": {
        "id": "JJkCffCaXMPV"
      },
      "source": [
        "### **Estimados de localización y variabilidad.**\n",
        "\n",
        "Estos estimados nos dan una idea del lugar donde se centran nuestros datos, esto no puede resolver algunas preguntas, tales como: ¿Tengo datos sesgados hacía algún lugar? ¿Tengo presencia de datos atípicos?. Es importante tener en cuenta que estos estimados solo se pueden obtener de las variable númericas presnetes en nuestro dataset."
      ]
    },
    {
      "cell_type": "code",
      "metadata": {
        "colab": {
          "base_uri": "https://localhost:8080/",
          "height": 297
        },
        "id": "BGADHauiXJ1c",
        "outputId": "5506f64b-da78-4f18-ec50-fea2faea6482"
      },
      "source": [
        "data_numerica = df_limpio[['Reviews', 'Tamanio_MB', 'Instalaciones_minimas_estimadas', 'Precio', 'Rating']]\n",
        "data_numerica.describe()"
      ],
      "execution_count": null,
      "outputs": [
        {
          "output_type": "execute_result",
          "data": {
            "text/html": [
              "<div>\n",
              "<style scoped>\n",
              "    .dataframe tbody tr th:only-of-type {\n",
              "        vertical-align: middle;\n",
              "    }\n",
              "\n",
              "    .dataframe tbody tr th {\n",
              "        vertical-align: top;\n",
              "    }\n",
              "\n",
              "    .dataframe thead th {\n",
              "        text-align: right;\n",
              "    }\n",
              "</style>\n",
              "<table border=\"1\" class=\"dataframe\">\n",
              "  <thead>\n",
              "    <tr style=\"text-align: right;\">\n",
              "      <th></th>\n",
              "      <th>Reviews</th>\n",
              "      <th>Tamanio_MB</th>\n",
              "      <th>Instalaciones_minimas_estimadas</th>\n",
              "      <th>Precio</th>\n",
              "      <th>Rating</th>\n",
              "    </tr>\n",
              "  </thead>\n",
              "  <tbody>\n",
              "    <tr>\n",
              "      <th>count</th>\n",
              "      <td>9366.000</td>\n",
              "      <td>9366.000</td>\n",
              "      <td>9366.000</td>\n",
              "      <td>9366.000</td>\n",
              "      <td>9366.000</td>\n",
              "    </tr>\n",
              "    <tr>\n",
              "      <th>mean</th>\n",
              "      <td>514049.837</td>\n",
              "      <td>21.368</td>\n",
              "      <td>17897443.726</td>\n",
              "      <td>0.961</td>\n",
              "      <td>4.192</td>\n",
              "    </tr>\n",
              "    <tr>\n",
              "      <th>std</th>\n",
              "      <td>3144042.127</td>\n",
              "      <td>21.898</td>\n",
              "      <td>91238217.377</td>\n",
              "      <td>15.817</td>\n",
              "      <td>0.515</td>\n",
              "    </tr>\n",
              "    <tr>\n",
              "      <th>min</th>\n",
              "      <td>1.000</td>\n",
              "      <td>0.008</td>\n",
              "      <td>1.000</td>\n",
              "      <td>0.000</td>\n",
              "      <td>1.000</td>\n",
              "    </tr>\n",
              "    <tr>\n",
              "      <th>25%</th>\n",
              "      <td>186.250</td>\n",
              "      <td>6.000</td>\n",
              "      <td>10000.000</td>\n",
              "      <td>0.000</td>\n",
              "      <td>4.000</td>\n",
              "    </tr>\n",
              "    <tr>\n",
              "      <th>50%</th>\n",
              "      <td>5930.500</td>\n",
              "      <td>13.000</td>\n",
              "      <td>500000.000</td>\n",
              "      <td>0.000</td>\n",
              "      <td>4.300</td>\n",
              "    </tr>\n",
              "    <tr>\n",
              "      <th>75%</th>\n",
              "      <td>81532.750</td>\n",
              "      <td>29.000</td>\n",
              "      <td>5000000.000</td>\n",
              "      <td>0.000</td>\n",
              "      <td>4.500</td>\n",
              "    </tr>\n",
              "    <tr>\n",
              "      <th>max</th>\n",
              "      <td>78158306.000</td>\n",
              "      <td>100.000</td>\n",
              "      <td>1000000000.000</td>\n",
              "      <td>400.000</td>\n",
              "      <td>5.000</td>\n",
              "    </tr>\n",
              "  </tbody>\n",
              "</table>\n",
              "</div>"
            ],
            "text/plain": [
              "           Reviews  Tamanio_MB  Instalaciones_minimas_estimadas   Precio  \\\n",
              "count     9366.000    9366.000                         9366.000 9366.000   \n",
              "mean    514049.837      21.368                     17897443.726    0.961   \n",
              "std    3144042.127      21.898                     91238217.377   15.817   \n",
              "min          1.000       0.008                            1.000    0.000   \n",
              "25%        186.250       6.000                        10000.000    0.000   \n",
              "50%       5930.500      13.000                       500000.000    0.000   \n",
              "75%      81532.750      29.000                      5000000.000    0.000   \n",
              "max   78158306.000     100.000                   1000000000.000  400.000   \n",
              "\n",
              "        Rating  \n",
              "count 9366.000  \n",
              "mean     4.192  \n",
              "std      0.515  \n",
              "min      1.000  \n",
              "25%      4.000  \n",
              "50%      4.300  \n",
              "75%      4.500  \n",
              "max      5.000  "
            ]
          },
          "metadata": {
            "tags": []
          },
          "execution_count": 33
        }
      ]
    },
    {
      "cell_type": "markdown",
      "metadata": {
        "id": "i1cNZJpaPZf4"
      },
      "source": [
        "Con la tabla anterior podemos darnos una idea de la localización de nuestros datos y podemos hacer algunas inferencias al respecto:\n",
        "\n",
        "* El número de **reviews** de la aplicaciones esta sesgada, ya que la media (514,049.8) y la mediana (5,930.5) difieren en gran medida, lo podemos notar también comparando la mediana con el percentil al 75%, esto habla de la gran diversidad en el uso de aplicaciones y la preferencia de la mayoría de los usuarios por el uso de algunas en particular. La desviación estándar en esta varible (3144042.127) nos indica que la dispersión de los datos es muy grande, es decir, el número de personas que dejan una review es muy variante de aplicación en aplicación.\n",
        "\n",
        "* Respecto al **tamaño (en MB)**, las aplicaciones no tienen un peso de más de 100 Mb, aunque hay que notar el 'salto' que existe entre el percentil al 75% (29 Mb) y el tamaño de la aplicación más pesada en el dataset misma que pueda provocar un poco de sesgo en esta variable. \n",
        "\n",
        "* Las **instalaciones mínimas estimadas** por aplicación también cuentan con un gran sesgo (podrá verse en la sección de las distribuciones), contamos con aplicaciones que solo cuentan con una sola instalación y también contamos con aplicaciones que cuentan con 1,000 millones de instalaciones (podría ser el caso de aplicaciones famosas como Facebook o alguna otra red social), el rango intercuatilico en esta variable es de 4,990,000, esto no habla de gran dispersión en los datos, esto de ve en la desviación estándar (91238217.377), estos datos son extremadamente dispersos, y muestran la diversidad de interacción de lo usuarios con ciertas aplicaciones y podría interpretarse también que el mercado esta un tanto dominado por las apliaciones móviles más famosas.\n",
        "\n",
        "* El **precio** de las aplicaciones también es sesgado, si bien es cierto que abundan en gran medida las aplicaciones que son gratuitas, las aplicaciónes que son de paga provovan un ligero sesgo. Se puede notar al checar el percentil al 75% (cero) y el valor máximo ($40).\n",
        "\n",
        "* El **rating** de la aplicaciones es una variable númerica que puede ir desde cero hasta un 5 de calificación, en donde, mientras es número sea más alto, mejor recepción tiene entre los usuarios. Esta variable aparentemente no se encuentra sesgada ya que la media (4.192) y la mediana (4.3) se encuentran muy cercanas. El rango intercuartilico (0.5), nos indica poca dispersión de los datos, esto podría haberse dado por hecho dada la natualeza de la misma variable.\n",
        "\n",
        "Las anteriores son supocisiones intuitivas observando solo las medidas de localización presentadas en las variables, pero podrán verse más claro en la sección de la vizualización."
      ]
    },
    {
      "cell_type": "markdown",
      "metadata": {
        "id": "Mt5XGVY1f1fM"
      },
      "source": [
        "### **Distribuciones de la variables.**\n",
        "\n",
        "A continuación se presentan los histogramas de nuestras variables númericas."
      ]
    },
    {
      "cell_type": "code",
      "metadata": {
        "colab": {
          "base_uri": "https://localhost:8080/",
          "height": 892
        },
        "id": "6OAvYuWnXJZu",
        "outputId": "0c0c22da-f05f-41e7-f539-4b6fcdcf6549"
      },
      "source": [
        "\n",
        "fig, axes = plt.subplots(2, 3, figsize=(20, 12))\n",
        "fig.suptitle('Distribuciones de las variables númericas de Aplicaciones móviles', size = 25)\n",
        "\n",
        "# Reviews\n",
        "sns.distplot(ax=axes[0, 0], x= data_numerica['Reviews'], kde = False, norm_hist= False, color  = 'g');\n",
        "axes[0, 0].set_title('Distribución de las Reviews.')\n",
        "\n",
        "# Tamaño (Mb)\n",
        "sns.histplot(ax=axes[0, 1], x= data_numerica['Tamanio_MB'])\n",
        "axes[0, 1].set_title('Distribución del tamaño de las aplicaciones.')\n",
        "\n",
        "# Instalaciones por aplicación\n",
        "sns.distplot(ax=axes[0, 2], x= data_numerica[(data_numerica['Instalaciones_minimas_estimadas'] > np.quantile(data_numerica['Instalaciones_minimas_estimadas'], 0.25)) & (data_numerica['Instalaciones_minimas_estimadas'] < np.quantile(data_numerica['Instalaciones_minimas_estimadas'], 0.75))],\n",
        "             kde = False, norm_hist= False);\n",
        "axes[0, 2].set_title('Distribución de las instalaciones por aplicación.')\n",
        "\n",
        "# Precio\n",
        "sns.histplot(ax=axes[1, 0], x= data_numerica[(data_numerica['Precio'] > 0) & (data_numerica['Precio'] < 79)]['Precio'], color= 'r')\n",
        "axes[1, 0].set_title('Distribución del precio de las aplicaciones menores a $80.')\n",
        "\n",
        "# Rating\n",
        "sns.histplot(ax=axes[1, 1], x= data_numerica['Rating'])\n",
        "axes[1, 1].set_title('Distribución del rating.')\n"
      ],
      "execution_count": null,
      "outputs": [
        {
          "output_type": "stream",
          "text": [
            "/usr/local/lib/python3.7/dist-packages/seaborn/distributions.py:2557: FutureWarning: `distplot` is a deprecated function and will be removed in a future version. Please adapt your code to use either `displot` (a figure-level function with similar flexibility) or `histplot` (an axes-level function for histograms).\n",
            "  warnings.warn(msg, FutureWarning)\n",
            "/usr/local/lib/python3.7/dist-packages/seaborn/distributions.py:2557: FutureWarning: `distplot` is a deprecated function and will be removed in a future version. Please adapt your code to use either `displot` (a figure-level function with similar flexibility) or `histplot` (an axes-level function for histograms).\n",
            "  warnings.warn(msg, FutureWarning)\n"
          ],
          "name": "stderr"
        },
        {
          "output_type": "execute_result",
          "data": {
            "text/plain": [
              "Text(0.5, 1.0, 'Distribución del rating.')"
            ]
          },
          "metadata": {
            "tags": []
          },
          "execution_count": 34
        },
        {
          "output_type": "display_data",
          "data": {
            "image/png": "[encoded data removed]",
            "text/plain": [
              "<Figure size 1440x864 with 6 Axes>"
            ]
          },
          "metadata": {
            "tags": []
          }
        }
      ]
    },
    {
      "cell_type": "markdown",
      "metadata": {
        "id": "q8yT_fjC0U8X"
      },
      "source": [
        "Podemos ver que muchas de la variables se encuentran extremadamente sesgadas o la distribución de los datos se encuntran distribuida en un rango de valores muy peuqeño, también hay presencia de datos atípicos.\n",
        "\n",
        "A continuación calculamos el sesgo y kurtosis presente en nuestros datos. Podemos notar lo siguiente:\n",
        "\n",
        "* Los valores del número de _reviews_ se concentran en la parte izquierda alrededor de la media, mientras que la kurtosis, al dar un valor muy grande positivo no indica que estos valores se encuentran concentrados en un rango pequeño de valores. \n",
        "\n",
        "* Repecto al _tamaño_ de la aplicaciones, presenta una pequeña asimetría positiva, los datos se encuntran concentrados a la izquierda de la media, mientras que existe una gran concentración de datos, esto dado por la kurtosis positiva.\n",
        "\n",
        "* Las _instalaciones_ tienen un comportamiento muy parecido al número de reviews, se cuenta con una asímetria positiva y una alta concentración de datos, hay aplicaciones que cuentan con un número de instalaciones numerosas, son las que provocan el sesgo en los datos.\n",
        "\n",
        "* El _precio_ de las aplicaciones presenta un comportamiento similar a las variables anteriores, los valores se concentran en un rango pequeño (a comparación del rango total de valores) y a la izquierda de la media, esto derivado de la gran cantidad de aplicaciones que son gratuitas, es decir, un precio de cero.\n",
        "\n",
        "* El _rating_ de las aplicaciones, presenta una asimetría negativa, esto es, la mayor concentración de los datos se encuentra a la derecha de la media, puede deberse a que la mayoría de los ratings 'jalan' la media hacia la derecha. La kurtosis muestra que hay gran concentración de datos en un rago pequeño, derivado de la naturaleza de la variable, al tener un rango entre 0 y 5. "
      ]
    },
    {
      "cell_type": "code",
      "metadata": {
        "colab": {
          "base_uri": "https://localhost:8080/"
        },
        "id": "xViTq1aBsuKK",
        "outputId": "9b11572b-378a-442f-f900-ed75ee0417a3"
      },
      "source": [
        "for name in data_numerica.columns:\n",
        "  print('-'*80)\n",
        "  print('Sesgo y Kurtosis para la variable', name)\n",
        "  print(' '*5, 'Sesgo: ', stats.skew(data_numerica[name]))\n",
        "  print(' '*5, 'Kurtosis: ',stats.kurtosis(data_numerica[name]))"
      ],
      "execution_count": null,
      "outputs": [
        {
          "output_type": "stream",
          "text": [
            "--------------------------------------------------------------------------------\n",
            "Sesgo y Kurtosis para la variable Reviews\n",
            "      Sesgo:  15.305403747724117\n",
            "      Kurtosis:  294.93942359305316\n",
            "--------------------------------------------------------------------------------\n",
            "Sesgo y Kurtosis para la variable Tamanio_MB\n",
            "      Sesgo:  1.6415273595698707\n",
            "      Kurtosis:  2.2774534706342404\n",
            "--------------------------------------------------------------------------------\n",
            "Sesgo y Kurtosis para la variable Instalaciones_minimas_estimadas\n",
            "      Sesgo:  8.88690179519588\n",
            "      Kurtosis:  86.17888526544974\n",
            "--------------------------------------------------------------------------------\n",
            "Sesgo y Kurtosis para la variable Precio\n",
            "      Sesgo:  24.39835681793893\n",
            "      Kurtosis:  604.2543832830169\n",
            "--------------------------------------------------------------------------------\n",
            "Sesgo y Kurtosis para la variable Rating\n",
            "      Sesgo:  -1.8493988795840668\n",
            "      Kurtosis:  5.78319465669863\n"
          ],
          "name": "stdout"
        }
      ]
    },
    {
      "cell_type": "markdown",
      "metadata": {
        "id": "-Wuuk5r2JnGa"
      },
      "source": [
        "### **Correlaciones, regresión lineal simple y técnicas de evaluación de modelos**\n",
        "\n",
        "Siguiendo con el uso de las variables númericas presentes en nuestro dataset, es interesante saber si podemos aplicar regresión lineal simple para poder explicar una variable con respecto a otra (o varías).\n",
        "\n",
        "Para esto, primeramente debemos observar las correlariones en nuestras variables, esto para poder elegir ciertas varibles a utilizar.\n"
      ]
    },
    {
      "cell_type": "markdown",
      "metadata": {
        "id": "RXg4SA3CmYE5"
      },
      "source": [
        "Con la siguiente figura podemos notar las relaciones existente entre las variables númericas del dataset. La mayor parte de las correlaciones  son cercacnas a cero, esto es que no existe una relación lineal entre estas variables, esto nos dice que, en un modelo de regresión lineal, es muy díficil poder explicar una variable con respecto a otra (con las que no tienen correlación). La única excepción en el dataset es la relación que existe entre las **Instalaciones_minimas_estimadas** y el número de **Reviews**, estas dos variables tienen una correlación de 0.64, si bien es cierto que este valor no es extremadamente grande (ya que se puede considerar una correlación fuerte con un valor ± 0.7), hay una pequeña relación entre estas variables. "
      ]
    },
    {
      "cell_type": "code",
      "metadata": {
        "colab": {
          "base_uri": "https://localhost:8080/",
          "height": 739
        },
        "id": "1u_ipjPUKTxJ",
        "outputId": "a0a9872e-e676-4a37-8038-ff1a181f4167"
      },
      "source": [
        "import seaborn as sns\n",
        "\n",
        "plt.figure(figsize= (9,9))\n",
        "ax = sns.heatmap(data_numerica.corr(), annot = True, vmin = -1, vmax = 1, cmap=\"YlGnBu\")\n",
        "ax.set_title('Correlaciones entre las variables númericas', fontsize = 20);"
      ],
      "execution_count": null,
      "outputs": [
        {
          "output_type": "display_data",
          "data": {
            "image/png": "[encoded data removed]",
            "text/plain": [
              "<Figure size 648x648 with 2 Axes>"
            ]
          },
          "metadata": {
            "tags": []
          }
        }
      ]
    },
    {
      "cell_type": "markdown",
      "metadata": {
        "id": "dcwg5Uqaoh7Q"
      },
      "source": [
        "El valor númerico anterior no se puede apreciar vizualmente en los diagramas de dispresión presentados en la siguiente gráfica- De hecho, podemos apreciar que no se ve una aparente relación lineal entre los pares de variables. "
      ]
    },
    {
      "cell_type": "code",
      "metadata": {
        "colab": {
          "base_uri": "https://localhost:8080/",
          "height": 724
        },
        "id": "AaYHDsKyj-_M",
        "outputId": "63e373dc-2d08-42ed-a46f-31027295a1d1"
      },
      "source": [
        "ax = sns.pairplot(data_numerica.drop(columns = ['Rating']))"
      ],
      "execution_count": null,
      "outputs": [
        {
          "output_type": "display_data",
          "data": {
            "image/png": "[encoded data removed]",
            "text/plain": [
              "<Figure size 720x720 with 20 Axes>"
            ]
          },
          "metadata": {
            "tags": []
          }
        }
      ]
    },
    {
      "cell_type": "markdown",
      "metadata": {
        "id": "ZELzGB39lmi4"
      },
      "source": [
        "En esta ocación haremos caso al valor de correlación y ajustaremos una regresión lineal simple tomando en cuenta solamente las variables que presentaban alguna relación entre ellas.\n",
        "\n",
        "La variable dependiente será el número de _reviews_ presentados por aplicación mientras que la variable predictora será el _número de Instalaciones estimadas_.\n",
        "\n",
        "**Utilizamos *train_test_split* para dividir nuestro dataset en conjuntos de _entrenamiento y prueba_, esto para probar el comportamiento de nuestro modelo en datos nuevos a los vistos en el entrenamiento.**\n",
        "\n",
        "Para el modelo de regresión lineal utilizaremos el paquete **stastmodels**, la ventaja con esta paquetería, al menos en este caso, es que nos ofrece un resumen del modelo, así como la significancia de las variables.\n"
      ]
    },
    {
      "cell_type": "code",
      "metadata": {
        "colab": {
          "base_uri": "https://localhost:8080/",
          "height": 532
        },
        "id": "KJPpssE4fFIK",
        "outputId": "b775567a-fbb5-41b2-b0ef-5c0ade21cf02"
      },
      "source": [
        "import statsmodels.formula.api as smf\n",
        "from sklearn.model_selection import train_test_split\n",
        "from sklearn.metrics import r2_score\n",
        "\n",
        "X_train, X_test, y_train, y_test = train_test_split(data_numerica.drop(columns = ['Rating']), data_numerica['Rating'], \n",
        "                                                    test_size = 0.25, random_state = 20)\n",
        "linreg = smf.ols(formula = 'Reviews ~ Instalaciones_minimas_estimadas', data = X_train).fit(random_state = 12)\n",
        "linreg.summary()"
      ],
      "execution_count": null,
      "outputs": [
        {
          "output_type": "stream",
          "text": [
            "/usr/local/lib/python3.7/dist-packages/statsmodels/tools/_testing.py:19: FutureWarning: pandas.util.testing is deprecated. Use the functions in the public API at pandas.testing instead.\n",
            "  import pandas.util.testing as tm\n"
          ],
          "name": "stderr"
        },
        {
          "output_type": "execute_result",
          "data": {
            "text/html": [
              "<table class=\"simpletable\">\n",
              "<caption>OLS Regression Results</caption>\n",
              "<tr>\n",
              "  <th>Dep. Variable:</th>         <td>Reviews</td>     <th>  R-squared:         </th>  <td>   0.405</td>  \n",
              "</tr>\n",
              "<tr>\n",
              "  <th>Model:</th>                   <td>OLS</td>       <th>  Adj. R-squared:    </th>  <td>   0.405</td>  \n",
              "</tr>\n",
              "<tr>\n",
              "  <th>Method:</th>             <td>Least Squares</td>  <th>  F-statistic:       </th>  <td>   4774.</td>  \n",
              "</tr>\n",
              "<tr>\n",
              "  <th>Date:</th>             <td>Sat, 08 May 2021</td> <th>  Prob (F-statistic):</th>   <td>  0.00</td>   \n",
              "</tr>\n",
              "<tr>\n",
              "  <th>Time:</th>                 <td>18:48:25</td>     <th>  Log-Likelihood:    </th> <td>-1.1329e+05</td>\n",
              "</tr>\n",
              "<tr>\n",
              "  <th>No. Observations:</th>      <td>  7024</td>      <th>  AIC:               </th>  <td>2.266e+05</td> \n",
              "</tr>\n",
              "<tr>\n",
              "  <th>Df Residuals:</th>          <td>  7022</td>      <th>  BIC:               </th>  <td>2.266e+05</td> \n",
              "</tr>\n",
              "<tr>\n",
              "  <th>Df Model:</th>              <td>     1</td>      <th>                     </th>      <td> </td>     \n",
              "</tr>\n",
              "<tr>\n",
              "  <th>Covariance Type:</th>      <td>nonrobust</td>    <th>                     </th>      <td> </td>     \n",
              "</tr>\n",
              "</table>\n",
              "<table class=\"simpletable\">\n",
              "<tr>\n",
              "                 <td></td>                    <th>coef</th>     <th>std err</th>      <th>t</th>      <th>P>|t|</th>  <th>[0.025</th>    <th>0.975]</th>  \n",
              "</tr>\n",
              "<tr>\n",
              "  <th>Intercept</th>                       <td> 1.273e+05</td> <td> 2.97e+04</td> <td>    4.278</td> <td> 0.000</td> <td>  6.9e+04</td> <td> 1.86e+05</td>\n",
              "</tr>\n",
              "<tr>\n",
              "  <th>Instalaciones_minimas_estimadas</th> <td>    0.0212</td> <td>    0.000</td> <td>   69.098</td> <td> 0.000</td> <td>    0.021</td> <td>    0.022</td>\n",
              "</tr>\n",
              "</table>\n",
              "<table class=\"simpletable\">\n",
              "<tr>\n",
              "  <th>Omnibus:</th>       <td>11573.948</td> <th>  Durbin-Watson:     </th>   <td>   2.005</td>  \n",
              "</tr>\n",
              "<tr>\n",
              "  <th>Prob(Omnibus):</th>  <td> 0.000</td>   <th>  Jarque-Bera (JB):  </th> <td>16600201.475</td>\n",
              "</tr>\n",
              "<tr>\n",
              "  <th>Skew:</th>           <td>10.703</td>   <th>  Prob(JB):          </th>   <td>    0.00</td>  \n",
              "</tr>\n",
              "<tr>\n",
              "  <th>Kurtosis:</th>       <td>240.197</td>  <th>  Cond. No.          </th>   <td>9.87e+07</td>  \n",
              "</tr>\n",
              "</table><br/><br/>Warnings:<br/>[1] Standard Errors assume that the covariance matrix of the errors is correctly specified.<br/>[2] The condition number is large, 9.87e+07. This might indicate that there are<br/>strong multicollinearity or other numerical problems."
            ],
            "text/plain": [
              "<class 'statsmodels.iolib.summary.Summary'>\n",
              "\"\"\"\n",
              "                            OLS Regression Results                            \n",
              "==============================================================================\n",
              "Dep. Variable:                Reviews   R-squared:                       0.405\n",
              "Model:                            OLS   Adj. R-squared:                  0.405\n",
              "Method:                 Least Squares   F-statistic:                     4774.\n",
              "Date:                Sat, 08 May 2021   Prob (F-statistic):               0.00\n",
              "Time:                        18:48:25   Log-Likelihood:            -1.1329e+05\n",
              "No. Observations:                7024   AIC:                         2.266e+05\n",
              "Df Residuals:                    7022   BIC:                         2.266e+05\n",
              "Df Model:                           1                                         \n",
              "Covariance Type:            nonrobust                                         \n",
              "===================================================================================================\n",
              "                                      coef    std err          t      P>|t|      [0.025      0.975]\n",
              "---------------------------------------------------------------------------------------------------\n",
              "Intercept                        1.273e+05   2.97e+04      4.278      0.000     6.9e+04    1.86e+05\n",
              "Instalaciones_minimas_estimadas     0.0212      0.000     69.098      0.000       0.021       0.022\n",
              "==============================================================================\n",
              "Omnibus:                    11573.948   Durbin-Watson:                   2.005\n",
              "Prob(Omnibus):                  0.000   Jarque-Bera (JB):         16600201.475\n",
              "Skew:                          10.703   Prob(JB):                         0.00\n",
              "Kurtosis:                     240.197   Cond. No.                     9.87e+07\n",
              "==============================================================================\n",
              "\n",
              "Warnings:\n",
              "[1] Standard Errors assume that the covariance matrix of the errors is correctly specified.\n",
              "[2] The condition number is large, 9.87e+07. This might indicate that there are\n",
              "strong multicollinearity or other numerical problems.\n",
              "\"\"\""
            ]
          },
          "metadata": {
            "tags": []
          },
          "execution_count": 38
        }
      ]
    },
    {
      "cell_type": "markdown",
      "metadata": {
        "id": "kKXxEi7gtXFK"
      },
      "source": [
        "Con este modelo podemos notar que tanto el intercepto y las _Instalaciones_minimas_estimadas_ son significantes, ya que cuentan con un p-valor muy cercano a cero (El juego de hipótesis es: *H_0: ß_i = 0 vs H_1: ß_i ≠ 0*). Tenemos una R^2 en el set de entrenamiento de 0.405, lo cual indica que la varianza explicada en el set de entrenamiento con nuestro modelo solo es de poco menos de 41%.\n",
        "\n",
        "Un punto a considerar es el valor del intercepto, ya que es gigantesco y tiene un error estándar excesivamente grande, por lo que ajusteremos un segundo modelo omitiendo esta variable. Cabe mencionar que el rendimiento de este modelo en el set de prueba fue un poco mejor que en el de entrenamiento, obteniendo una varianza explicada de 43.1%."
      ]
    },
    {
      "cell_type": "code",
      "metadata": {
        "colab": {
          "base_uri": "https://localhost:8080/"
        },
        "id": "qaiCK-sGhPzj",
        "outputId": "94a3f23e-703f-457e-9221-305ba06e2693"
      },
      "source": [
        "X_test_reg = X_test.drop(columns = ['Reviews'])\n",
        "y_test_reg = X_test['Reviews']\n",
        "pred = linreg.predict(X_test_reg)\n",
        "print('R^2 en el set de prueba: ', r2_score(y_test_reg, pred))"
      ],
      "execution_count": null,
      "outputs": [
        {
          "output_type": "stream",
          "text": [
            "R^2 en el set de prueba:  0.43103188186246433\n"
          ],
          "name": "stdout"
        }
      ]
    },
    {
      "cell_type": "code",
      "metadata": {
        "colab": {
          "base_uri": "https://localhost:8080/",
          "height": 423
        },
        "id": "-IvvAQVYvaFD",
        "outputId": "d6d25938-c80b-409a-991e-f07dab4dd474"
      },
      "source": [
        "linreg_1 = smf.ols(formula = 'Reviews ~ Instalaciones_minimas_estimadas - 1', data = X_train).fit(random_state = 13)\n",
        "linreg_1.summary()"
      ],
      "execution_count": null,
      "outputs": [
        {
          "output_type": "execute_result",
          "data": {
            "text/html": [
              "<table class=\"simpletable\">\n",
              "<caption>OLS Regression Results</caption>\n",
              "<tr>\n",
              "  <th>Dep. Variable:</th>         <td>Reviews</td>     <th>  R-squared (uncentered):</th>       <td>   0.419</td>  \n",
              "</tr>\n",
              "<tr>\n",
              "  <th>Model:</th>                   <td>OLS</td>       <th>  Adj. R-squared (uncentered):</th>  <td>   0.419</td>  \n",
              "</tr>\n",
              "<tr>\n",
              "  <th>Method:</th>             <td>Least Squares</td>  <th>  F-statistic:       </th>           <td>   5063.</td>  \n",
              "</tr>\n",
              "<tr>\n",
              "  <th>Date:</th>             <td>Sat, 08 May 2021</td> <th>  Prob (F-statistic):</th>            <td>  0.00</td>   \n",
              "</tr>\n",
              "<tr>\n",
              "  <th>Time:</th>                 <td>18:48:25</td>     <th>  Log-Likelihood:    </th>          <td>-1.1330e+05</td>\n",
              "</tr>\n",
              "<tr>\n",
              "  <th>No. Observations:</th>      <td>  7024</td>      <th>  AIC:               </th>           <td>2.266e+05</td> \n",
              "</tr>\n",
              "<tr>\n",
              "  <th>Df Residuals:</th>          <td>  7023</td>      <th>  BIC:               </th>           <td>2.266e+05</td> \n",
              "</tr>\n",
              "<tr>\n",
              "  <th>Df Model:</th>              <td>     1</td>      <th>                     </th>               <td> </td>     \n",
              "</tr>\n",
              "<tr>\n",
              "  <th>Covariance Type:</th>      <td>nonrobust</td>    <th>                     </th>               <td> </td>     \n",
              "</tr>\n",
              "</table>\n",
              "<table class=\"simpletable\">\n",
              "<tr>\n",
              "                 <td></td>                    <th>coef</th>     <th>std err</th>      <th>t</th>      <th>P>|t|</th>  <th>[0.025</th>    <th>0.975]</th>  \n",
              "</tr>\n",
              "<tr>\n",
              "  <th>Instalaciones_minimas_estimadas</th> <td>    0.0215</td> <td>    0.000</td> <td>   71.156</td> <td> 0.000</td> <td>    0.021</td> <td>    0.022</td>\n",
              "</tr>\n",
              "</table>\n",
              "<table class=\"simpletable\">\n",
              "<tr>\n",
              "  <th>Omnibus:</th>       <td>11461.051</td> <th>  Durbin-Watson:     </th>   <td>   2.000</td>  \n",
              "</tr>\n",
              "<tr>\n",
              "  <th>Prob(Omnibus):</th>  <td> 0.000</td>   <th>  Jarque-Bera (JB):  </th> <td>16141643.563</td>\n",
              "</tr>\n",
              "<tr>\n",
              "  <th>Skew:</th>           <td>10.481</td>   <th>  Prob(JB):          </th>   <td>    0.00</td>  \n",
              "</tr>\n",
              "<tr>\n",
              "  <th>Kurtosis:</th>       <td>236.911</td>  <th>  Cond. No.          </th>   <td>    1.00</td>  \n",
              "</tr>\n",
              "</table><br/><br/>Warnings:<br/>[1] Standard Errors assume that the covariance matrix of the errors is correctly specified."
            ],
            "text/plain": [
              "<class 'statsmodels.iolib.summary.Summary'>\n",
              "\"\"\"\n",
              "                                 OLS Regression Results                                \n",
              "=======================================================================================\n",
              "Dep. Variable:                Reviews   R-squared (uncentered):                   0.419\n",
              "Model:                            OLS   Adj. R-squared (uncentered):              0.419\n",
              "Method:                 Least Squares   F-statistic:                              5063.\n",
              "Date:                Sat, 08 May 2021   Prob (F-statistic):                        0.00\n",
              "Time:                        18:48:25   Log-Likelihood:                     -1.1330e+05\n",
              "No. Observations:                7024   AIC:                                  2.266e+05\n",
              "Df Residuals:                    7023   BIC:                                  2.266e+05\n",
              "Df Model:                           1                                                  \n",
              "Covariance Type:            nonrobust                                                  \n",
              "===================================================================================================\n",
              "                                      coef    std err          t      P>|t|      [0.025      0.975]\n",
              "---------------------------------------------------------------------------------------------------\n",
              "Instalaciones_minimas_estimadas     0.0215      0.000     71.156      0.000       0.021       0.022\n",
              "==============================================================================\n",
              "Omnibus:                    11461.051   Durbin-Watson:                   2.000\n",
              "Prob(Omnibus):                  0.000   Jarque-Bera (JB):         16141643.563\n",
              "Skew:                          10.481   Prob(JB):                         0.00\n",
              "Kurtosis:                     236.911   Cond. No.                         1.00\n",
              "==============================================================================\n",
              "\n",
              "Warnings:\n",
              "[1] Standard Errors assume that the covariance matrix of the errors is correctly specified.\n",
              "\"\"\""
            ]
          },
          "metadata": {
            "tags": []
          },
          "execution_count": 40
        }
      ]
    },
    {
      "cell_type": "markdown",
      "metadata": {
        "id": "gr7TnewcvwBc"
      },
      "source": [
        "Con esta variación de omitir el intercepto, se obtubo un mejor R^2 en el set de entrenamiento mientras que en el set de prueba descendio un poco. Por lo que podemos decir que el quitar o dejar el intercepto realmente no agrega o quita rendimiento."
      ]
    },
    {
      "cell_type": "code",
      "metadata": {
        "colab": {
          "base_uri": "https://localhost:8080/"
        },
        "id": "vPNmCdKXvjFr",
        "outputId": "bb13ade2-d149-4a91-ff17-9437df200dfc"
      },
      "source": [
        "X_test_reg = X_test.drop(columns = ['Reviews'])\n",
        "y_test_reg = X_test['Reviews']\n",
        "pred_1 = linreg_1.predict(X_test_reg)\n",
        "print('R^2 en el set de prueba: ', r2_score(y_test_reg, pred_1))"
      ],
      "execution_count": null,
      "outputs": [
        {
          "output_type": "stream",
          "text": [
            "R^2 en el set de prueba:  0.4302278286198622\n"
          ],
          "name": "stdout"
        }
      ]
    },
    {
      "cell_type": "markdown",
      "metadata": {
        "id": "9LQlB0uDwGtx"
      },
      "source": [
        "Este modelo podria dar una idea de, dadas estimaciones de personas que intalaron una aplicación en específico, ¿Qué cantidad de estas podrían dejar una review?, aunque repetimos, solo sería un estimado por el rendimiento del módelo en sí.] "
      ]
    },
    {
      "cell_type": "markdown",
      "metadata": {
        "id": "zs0fZjiJdvX7"
      },
      "source": [
        "###  Regresión Multiple"
      ]
    },
    {
      "cell_type": "markdown",
      "metadata": {
        "id": "GJXZSp4zWomk"
      },
      "source": [
        "Ahora, construiremos una regresión multiple con los atributos 'Exito_app', 'App', 'Categoria', 'App_gratuita', 'App_pago', 'Rating_del_contenido', 'Ultimo_updated', 'Anio_ultimo_updated', 'Version_actual', 'Version_Android', 'Rating'.  Y como variable objetivo el atributo 'Rating con el fin de entrenar un modelo que pueda predecir el rating de las aplicaciones"
      ]
    },
    {
      "cell_type": "code",
      "metadata": {
        "colab": {
          "base_uri": "https://localhost:8080/"
        },
        "id": "xzCVlrhdVlXt",
        "outputId": "069c19ba-6029-43ee-b2a1-fa0f416512c3"
      },
      "source": [
        "from sklearn.linear_model import LinearRegression\n",
        "X = df_limpio.drop(columns=['Exito_app', 'App', 'Categoria', 'App_gratuita', 'App_pago', 'Rating_del_contenido', 'Ultimo_updated', 'Anio_ultimo_updated', 'Version_actual', 'Version_Android', 'Rating']).values\n",
        "y = df_limpio['Rating'].values\n",
        "regressor = LinearRegression()\n",
        "X_train, X_test, y_train, y_test = train_test_split(X, y, test_size = 0.7, random_state = 0)\n",
        "regressor.fit(X_train, y_train)"
      ],
      "execution_count": null,
      "outputs": [
        {
          "output_type": "execute_result",
          "data": {
            "text/plain": [
              "LinearRegression(copy_X=True, fit_intercept=True, n_jobs=None, normalize=False)"
            ]
          },
          "metadata": {
            "tags": []
          },
          "execution_count": 111
        }
      ]
    },
    {
      "cell_type": "code",
      "metadata": {
        "colab": {
          "base_uri": "https://localhost:8080/"
        },
        "id": "VChDwv5LVo_b",
        "outputId": "8b5a3c11-2e0c-4391-c8cf-e1504039da50"
      },
      "source": [
        "y_pred = regressor.predict(X_test)\n",
        "np.set_printoptions(precision = 2)\n",
        "print(np.concatenate((y_pred.reshape(len(y_pred),1),y_test.reshape(len(y_test),1)),1)) "
      ],
      "execution_count": null,
      "outputs": [
        {
          "output_type": "stream",
          "text": [
            "[[4.24 4.2 ]\n",
            " [4.17 4.2 ]\n",
            " [4.17 4.3 ]\n",
            " ...\n",
            " [4.3  4.5 ]\n",
            " [4.26 4.6 ]\n",
            " [4.17 4.4 ]]\n"
          ],
          "name": "stdout"
        }
      ]
    },
    {
      "cell_type": "markdown",
      "metadata": {
        "id": "p75q3sEQoC1n"
      },
      "source": [
        "Observamos que nuestro modelo fue entrenado decentemente con resultados no óptimos pero si deseables"
      ]
    },
    {
      "cell_type": "code",
      "metadata": {
        "colab": {
          "base_uri": "https://localhost:8080/",
          "height": 419
        },
        "id": "P2HAZ23xVtTR",
        "outputId": "4a4bfd65-e0b9-4f82-da27-350550a6d3b7"
      },
      "source": [
        "df = pd.DataFrame({'Ratings Actuales': y_test, 'Ratings predecidos': y_pred})\n",
        "df"
      ],
      "execution_count": null,
      "outputs": [
        {
          "output_type": "execute_result",
          "data": {
            "text/html": [
              "<div>\n",
              "<style scoped>\n",
              "    .dataframe tbody tr th:only-of-type {\n",
              "        vertical-align: middle;\n",
              "    }\n",
              "\n",
              "    .dataframe tbody tr th {\n",
              "        vertical-align: top;\n",
              "    }\n",
              "\n",
              "    .dataframe thead th {\n",
              "        text-align: right;\n",
              "    }\n",
              "</style>\n",
              "<table border=\"1\" class=\"dataframe\">\n",
              "  <thead>\n",
              "    <tr style=\"text-align: right;\">\n",
              "      <th></th>\n",
              "      <th>Ratings Actuales</th>\n",
              "      <th>Ratings predecidos</th>\n",
              "    </tr>\n",
              "  </thead>\n",
              "  <tbody>\n",
              "    <tr>\n",
              "      <th>0</th>\n",
              "      <td>4.200</td>\n",
              "      <td>4.239</td>\n",
              "    </tr>\n",
              "    <tr>\n",
              "      <th>1</th>\n",
              "      <td>4.200</td>\n",
              "      <td>4.165</td>\n",
              "    </tr>\n",
              "    <tr>\n",
              "      <th>2</th>\n",
              "      <td>4.300</td>\n",
              "      <td>4.175</td>\n",
              "    </tr>\n",
              "    <tr>\n",
              "      <th>3</th>\n",
              "      <td>4.700</td>\n",
              "      <td>4.210</td>\n",
              "    </tr>\n",
              "    <tr>\n",
              "      <th>4</th>\n",
              "      <td>3.700</td>\n",
              "      <td>4.173</td>\n",
              "    </tr>\n",
              "    <tr>\n",
              "      <th>...</th>\n",
              "      <td>...</td>\n",
              "      <td>...</td>\n",
              "    </tr>\n",
              "    <tr>\n",
              "      <th>6552</th>\n",
              "      <td>4.500</td>\n",
              "      <td>4.199</td>\n",
              "    </tr>\n",
              "    <tr>\n",
              "      <th>6553</th>\n",
              "      <td>4.400</td>\n",
              "      <td>4.384</td>\n",
              "    </tr>\n",
              "    <tr>\n",
              "      <th>6554</th>\n",
              "      <td>4.500</td>\n",
              "      <td>4.299</td>\n",
              "    </tr>\n",
              "    <tr>\n",
              "      <th>6555</th>\n",
              "      <td>4.600</td>\n",
              "      <td>4.256</td>\n",
              "    </tr>\n",
              "    <tr>\n",
              "      <th>6556</th>\n",
              "      <td>4.400</td>\n",
              "      <td>4.166</td>\n",
              "    </tr>\n",
              "  </tbody>\n",
              "</table>\n",
              "<p>6557 rows × 2 columns</p>\n",
              "</div>"
            ],
            "text/plain": [
              "      Ratings Actuales  Ratings predecidos\n",
              "0                4.200               4.239\n",
              "1                4.200               4.165\n",
              "2                4.300               4.175\n",
              "3                4.700               4.210\n",
              "4                3.700               4.173\n",
              "...                ...                 ...\n",
              "6552             4.500               4.199\n",
              "6553             4.400               4.384\n",
              "6554             4.500               4.299\n",
              "6555             4.600               4.256\n",
              "6556             4.400               4.166\n",
              "\n",
              "[6557 rows x 2 columns]"
            ]
          },
          "metadata": {
            "tags": []
          },
          "execution_count": 113
        }
      ]
    },
    {
      "cell_type": "code",
      "metadata": {
        "colab": {
          "base_uri": "https://localhost:8080/"
        },
        "id": "3LSiU3tRVxr4",
        "outputId": "6859d786-0f8f-40ba-976c-f25976860c72"
      },
      "source": [
        "from sklearn import metrics\n",
        "print('Mean Absolute Error:', metrics.mean_absolute_error(y_test, y_pred))\n",
        "print('Mean Squared Error:', metrics.mean_squared_error(y_test, y_pred))\n",
        "print('Root Mean Squared Error:', np.sqrt(metrics.mean_squared_error(y_test, y_pred)))"
      ],
      "execution_count": null,
      "outputs": [
        {
          "output_type": "stream",
          "text": [
            "Mean Absolute Error: 0.35824840221757104\n",
            "Mean Squared Error: 0.26404532332752934\n",
            "Root Mean Squared Error: 0.5138534064570647\n"
          ],
          "name": "stdout"
        }
      ]
    },
    {
      "cell_type": "markdown",
      "metadata": {
        "id": "uH96g8xQoKkS"
      },
      "source": [
        "Finalmente obtenemos un error cuadrático promedio de .2640 lo que en perspectiva podemos considerar un buen resultado esperado"
      ]
    },
    {
      "cell_type": "markdown",
      "metadata": {
        "id": "eYj-y2Yrwt1k"
      },
      "source": [
        "### **Distribuciones muestreales**"
      ]
    },
    {
      "cell_type": "markdown",
      "metadata": {
        "id": "7FkA9lRKxhrI"
      },
      "source": [
        "En esta sección se buscó identificar si las medidas estadísticas obtenidas son realmente representativas de la población. Por lo cual se recurrió a la técnica de boostrap con el objetivo de aprovechar los datos con los que contamos y verificar si las medidas estadísticas son precisas. De esta forma se generó un histograma para obtener la media estadística de un gran número de remuestros.\n",
        "\n",
        "Se realizó el bootstrap para la columna de Rating; considerando reposición en la toma de la muestra, tomando 50 elementos para cada muestra (n=50) y repitiendo el proceso 100,000 veces."
      ]
    },
    {
      "cell_type": "code",
      "metadata": {
        "id": "n2N6mto5yI49"
      },
      "source": [
        "ratings_para_bootstrap = df_limpio['Rating']\n",
        "\n",
        "means = []\n",
        "\n",
        "for i in range(100_000):\n",
        "    sample = ratings_para_bootstrap.sample(n=50, replace=True)\n",
        "    means.append(sample.mean())\n",
        "    \n",
        "serie_means = pd.Series(means)"
      ],
      "execution_count": null,
      "outputs": []
    },
    {
      "cell_type": "code",
      "metadata": {
        "colab": {
          "base_uri": "https://localhost:8080/",
          "height": 324
        },
        "id": "guzLIdj-yPEr",
        "outputId": "b01d18ea-0add-42c5-cb37-86f888d818b7"
      },
      "source": [
        "sns.distplot(serie_means, kde=False, norm_hist=False);"
      ],
      "execution_count": null,
      "outputs": [
        {
          "output_type": "stream",
          "text": [
            "/usr/local/lib/python3.7/dist-packages/seaborn/distributions.py:2557: FutureWarning: `distplot` is a deprecated function and will be removed in a future version. Please adapt your code to use either `displot` (a figure-level function with similar flexibility) or `histplot` (an axes-level function for histograms).\n",
            "  warnings.warn(msg, FutureWarning)\n"
          ],
          "name": "stderr"
        },
        {
          "output_type": "display_data",
          "data": {
            "image/png": "[encoded data removed]",
            "text/plain": [
              "<Figure size 432x288 with 1 Axes>"
            ]
          },
          "metadata": {
            "tags": []
          }
        }
      ]
    },
    {
      "cell_type": "code",
      "metadata": {
        "colab": {
          "base_uri": "https://localhost:8080/"
        },
        "id": "fuHH1w-2yS5f",
        "outputId": "54e11603-c4bc-44fe-d464-fedb22604b0d"
      },
      "source": [
        "print(f' La media obtenida es de: {serie_means.mean()}')"
      ],
      "execution_count": null,
      "outputs": [
        {
          "output_type": "stream",
          "text": [
            " La media obtenida es de: 4.191852919999944\n"
          ],
          "name": "stdout"
        }
      ]
    },
    {
      "cell_type": "markdown",
      "metadata": {
        "id": "PHFFxf2YyV0I"
      },
      "source": [
        "En comparación con los datos originales en donde la media de los datos con respecto al rating fue de 4.192, a través del bootstrap se obtuvo el mismo valor como media de las medias; por lo cual se puede concluir que el teorema del límite central se cumple, ya que la distribución de las medias sigue aproximadamente una distribución normal, como se puede observar en el histograma graficado anteriormente.\n",
        "\n",
        "Posteriormente se obtuvo el error estándar, el cual es la desviación estándar de nuestra serie de medidas estadísticas:"
      ]
    },
    {
      "cell_type": "code",
      "metadata": {
        "colab": {
          "base_uri": "https://localhost:8080/"
        },
        "id": "ki6F2-foya1r",
        "outputId": "ff0a3df4-7984-4976-f0e3-01690af864b1"
      },
      "source": [
        "print(f'Error estándar: {serie_means.std()}')"
      ],
      "execution_count": null,
      "outputs": [
        {
          "output_type": "stream",
          "text": [
            "Error estándar: 0.07309931738789553\n"
          ],
          "name": "stdout"
        }
      ]
    },
    {
      "cell_type": "markdown",
      "metadata": {
        "id": "OU_4B_CIyel1"
      },
      "source": [
        "Para la interpretación de dicho valor se identificó el rango y la distribución de los datos:"
      ]
    },
    {
      "cell_type": "code",
      "metadata": {
        "colab": {
          "base_uri": "https://localhost:8080/"
        },
        "id": "xjRES0-eygY8",
        "outputId": "573a5fb2-b216-43fc-e826-5610fdaaf933"
      },
      "source": [
        "print(f'Valor mínimo: {serie_means.min()}')\n",
        "print(f'Valor máximo: {serie_means.max()}')\n",
        "print(f'Rango: {serie_means.max() - serie_means.min()}')"
      ],
      "execution_count": null,
      "outputs": [
        {
          "output_type": "stream",
          "text": [
            "Valor mínimo: 3.8280000000000007\n",
            "Valor máximo: 4.4719999999999995\n",
            "Rango: 0.6439999999999988\n"
          ],
          "name": "stdout"
        }
      ]
    },
    {
      "cell_type": "code",
      "metadata": {
        "colab": {
          "base_uri": "https://localhost:8080/",
          "height": 322
        },
        "id": "rX0_tnBoylOp",
        "outputId": "59da8683-abfc-4e8c-fa11-60bbf68b21ae"
      },
      "source": [
        "sns.boxplot(serie_means);"
      ],
      "execution_count": null,
      "outputs": [
        {
          "output_type": "stream",
          "text": [
            "/usr/local/lib/python3.7/dist-packages/seaborn/_decorators.py:43: FutureWarning: Pass the following variable as a keyword arg: x. From version 0.12, the only valid positional argument will be `data`, and passing other arguments without an explicit keyword will result in an error or misinterpretation.\n",
            "  FutureWarning\n"
          ],
          "name": "stderr"
        },
        {
          "output_type": "display_data",
          "data": {
            "image/png": "[encoded data removed]",
            "text/plain": [
              "<Figure size 432x288 with 1 Axes>"
            ]
          },
          "metadata": {
            "tags": []
          }
        }
      ]
    },
    {
      "cell_type": "markdown",
      "metadata": {
        "id": "DyFWwPeayoKw"
      },
      "source": [
        "De esta forma, se puede concluir que entre menor es el error estándar, menor variabilidad e incertidumbre existirá con respecto a nuestra medida estadística, en este caso la media. Lo cual se comprobó en los pasos anteriores.\n",
        "\n",
        "Con los datos obtenidos anteriormente se calculó el intervalo de confianza para cuantificar la incertidumbre que existe en nuestra medida estadística. De esta forma, el intervalo de confianza es el intervalo numérico para asegurar con cierto nivel de seguridad que caerá nuestra nueva medición estadística. En este caso, para el intervalo de confianza del 95% se removieron 2.5% de valores al inicio y al final; se obtuvieron los nuevos valores máximo y mínimo y de esta forma el 95% de los valores quedan en este intervalo:"
      ]
    },
    {
      "cell_type": "code",
      "metadata": {
        "id": "FnYrwwXHyq8P"
      },
      "source": [
        "limite_inferior = serie_means.quantile(0.025)\n",
        "limite_superior = serie_means.quantile(0.975)"
      ],
      "execution_count": null,
      "outputs": []
    },
    {
      "cell_type": "markdown",
      "metadata": {
        "id": "wUNbgU3cytnZ"
      },
      "source": [
        "Quedando el intervalo de la siguiente forma:"
      ]
    },
    {
      "cell_type": "code",
      "metadata": {
        "colab": {
          "base_uri": "https://localhost:8080/"
        },
        "id": "LtH4masWytVC",
        "outputId": "8e0a8306-a74f-44b6-8349-448fa2661a1f"
      },
      "source": [
        "print(f'Intervalo de 95% confianza de la media: {limite_inferior} < {ratings_para_bootstrap.mean()} < {limite_superior}')"
      ],
      "execution_count": null,
      "outputs": [
        {
          "output_type": "stream",
          "text": [
            "Intervalo de 95% confianza de la media: 4.04 < 4.191757420456978 < 4.3260000000000005\n"
          ],
          "name": "stdout"
        }
      ]
    },
    {
      "cell_type": "markdown",
      "metadata": {
        "id": "_4lK3f7IyyZF"
      },
      "source": [
        "De igual forma se puede visualizar el intervalo de confianza en la gráfica generada anteriormente:"
      ]
    },
    {
      "cell_type": "code",
      "metadata": {
        "colab": {
          "base_uri": "https://localhost:8080/",
          "height": 324
        },
        "id": "OvmJYV1Dy0Rm",
        "outputId": "cd676d4e-06d2-4cde-c0e9-10fa305e8572"
      },
      "source": [
        "sns.distplot(serie_means, kde=False, norm_hist=False)\n",
        "plt.axvline(limite_inferior)\n",
        "plt.axvline(limite_superior);"
      ],
      "execution_count": null,
      "outputs": [
        {
          "output_type": "stream",
          "text": [
            "/usr/local/lib/python3.7/dist-packages/seaborn/distributions.py:2557: FutureWarning: `distplot` is a deprecated function and will be removed in a future version. Please adapt your code to use either `displot` (a figure-level function with similar flexibility) or `histplot` (an axes-level function for histograms).\n",
            "  warnings.warn(msg, FutureWarning)\n"
          ],
          "name": "stderr"
        },
        {
          "output_type": "display_data",
          "data": {
            "image/png": "[encoded data removed]",
            "text/plain": [
              "<Figure size 432x288 with 1 Axes>"
            ]
          },
          "metadata": {
            "tags": []
          }
        }
      ]
    },
    {
      "cell_type": "markdown",
      "metadata": {
        "id": "n5IRwPvpy3hy"
      },
      "source": [
        "Los pasos anteriores se realizaron además para las columna de tamaño de las app. Con lo cual se obtuvieron los siguientes resultados:"
      ]
    },
    {
      "cell_type": "code",
      "metadata": {
        "id": "hwJlOnI3y28e"
      },
      "source": [
        "tamano_para_bootstrap = df_limpio['Tamanio_MB']\n",
        "\n",
        "means = []\n",
        "\n",
        "for i in range(100_000):\n",
        "    sample = tamano_para_bootstrap.sample(n=50, replace=True)\n",
        "    means.append(sample.mean())\n",
        "    \n",
        "serie_means = pd.Series(means)"
      ],
      "execution_count": null,
      "outputs": []
    },
    {
      "cell_type": "code",
      "metadata": {
        "colab": {
          "base_uri": "https://localhost:8080/",
          "height": 322
        },
        "id": "oel0y__gzBMV",
        "outputId": "f93da775-8fb1-4b66-f2a5-c7b4312d9c4b"
      },
      "source": [
        "sns.distplot(serie_means, kde=False, norm_hist=False);"
      ],
      "execution_count": null,
      "outputs": [
        {
          "output_type": "stream",
          "text": [
            "/usr/local/lib/python3.7/dist-packages/seaborn/distributions.py:2557: FutureWarning: `distplot` is a deprecated function and will be removed in a future version. Please adapt your code to use either `displot` (a figure-level function with similar flexibility) or `histplot` (an axes-level function for histograms).\n",
            "  warnings.warn(msg, FutureWarning)\n"
          ],
          "name": "stderr"
        },
        {
          "output_type": "display_data",
          "data": {
            "image/png": "[encoded data removed]",
            "text/plain": [
              "<Figure size 432x288 with 1 Axes>"
            ]
          },
          "metadata": {
            "tags": []
          }
        }
      ]
    },
    {
      "cell_type": "code",
      "metadata": {
        "colab": {
          "base_uri": "https://localhost:8080/"
        },
        "id": "O53fJNMKzD08",
        "outputId": "da60155c-5d32-4c9a-ffca-df3a95542ee4"
      },
      "source": [
        "print(f' La media obtenida es de: {serie_means.mean()}')"
      ],
      "execution_count": null,
      "outputs": [
        {
          "output_type": "stream",
          "text": [
            " La media obtenida es de: 21.37736328152324\n"
          ],
          "name": "stdout"
        }
      ]
    },
    {
      "cell_type": "markdown",
      "metadata": {
        "id": "1E2a1DUfzGx4"
      },
      "source": [
        "En comparación con los datos originales en donde la media de los datos con respecto al tamaño fue de 21.368, a través del bootstrap se obtuvo un valor aproximado como media de las medias; por lo cual se puede concluir que el teorema del límite central se cumple, ya que la distribución de las medias sigue aproximadamente una distribución normal, como se puede observar en el histograma graficado anteriormente.\n",
        "\n",
        "Posteriormente se obtuvo el error estándar, así como el valor mínimo, máximo y rango de los datos:"
      ]
    },
    {
      "cell_type": "code",
      "metadata": {
        "colab": {
          "base_uri": "https://localhost:8080/"
        },
        "id": "vglxc6FJzOZy",
        "outputId": "70733b31-31b2-445a-f2f5-490a42ab9f58"
      },
      "source": [
        "print(f'Error estándar: {serie_means.std()}')\n",
        "print(f'Valor mínimo: {serie_means.min()}')\n",
        "print(f'Valor máximo: {serie_means.max()}')\n",
        "print(f'Rango: {serie_means.max() - serie_means.min()}')"
      ],
      "execution_count": null,
      "outputs": [
        {
          "output_type": "stream",
          "text": [
            "Error estándar: 3.1000365319101215\n",
            "Valor mínimo: 10.75998046875\n",
            "Valor máximo: 36.3719375\n",
            "Rango: 25.61195703125\n"
          ],
          "name": "stdout"
        }
      ]
    },
    {
      "cell_type": "markdown",
      "metadata": {
        "id": "c82BxsVrzTkO"
      },
      "source": [
        "De esta forma, se puede concluir que entre menor es el error estándar, menor variabilidad e incertidumbre existirá con respecto a nuestra medida estadística, en este caso la media. Lo cual se comprobó en los pasos anteriores.\n",
        "\n",
        "Finalmente, se obtuvieron los intervalos para el 95% de confianza para asegurar que nuestra medición estadística caerá en dicho intervalo:"
      ]
    },
    {
      "cell_type": "code",
      "metadata": {
        "colab": {
          "base_uri": "https://localhost:8080/",
          "height": 339
        },
        "id": "jaPgaD80zWnY",
        "outputId": "74e2d8f1-9ee9-4f8f-a464-0e056d094d15"
      },
      "source": [
        "limite_inferior = serie_means.quantile(0.025)\n",
        "limite_superior = serie_means.quantile(0.975)\n",
        "print(f'Intervalo de 95% confianza de la media: {limite_inferior} < {tamano_para_bootstrap.mean()} < {limite_superior}')\n",
        "sns.distplot(serie_means, kde=False, norm_hist=False)\n",
        "plt.axvline(limite_inferior)\n",
        "plt.axvline(limite_superior);\n"
      ],
      "execution_count": null,
      "outputs": [
        {
          "output_type": "stream",
          "text": [
            "Intervalo de 95% confianza de la media: 15.656169140625 < 21.367877975356368 < 27.811999999999998\n"
          ],
          "name": "stdout"
        },
        {
          "output_type": "stream",
          "text": [
            "/usr/local/lib/python3.7/dist-packages/seaborn/distributions.py:2557: FutureWarning: `distplot` is a deprecated function and will be removed in a future version. Please adapt your code to use either `displot` (a figure-level function with similar flexibility) or `histplot` (an axes-level function for histograms).\n",
            "  warnings.warn(msg, FutureWarning)\n"
          ],
          "name": "stderr"
        },
        {
          "output_type": "display_data",
          "data": {
            "image/png": "[encoded data removed]",
            "text/plain": [
              "<Figure size 432x288 with 1 Axes>"
            ]
          },
          "metadata": {
            "tags": []
          }
        }
      ]
    },
    {
      "cell_type": "markdown",
      "metadata": {
        "id": "xY_dnWFqzWUb"
      },
      "source": [
        "### **Visualización avanzada.**\n",
        "\n",
        "Posteriormente, con el objetivo de identificar en qué categoría podría tener una mejor recepción nuestra aplicación móvil, se generó un treemap por rating. De esta forma se agruparon los datos por nombre de la app y con el objetivo de evitar la posible repetición de alguna de ellas se utilizó el método .max(). Después, se desplegaron las columnas de Categoría y Exito_app como se observa en el dataset filtrado con la información que ocuparemos en la construcción del treemap."
      ]
    },
    {
      "cell_type": "code",
      "metadata": {
        "colab": {
          "base_uri": "https://localhost:8080/",
          "height": 235
        },
        "id": "iVtmRTXxzci1",
        "outputId": "8d633b76-26f9-497e-ee29-fa56c4d6b980"
      },
      "source": [
        "df_grouped = df_limpio.groupby('App')[['Categoria', 'Exito_app']].max()\n",
        "df_grouped.head()"
      ],
      "execution_count": null,
      "outputs": [
        {
          "output_type": "execute_result",
          "data": {
            "text/html": [
              "<div>\n",
              "<style scoped>\n",
              "    .dataframe tbody tr th:only-of-type {\n",
              "        vertical-align: middle;\n",
              "    }\n",
              "\n",
              "    .dataframe tbody tr th {\n",
              "        vertical-align: top;\n",
              "    }\n",
              "\n",
              "    .dataframe thead th {\n",
              "        text-align: right;\n",
              "    }\n",
              "</style>\n",
              "<table border=\"1\" class=\"dataframe\">\n",
              "  <thead>\n",
              "    <tr style=\"text-align: right;\">\n",
              "      <th></th>\n",
              "      <th>Categoria</th>\n",
              "      <th>Exito_app</th>\n",
              "    </tr>\n",
              "    <tr>\n",
              "      <th>App</th>\n",
              "      <th></th>\n",
              "      <th></th>\n",
              "    </tr>\n",
              "  </thead>\n",
              "  <tbody>\n",
              "    <tr>\n",
              "      <th>+Download 4 Instagram Twitter</th>\n",
              "      <td>SOCIAL</td>\n",
              "      <td>1</td>\n",
              "    </tr>\n",
              "    <tr>\n",
              "      <th>- Free Comics - Comic Apps</th>\n",
              "      <td>COMICS</td>\n",
              "      <td>0</td>\n",
              "    </tr>\n",
              "    <tr>\n",
              "      <th>.R</th>\n",
              "      <td>TOOLS</td>\n",
              "      <td>1</td>\n",
              "    </tr>\n",
              "    <tr>\n",
              "      <th>/u/app</th>\n",
              "      <td>COMMUNICATION</td>\n",
              "      <td>1</td>\n",
              "    </tr>\n",
              "    <tr>\n",
              "      <th>058.ba</th>\n",
              "      <td>NEWS_AND_MAGAZINES</td>\n",
              "      <td>1</td>\n",
              "    </tr>\n",
              "  </tbody>\n",
              "</table>\n",
              "</div>"
            ],
            "text/plain": [
              "                                        Categoria  Exito_app\n",
              "App                                                         \n",
              "+Download 4 Instagram Twitter              SOCIAL          1\n",
              "- Free Comics - Comic Apps                 COMICS          0\n",
              ".R                                          TOOLS          1\n",
              "/u/app                              COMMUNICATION          1\n",
              "058.ba                         NEWS_AND_MAGAZINES          1"
            ]
          },
          "metadata": {
            "tags": []
          },
          "execution_count": 56
        }
      ]
    },
    {
      "cell_type": "markdown",
      "metadata": {
        "id": "Cw9wg6KHzfR5"
      },
      "source": [
        "A nuestro dataset anterior, se agregó una columna adicional llamada count, la cual nos servirá para generar el treemap y realizar el conteo de cuantas aplicaciones fueron exitosas y cuantas no, dentro de cada categoría."
      ]
    },
    {
      "cell_type": "code",
      "metadata": {
        "id": "J6lrPuiwzljN"
      },
      "source": [
        "df_grouped['count'] = 1"
      ],
      "execution_count": null,
      "outputs": []
    },
    {
      "cell_type": "markdown",
      "metadata": {
        "id": "L-mNsp4Wzst-"
      },
      "source": [
        "Al inicio se tuvo que actualiza plotly con el siguiente código con el propósito de poder visualizar los treemaps generados:"
      ]
    },
    {
      "cell_type": "code",
      "metadata": {
        "colab": {
          "base_uri": "https://localhost:8080/"
        },
        "id": "EjDCaQApS3rg",
        "outputId": "24c1ae80-fb54-4031-c927-daa2ee31208b"
      },
      "source": [
        "!pip install plotly --upgrade"
      ],
      "execution_count": null,
      "outputs": [
        {
          "output_type": "stream",
          "text": [
            "Requirement already up-to-date: plotly in /usr/local/lib/python3.7/dist-packages (4.14.3)\n",
            "Requirement already satisfied, skipping upgrade: retrying>=1.3.3 in /usr/local/lib/python3.7/dist-packages (from plotly) (1.3.3)\n",
            "Requirement already satisfied, skipping upgrade: six in /usr/local/lib/python3.7/dist-packages (from plotly) (1.15.0)\n"
          ],
          "name": "stdout"
        }
      ]
    },
    {
      "cell_type": "code",
      "metadata": {
        "id": "YsMurYAuz2WD"
      },
      "source": [
        "import plotly.express as px"
      ],
      "execution_count": null,
      "outputs": []
    },
    {
      "cell_type": "code",
      "metadata": {
        "colab": {
          "base_uri": "https://localhost:8080/",
          "height": 542
        },
        "id": "et59WIsMzo2z",
        "outputId": "55db8367-eada-4d4d-9e3f-7213c1b706fe"
      },
      "source": [
        "fig = px.treemap(df_grouped, path = ['Categoria', 'Exito_app'], values='count')\n",
        "fig.show()\n"
      ],
      "execution_count": null,
      "outputs": [
        {
          "output_type": "display_data",
          "data": {
            "text/html": [
              "<html>\n",
              "<head><meta charset=\"utf-8\" /></head>\n",
              "<body>\n",
              "    <div>            <script src=\"https://cdnjs.cloudflare.com/ajax/libs/mathjax/2.7.5/MathJax.js?config=TeX-AMS-MML_SVG\"></script><script type=\"text/javascript\">if (window.MathJax) {MathJax.Hub.Config({SVG: {font: \"STIX-Web\"}});}</script>                <script type=\"text/javascript\">window.PlotlyConfig = {MathJaxConfig: 'local'};</script>\n",
              "        <script src=\"https://cdn.plot.ly/plotly-latest.min.js\"></script>                <div id=\"1460e4c7-5bdc-4668-959f-6f43bb1f0afc\" class=\"plotly-graph-div\" style=\"height:525px; width:100%;\"></div>            <script type=\"text/javascript\">                                    window.PLOTLYENV=window.PLOTLYENV || {};                                    if (document.getElementById(\"1460e4c7-5bdc-4668-959f-6f43bb1f0afc\")) {                    Plotly.newPlot(                        \"1460e4c7-5bdc-4668-959f-6f43bb1f0afc\",                        [{\"branchvalues\": \"total\", \"domain\": {\"x\": [0.0, 1.0], \"y\": [0.0, 1.0]}, \"hovertemplate\": \"labels=%{label}<br>count=%{value}<br>parent=%{parent}<br>id=%{id}<extra></extra>\", \"ids\": [\"ART_AND_DESIGN/0\", \"AUTO_AND_VEHICLES/0\", \"BEAUTY/0\", \"BOOKS_AND_REFERENCE/0\", \"BUSINESS/0\", \"COMICS/0\", \"COMMUNICATION/0\", \"DATING/0\", \"EDUCATION/0\", \"ENTERTAINMENT/0\", \"EVENTS/0\", \"FAMILY/0\", \"FINANCE/0\", \"FOOD_AND_DRINK/0\", \"GAME/0\", \"HEALTH_AND_FITNESS/0\", \"HOUSE_AND_HOME/0\", \"LIBRARIES_AND_DEMO/0\", \"LIFESTYLE/0\", \"MAPS_AND_NAVIGATION/0\", \"MEDICAL/0\", \"NEWS_AND_MAGAZINES/0\", \"PARENTING/0\", \"PERSONALIZATION/0\", \"PHOTOGRAPHY/0\", \"PRODUCTIVITY/0\", \"SHOPPING/0\", \"SOCIAL/0\", \"SPORTS/0\", \"TOOLS/0\", \"TRAVEL_AND_LOCAL/0\", \"VIDEO_PLAYERS/0\", \"WEATHER/0\", \"ART_AND_DESIGN/1\", \"AUTO_AND_VEHICLES/1\", \"BEAUTY/1\", \"BOOKS_AND_REFERENCE/1\", \"BUSINESS/1\", \"COMICS/1\", \"COMMUNICATION/1\", \"DATING/1\", \"EDUCATION/1\", \"ENTERTAINMENT/1\", \"EVENTS/1\", \"FAMILY/1\", \"FINANCE/1\", \"FOOD_AND_DRINK/1\", \"GAME/1\", \"HEALTH_AND_FITNESS/1\", \"HOUSE_AND_HOME/1\", \"LIBRARIES_AND_DEMO/1\", \"LIFESTYLE/1\", \"MAPS_AND_NAVIGATION/1\", \"MEDICAL/1\", \"NEWS_AND_MAGAZINES/1\", \"PARENTING/1\", \"PERSONALIZATION/1\", \"PHOTOGRAPHY/1\", \"PRODUCTIVITY/1\", \"SHOPPING/1\", \"SOCIAL/1\", \"SPORTS/1\", \"TOOLS/1\", \"TRAVEL_AND_LOCAL/1\", \"VIDEO_PLAYERS/1\", \"WEATHER/1\", \"ART_AND_DESIGN\", \"AUTO_AND_VEHICLES\", \"BEAUTY\", \"BOOKS_AND_REFERENCE\", \"BUSINESS\", \"COMICS\", \"COMMUNICATION\", \"DATING\", \"EDUCATION\", \"ENTERTAINMENT\", \"EVENTS\", \"FAMILY\", \"FINANCE\", \"FOOD_AND_DRINK\", \"GAME\", \"HEALTH_AND_FITNESS\", \"HOUSE_AND_HOME\", \"LIBRARIES_AND_DEMO\", \"LIFESTYLE\", \"MAPS_AND_NAVIGATION\", \"MEDICAL\", \"NEWS_AND_MAGAZINES\", \"PARENTING\", \"PERSONALIZATION\", \"PHOTOGRAPHY\", \"PRODUCTIVITY\", \"SHOPPING\", \"SOCIAL\", \"SPORTS\", \"TOOLS\", \"TRAVEL_AND_LOCAL\", \"VIDEO_PLAYERS\", \"WEATHER\"], \"labels\": [\"0\", \"0\", \"0\", \"0\", \"0\", \"0\", \"0\", \"0\", \"0\", \"0\", \"0\", \"0\", \"0\", \"0\", \"0\", \"0\", \"0\", \"0\", \"0\", \"0\", \"0\", \"0\", \"0\", \"0\", \"0\", \"0\", \"0\", \"0\", \"0\", \"0\", \"0\", \"0\", \"0\", \"1\", \"1\", \"1\", \"1\", \"1\", \"1\", \"1\", \"1\", \"1\", \"1\", \"1\", \"1\", \"1\", \"1\", \"1\", \"1\", \"1\", \"1\", \"1\", \"1\", \"1\", \"1\", \"1\", \"1\", \"1\", \"1\", \"1\", \"1\", \"1\", \"1\", \"1\", \"1\", \"1\", \"ART_AND_DESIGN\", \"AUTO_AND_VEHICLES\", \"BEAUTY\", \"BOOKS_AND_REFERENCE\", \"BUSINESS\", \"COMICS\", \"COMMUNICATION\", \"DATING\", \"EDUCATION\", \"ENTERTAINMENT\", \"EVENTS\", \"FAMILY\", \"FINANCE\", \"FOOD_AND_DRINK\", \"GAME\", \"HEALTH_AND_FITNESS\", \"HOUSE_AND_HOME\", \"LIBRARIES_AND_DEMO\", \"LIFESTYLE\", \"MAPS_AND_NAVIGATION\", \"MEDICAL\", \"NEWS_AND_MAGAZINES\", \"PARENTING\", \"PERSONALIZATION\", \"PHOTOGRAPHY\", \"PRODUCTIVITY\", \"SHOPPING\", \"SOCIAL\", \"SPORTS\", \"TOOLS\", \"TRAVEL_AND_LOCAL\", \"VIDEO_PLAYERS\", \"WEATHER\"], \"name\": \"\", \"parents\": [\"ART_AND_DESIGN\", \"AUTO_AND_VEHICLES\", \"BEAUTY\", \"BOOKS_AND_REFERENCE\", \"BUSINESS\", \"COMICS\", \"COMMUNICATION\", \"DATING\", \"EDUCATION\", \"ENTERTAINMENT\", \"EVENTS\", \"FAMILY\", \"FINANCE\", \"FOOD_AND_DRINK\", \"GAME\", \"HEALTH_AND_FITNESS\", \"HOUSE_AND_HOME\", \"LIBRARIES_AND_DEMO\", \"LIFESTYLE\", \"MAPS_AND_NAVIGATION\", \"MEDICAL\", \"NEWS_AND_MAGAZINES\", \"PARENTING\", \"PERSONALIZATION\", \"PHOTOGRAPHY\", \"PRODUCTIVITY\", \"SHOPPING\", \"SOCIAL\", \"SPORTS\", \"TOOLS\", \"TRAVEL_AND_LOCAL\", \"VIDEO_PLAYERS\", \"WEATHER\", \"ART_AND_DESIGN\", \"AUTO_AND_VEHICLES\", \"BEAUTY\", \"BOOKS_AND_REFERENCE\", \"BUSINESS\", \"COMICS\", \"COMMUNICATION\", \"DATING\", \"EDUCATION\", \"ENTERTAINMENT\", \"EVENTS\", \"FAMILY\", \"FINANCE\", \"FOOD_AND_DRINK\", \"GAME\", \"HEALTH_AND_FITNESS\", \"HOUSE_AND_HOME\", \"LIBRARIES_AND_DEMO\", \"LIFESTYLE\", \"MAPS_AND_NAVIGATION\", \"MEDICAL\", \"NEWS_AND_MAGAZINES\", \"PARENTING\", \"PERSONALIZATION\", \"PHOTOGRAPHY\", \"PRODUCTIVITY\", \"SHOPPING\", \"SOCIAL\", \"SPORTS\", \"TOOLS\", \"TRAVEL_AND_LOCAL\", \"VIDEO_PLAYERS\", \"WEATHER\", \"\", \"\", \"\", \"\", \"\", \"\", \"\", \"\", \"\", \"\", \"\", \"\", \"\", \"\", \"\", \"\", \"\", \"\", \"\", \"\", \"\", \"\", \"\", \"\", \"\", \"\", \"\", \"\", \"\", \"\", \"\", \"\", \"\"], \"type\": \"treemap\", \"values\": [9, 27, 12, 33, 92, 17, 83, 60, 16, 28, 8, 505, 98, 27, 204, 58, 24, 21, 116, 43, 91, 73, 12, 40, 76, 79, 41, 47, 69, 269, 66, 58, 19, 50, 46, 30, 136, 170, 37, 174, 73, 85, 51, 37, 1143, 204, 67, 707, 185, 37, 43, 185, 75, 200, 131, 38, 258, 187, 222, 139, 156, 193, 451, 121, 91, 53, 59, 73, 42, 169, 262, 54, 257, 133, 101, 79, 45, 1648, 302, 94, 911, 243, 61, 64, 301, 118, 291, 204, 50, 298, 263, 301, 180, 203, 262, 720, 187, 149, 72]}],                        {\"legend\": {\"tracegroupgap\": 0}, \"margin\": {\"t\": 60}, \"template\": {\"data\": {\"bar\": [{\"error_x\": {\"color\": \"#2a3f5f\"}, \"error_y\": {\"color\": \"#2a3f5f\"}, \"marker\": {\"line\": {\"color\": \"#E5ECF6\", \"width\": 0.5}}, \"type\": \"bar\"}], \"barpolar\": [{\"marker\": {\"line\": {\"color\": \"#E5ECF6\", \"width\": 0.5}}, \"type\": \"barpolar\"}], \"carpet\": [{\"aaxis\": {\"endlinecolor\": \"#2a3f5f\", \"gridcolor\": \"white\", \"linecolor\": \"white\", \"minorgridcolor\": \"white\", \"startlinecolor\": \"#2a3f5f\"}, \"baxis\": {\"endlinecolor\": \"#2a3f5f\", \"gridcolor\": \"white\", \"linecolor\": \"white\", \"minorgridcolor\": \"white\", \"startlinecolor\": \"#2a3f5f\"}, \"type\": \"carpet\"}], \"choropleth\": [{\"colorbar\": {\"outlinewidth\": 0, \"ticks\": \"\"}, \"type\": \"choropleth\"}], \"contour\": [{\"colorbar\": {\"outlinewidth\": 0, \"ticks\": \"\"}, \"colorscale\": [[0.0, \"#0d0887\"], [0.1111111111111111, \"#46039f\"], [0.2222222222222222, \"#7201a8\"], [0.3333333333333333, \"#9c179e\"], [0.4444444444444444, \"#bd3786\"], [0.5555555555555556, \"#d8576b\"], [0.6666666666666666, \"#ed7953\"], [0.7777777777777778, \"#fb9f3a\"], [0.8888888888888888, \"#fdca26\"], [1.0, \"#f0f921\"]], \"type\": \"contour\"}], \"contourcarpet\": [{\"colorbar\": {\"outlinewidth\": 0, \"ticks\": \"\"}, \"type\": \"contourcarpet\"}], \"heatmap\": [{\"colorbar\": {\"outlinewidth\": 0, \"ticks\": \"\"}, \"colorscale\": [[0.0, \"#0d0887\"], [0.1111111111111111, \"#46039f\"], [0.2222222222222222, \"#7201a8\"], [0.3333333333333333, \"#9c179e\"], [0.4444444444444444, \"#bd3786\"], [0.5555555555555556, \"#d8576b\"], [0.6666666666666666, \"#ed7953\"], [0.7777777777777778, \"#fb9f3a\"], [0.8888888888888888, \"#fdca26\"], [1.0, \"#f0f921\"]], \"type\": \"heatmap\"}], \"heatmapgl\": [{\"colorbar\": {\"outlinewidth\": 0, \"ticks\": \"\"}, \"colorscale\": [[0.0, \"#0d0887\"], [0.1111111111111111, \"#46039f\"], [0.2222222222222222, \"#7201a8\"], [0.3333333333333333, \"#9c179e\"], [0.4444444444444444, \"#bd3786\"], [0.5555555555555556, \"#d8576b\"], [0.6666666666666666, \"#ed7953\"], [0.7777777777777778, \"#fb9f3a\"], [0.8888888888888888, \"#fdca26\"], [1.0, \"#f0f921\"]], \"type\": \"heatmapgl\"}], \"histogram\": [{\"marker\": {\"colorbar\": {\"outlinewidth\": 0, \"ticks\": \"\"}}, \"type\": \"histogram\"}], \"histogram2d\": [{\"colorbar\": {\"outlinewidth\": 0, \"ticks\": \"\"}, \"colorscale\": [[0.0, \"#0d0887\"], [0.1111111111111111, \"#46039f\"], [0.2222222222222222, \"#7201a8\"], [0.3333333333333333, \"#9c179e\"], [0.4444444444444444, \"#bd3786\"], [0.5555555555555556, \"#d8576b\"], [0.6666666666666666, \"#ed7953\"], [0.7777777777777778, \"#fb9f3a\"], [0.8888888888888888, \"#fdca26\"], [1.0, \"#f0f921\"]], \"type\": \"histogram2d\"}], \"histogram2dcontour\": [{\"colorbar\": {\"outlinewidth\": 0, \"ticks\": \"\"}, \"colorscale\": [[0.0, \"#0d0887\"], [0.1111111111111111, \"#46039f\"], [0.2222222222222222, \"#7201a8\"], [0.3333333333333333, \"#9c179e\"], [0.4444444444444444, \"#bd3786\"], [0.5555555555555556, \"#d8576b\"], [0.6666666666666666, \"#ed7953\"], [0.7777777777777778, \"#fb9f3a\"], [0.8888888888888888, \"#fdca26\"], [1.0, \"#f0f921\"]], \"type\": \"histogram2dcontour\"}], \"mesh3d\": [{\"colorbar\": {\"outlinewidth\": 0, \"ticks\": \"\"}, \"type\": \"mesh3d\"}], \"parcoords\": [{\"line\": {\"colorbar\": {\"outlinewidth\": 0, \"ticks\": \"\"}}, \"type\": \"parcoords\"}], \"pie\": [{\"automargin\": true, \"type\": \"pie\"}], \"scatter\": [{\"marker\": {\"colorbar\": {\"outlinewidth\": 0, \"ticks\": \"\"}}, \"type\": \"scatter\"}], \"scatter3d\": [{\"line\": {\"colorbar\": {\"outlinewidth\": 0, \"ticks\": \"\"}}, \"marker\": {\"colorbar\": {\"outlinewidth\": 0, \"ticks\": \"\"}}, \"type\": \"scatter3d\"}], \"scattercarpet\": [{\"marker\": {\"colorbar\": {\"outlinewidth\": 0, \"ticks\": \"\"}}, \"type\": \"scattercarpet\"}], \"scattergeo\": [{\"marker\": {\"colorbar\": {\"outlinewidth\": 0, \"ticks\": \"\"}}, \"type\": \"scattergeo\"}], \"scattergl\": [{\"marker\": {\"colorbar\": {\"outlinewidth\": 0, \"ticks\": \"\"}}, \"type\": \"scattergl\"}], \"scattermapbox\": [{\"marker\": {\"colorbar\": {\"outlinewidth\": 0, \"ticks\": \"\"}}, \"type\": \"scattermapbox\"}], \"scatterpolar\": [{\"marker\": {\"colorbar\": {\"outlinewidth\": 0, \"ticks\": \"\"}}, \"type\": \"scatterpolar\"}], \"scatterpolargl\": [{\"marker\": {\"colorbar\": {\"outlinewidth\": 0, \"ticks\": \"\"}}, \"type\": \"scatterpolargl\"}], \"scatterternary\": [{\"marker\": {\"colorbar\": {\"outlinewidth\": 0, \"ticks\": \"\"}}, \"type\": \"scatterternary\"}], \"surface\": [{\"colorbar\": {\"outlinewidth\": 0, \"ticks\": \"\"}, \"colorscale\": [[0.0, \"#0d0887\"], [0.1111111111111111, \"#46039f\"], [0.2222222222222222, \"#7201a8\"], [0.3333333333333333, \"#9c179e\"], [0.4444444444444444, \"#bd3786\"], [0.5555555555555556, \"#d8576b\"], [0.6666666666666666, \"#ed7953\"], [0.7777777777777778, \"#fb9f3a\"], [0.8888888888888888, \"#fdca26\"], [1.0, \"#f0f921\"]], \"type\": \"surface\"}], \"table\": [{\"cells\": {\"fill\": {\"color\": \"#EBF0F8\"}, \"line\": {\"color\": \"white\"}}, \"header\": {\"fill\": {\"color\": \"#C8D4E3\"}, \"line\": {\"color\": \"white\"}}, \"type\": \"table\"}]}, \"layout\": {\"annotationdefaults\": {\"arrowcolor\": \"#2a3f5f\", \"arrowhead\": 0, \"arrowwidth\": 1}, \"autotypenumbers\": \"strict\", \"coloraxis\": {\"colorbar\": {\"outlinewidth\": 0, \"ticks\": \"\"}}, \"colorscale\": {\"diverging\": [[0, \"#8e0152\"], [0.1, \"#c51b7d\"], [0.2, \"#de77ae\"], [0.3, \"#f1b6da\"], [0.4, \"#fde0ef\"], [0.5, \"#f7f7f7\"], [0.6, \"#e6f5d0\"], [0.7, \"#b8e186\"], [0.8, \"#7fbc41\"], [0.9, \"#4d9221\"], [1, \"#276419\"]], \"sequential\": [[0.0, \"#0d0887\"], [0.1111111111111111, \"#46039f\"], [0.2222222222222222, \"#7201a8\"], [0.3333333333333333, \"#9c179e\"], [0.4444444444444444, \"#bd3786\"], [0.5555555555555556, \"#d8576b\"], [0.6666666666666666, \"#ed7953\"], [0.7777777777777778, \"#fb9f3a\"], [0.8888888888888888, \"#fdca26\"], [1.0, \"#f0f921\"]], \"sequentialminus\": [[0.0, \"#0d0887\"], [0.1111111111111111, \"#46039f\"], [0.2222222222222222, \"#7201a8\"], [0.3333333333333333, \"#9c179e\"], [0.4444444444444444, \"#bd3786\"], [0.5555555555555556, \"#d8576b\"], [0.6666666666666666, \"#ed7953\"], [0.7777777777777778, \"#fb9f3a\"], [0.8888888888888888, \"#fdca26\"], [1.0, \"#f0f921\"]]}, \"colorway\": [\"#636efa\", \"#EF553B\", \"#00cc96\", \"#ab63fa\", \"#FFA15A\", \"#19d3f3\", \"#FF6692\", \"#B6E880\", \"#FF97FF\", \"#FECB52\"], \"font\": {\"color\": \"#2a3f5f\"}, \"geo\": {\"bgcolor\": \"white\", \"lakecolor\": \"white\", \"landcolor\": \"#E5ECF6\", \"showlakes\": true, \"showland\": true, \"subunitcolor\": \"white\"}, \"hoverlabel\": {\"align\": \"left\"}, \"hovermode\": \"closest\", \"mapbox\": {\"style\": \"light\"}, \"paper_bgcolor\": \"white\", \"plot_bgcolor\": \"#E5ECF6\", \"polar\": {\"angularaxis\": {\"gridcolor\": \"white\", \"linecolor\": \"white\", \"ticks\": \"\"}, \"bgcolor\": \"#E5ECF6\", \"radialaxis\": {\"gridcolor\": \"white\", \"linecolor\": \"white\", \"ticks\": \"\"}}, \"scene\": {\"xaxis\": {\"backgroundcolor\": \"#E5ECF6\", \"gridcolor\": \"white\", \"gridwidth\": 2, \"linecolor\": \"white\", \"showbackground\": true, \"ticks\": \"\", \"zerolinecolor\": \"white\"}, \"yaxis\": {\"backgroundcolor\": \"#E5ECF6\", \"gridcolor\": \"white\", \"gridwidth\": 2, \"linecolor\": \"white\", \"showbackground\": true, \"ticks\": \"\", \"zerolinecolor\": \"white\"}, \"zaxis\": {\"backgroundcolor\": \"#E5ECF6\", \"gridcolor\": \"white\", \"gridwidth\": 2, \"linecolor\": \"white\", \"showbackground\": true, \"ticks\": \"\", \"zerolinecolor\": \"white\"}}, \"shapedefaults\": {\"line\": {\"color\": \"#2a3f5f\"}}, \"ternary\": {\"aaxis\": {\"gridcolor\": \"white\", \"linecolor\": \"white\", \"ticks\": \"\"}, \"baxis\": {\"gridcolor\": \"white\", \"linecolor\": \"white\", \"ticks\": \"\"}, \"bgcolor\": \"#E5ECF6\", \"caxis\": {\"gridcolor\": \"white\", \"linecolor\": \"white\", \"ticks\": \"\"}}, \"title\": {\"x\": 0.05}, \"xaxis\": {\"automargin\": true, \"gridcolor\": \"white\", \"linecolor\": \"white\", \"ticks\": \"\", \"title\": {\"standoff\": 15}, \"zerolinecolor\": \"white\", \"zerolinewidth\": 2}, \"yaxis\": {\"automargin\": true, \"gridcolor\": \"white\", \"linecolor\": \"white\", \"ticks\": \"\", \"title\": {\"standoff\": 15}, \"zerolinecolor\": \"white\", \"zerolinewidth\": 2}}}},                        {\"responsive\": true}                    ).then(function(){\n",
              "                            \n",
              "var gd = document.getElementById('1460e4c7-5bdc-4668-959f-6f43bb1f0afc');\n",
              "var x = new MutationObserver(function (mutations, observer) {{\n",
              "        var display = window.getComputedStyle(gd).display;\n",
              "        if (!display || display === 'none') {{\n",
              "            console.log([gd, 'removed!']);\n",
              "            Plotly.purge(gd);\n",
              "            observer.disconnect();\n",
              "        }}\n",
              "}});\n",
              "\n",
              "// Listen for the removal of the full notebook cells\n",
              "var notebookContainer = gd.closest('#notebook-container');\n",
              "if (notebookContainer) {{\n",
              "    x.observe(notebookContainer, {childList: true});\n",
              "}}\n",
              "\n",
              "// Listen for the clearing of the current output cell\n",
              "var outputEl = gd.closest('.output');\n",
              "if (outputEl) {{\n",
              "    x.observe(outputEl, {childList: true});\n",
              "}}\n",
              "\n",
              "                        })                };                            </script>        </div>\n",
              "</body>\n",
              "</html>"
            ]
          },
          "metadata": {
            "tags": []
          }
        }
      ]
    },
    {
      "cell_type": "markdown",
      "metadata": {
        "id": "O2cNLEv90qxn"
      },
      "source": [
        "Del treemap anterior se concluyó lo siguiente:\n",
        "- Las categoría con más aplicaciones móviles es FAMILY, la cual presentó 1143 aplicaciones exitosas y 505 no exitosas. Lo anterior se puede expresar de la siguiente forma: El 69% de las aplicaciones móviles dentro de la categoría FAMILY son exitosas.\n",
        "- Las categorías con más aplicaciones móviles, despues de FAMILY, son GAME, TOOLS, FINANCE, LIFESTYLE y PRODUCTIVITY.\n",
        "- Del treemap se observa el sesgo identificado en secciones anteriores, en donde la mayoría de las aplicaciones por categoría son exitosas; por lo cual una clasificación diferente sería de mayor utilidad en el análisis, considerando una escala de 0,1 o 2; en donde:\n",
        "\n",
        "\"0\" significa que es una aplicación de mala a regular.\n",
        "\"1\" significa que es una buena aplicación.\n",
        "\"2\" significa que es una excelente aplicación.\n",
        "\n",
        "\n",
        "Por otro lado, se identificó que el enfoque de la aplicación podría determinar la categoría en la cual colocarla: \n",
        "- Si se decide realizar una aplicación en la cual los usuarios imiten los movimientos de atletas o la rutina de personajes famosos, la aplicación podría incorporarse bajo la categoría de GAMES, SPORTS o ENTERTAINMENT; si el enfoque va enfocado en mejorar rutinas de ejercicio o si se decide incorporar en las nuevas apps generadas por los gimnasios, la aplicación podría incluirse dentro de las categorías PRODUCTIVITY, HEALTH AND FITNESS o LIFESTYLE.\n",
        "\n",
        "Sin embargo, si el enfoque de la aplicación cubre segmentos completos de mercado, en este caso niños, adolescentes y adultos jóvenes, el scope de la aplicación permitiría incorporarla bajo la categoría de FAMILY, en donde podría tener mayor probabilidad de ser éxitosa, como resultado del análisis realizado anteriormente. Por otro lado,  cabe destacar que al existir una mayor cantidad de aplicaciones móviles en esta categoría, el mercado y la demanda son mayores, generando una mayor competencia."
      ]
    },
    {
      "cell_type": "markdown",
      "metadata": {
        "id": "PnnIr4Me0s-K"
      },
      "source": [
        "A partir de los resultados anteriores, el treemap se amplió para considerar bajo cada categoría, cual era el precio de cada app que era considerada exitosa o no:"
      ]
    },
    {
      "cell_type": "code",
      "metadata": {
        "colab": {
          "base_uri": "https://localhost:8080/",
          "height": 235
        },
        "id": "9rSj3ER6yBxg",
        "outputId": "c0cb36e0-4a9a-4fbc-f7e4-527722d15b5c"
      },
      "source": [
        "df_grouped_2 = df_limpio.groupby('App')[['Categoria', 'Exito_app', 'Precio']].max()\n",
        "df_grouped_2['count'] = 1\n",
        "df_grouped_2.head()"
      ],
      "execution_count": null,
      "outputs": [
        {
          "output_type": "execute_result",
          "data": {
            "text/html": [
              "<div>\n",
              "<style scoped>\n",
              "    .dataframe tbody tr th:only-of-type {\n",
              "        vertical-align: middle;\n",
              "    }\n",
              "\n",
              "    .dataframe tbody tr th {\n",
              "        vertical-align: top;\n",
              "    }\n",
              "\n",
              "    .dataframe thead th {\n",
              "        text-align: right;\n",
              "    }\n",
              "</style>\n",
              "<table border=\"1\" class=\"dataframe\">\n",
              "  <thead>\n",
              "    <tr style=\"text-align: right;\">\n",
              "      <th></th>\n",
              "      <th>Categoria</th>\n",
              "      <th>Exito_app</th>\n",
              "      <th>Precio</th>\n",
              "      <th>count</th>\n",
              "    </tr>\n",
              "    <tr>\n",
              "      <th>App</th>\n",
              "      <th></th>\n",
              "      <th></th>\n",
              "      <th></th>\n",
              "      <th></th>\n",
              "    </tr>\n",
              "  </thead>\n",
              "  <tbody>\n",
              "    <tr>\n",
              "      <th>+Download 4 Instagram Twitter</th>\n",
              "      <td>SOCIAL</td>\n",
              "      <td>1</td>\n",
              "      <td>0.000</td>\n",
              "      <td>1</td>\n",
              "    </tr>\n",
              "    <tr>\n",
              "      <th>- Free Comics - Comic Apps</th>\n",
              "      <td>COMICS</td>\n",
              "      <td>0</td>\n",
              "      <td>0.000</td>\n",
              "      <td>1</td>\n",
              "    </tr>\n",
              "    <tr>\n",
              "      <th>.R</th>\n",
              "      <td>TOOLS</td>\n",
              "      <td>1</td>\n",
              "      <td>0.000</td>\n",
              "      <td>1</td>\n",
              "    </tr>\n",
              "    <tr>\n",
              "      <th>/u/app</th>\n",
              "      <td>COMMUNICATION</td>\n",
              "      <td>1</td>\n",
              "      <td>0.000</td>\n",
              "      <td>1</td>\n",
              "    </tr>\n",
              "    <tr>\n",
              "      <th>058.ba</th>\n",
              "      <td>NEWS_AND_MAGAZINES</td>\n",
              "      <td>1</td>\n",
              "      <td>0.000</td>\n",
              "      <td>1</td>\n",
              "    </tr>\n",
              "  </tbody>\n",
              "</table>\n",
              "</div>"
            ],
            "text/plain": [
              "                                        Categoria  Exito_app  Precio  count\n",
              "App                                                                        \n",
              "+Download 4 Instagram Twitter              SOCIAL          1   0.000      1\n",
              "- Free Comics - Comic Apps                 COMICS          0   0.000      1\n",
              ".R                                          TOOLS          1   0.000      1\n",
              "/u/app                              COMMUNICATION          1   0.000      1\n",
              "058.ba                         NEWS_AND_MAGAZINES          1   0.000      1"
            ]
          },
          "metadata": {
            "tags": []
          },
          "execution_count": 61
        }
      ]
    },
    {
      "cell_type": "code",
      "metadata": {
        "colab": {
          "base_uri": "https://localhost:8080/",
          "height": 542
        },
        "id": "fTPKKeZd0yRh",
        "outputId": "0796f105-a5aa-4dec-aeb8-46a39cc7222f"
      },
      "source": [
        "fig = px.treemap(df_grouped_2, path=['Categoria','Exito_app', 'Precio'], values='count')\n",
        "\n",
        "fig.show()"
      ],
      "execution_count": null,
      "outputs": [
        {
          "output_type": "display_data",
          "data": {
            "text/html": [
              "<html>\n",
              "<head><meta charset=\"utf-8\" /></head>\n",
              "<body>\n",
              "    <div>            <script src=\"https://cdnjs.cloudflare.com/ajax/libs/mathjax/2.7.5/MathJax.js?config=TeX-AMS-MML_SVG\"></script><script type=\"text/javascript\">if (window.MathJax) {MathJax.Hub.Config({SVG: {font: \"STIX-Web\"}});}</script>                <script type=\"text/javascript\">window.PlotlyConfig = {MathJaxConfig: 'local'};</script>\n",
              "        <script src=\"https://cdn.plot.ly/plotly-latest.min.js\"></script>                <div id=\"7566596d-c6d7-4710-bf38-0fdb6e414401\" class=\"plotly-graph-div\" style=\"height:525px; width:100%;\"></div>            <script type=\"text/javascript\">                                    window.PLOTLYENV=window.PLOTLYENV || {};                                    if (document.getElementById(\"7566596d-c6d7-4710-bf38-0fdb6e414401\")) {                    Plotly.newPlot(                        \"7566596d-c6d7-4710-bf38-0fdb6e414401\",                        [{\"branchvalues\": \"total\", \"domain\": {\"x\": [0.0, 1.0], \"y\": [0.0, 1.0]}, \"hovertemplate\": \"labels=%{label}<br>count=%{value}<br>parent=%{parent}<br>id=%{id}<extra></extra>\", \"ids\": [\"ART_AND_DESIGN/0/0.0\", \"AUTO_AND_VEHICLES/0/0.0\", \"BEAUTY/0/0.0\", \"BOOKS_AND_REFERENCE/0/0.0\", \"BUSINESS/0/0.0\", \"COMICS/0/0.0\", \"COMMUNICATION/0/0.0\", \"DATING/0/0.0\", \"EDUCATION/0/0.0\", \"ENTERTAINMENT/0/0.0\", \"EVENTS/0/0.0\", \"FAMILY/0/0.0\", \"FINANCE/0/0.0\", \"FOOD_AND_DRINK/0/0.0\", \"GAME/0/0.0\", \"HEALTH_AND_FITNESS/0/0.0\", \"HOUSE_AND_HOME/0/0.0\", \"LIBRARIES_AND_DEMO/0/0.0\", \"LIFESTYLE/0/0.0\", \"MAPS_AND_NAVIGATION/0/0.0\", \"MEDICAL/0/0.0\", \"NEWS_AND_MAGAZINES/0/0.0\", \"PARENTING/0/0.0\", \"PERSONALIZATION/0/0.0\", \"PHOTOGRAPHY/0/0.0\", \"PRODUCTIVITY/0/0.0\", \"SHOPPING/0/0.0\", \"SOCIAL/0/0.0\", \"SPORTS/0/0.0\", \"TOOLS/0/0.0\", \"TRAVEL_AND_LOCAL/0/0.0\", \"VIDEO_PLAYERS/0/0.0\", \"WEATHER/0/0.0\", \"ART_AND_DESIGN/1/0.0\", \"AUTO_AND_VEHICLES/1/0.0\", \"BEAUTY/1/0.0\", \"BOOKS_AND_REFERENCE/1/0.0\", \"BUSINESS/1/0.0\", \"COMICS/1/0.0\", \"COMMUNICATION/1/0.0\", \"DATING/1/0.0\", \"EDUCATION/1/0.0\", \"ENTERTAINMENT/1/0.0\", \"EVENTS/1/0.0\", \"FAMILY/1/0.0\", \"FINANCE/1/0.0\", \"FOOD_AND_DRINK/1/0.0\", \"GAME/1/0.0\", \"HEALTH_AND_FITNESS/1/0.0\", \"HOUSE_AND_HOME/1/0.0\", \"LIBRARIES_AND_DEMO/1/0.0\", \"LIFESTYLE/1/0.0\", \"MAPS_AND_NAVIGATION/1/0.0\", \"MEDICAL/1/0.0\", \"NEWS_AND_MAGAZINES/1/0.0\", \"PARENTING/1/0.0\", \"PERSONALIZATION/1/0.0\", \"PHOTOGRAPHY/1/0.0\", \"PRODUCTIVITY/1/0.0\", \"SHOPPING/1/0.0\", \"SOCIAL/1/0.0\", \"SPORTS/1/0.0\", \"TOOLS/1/0.0\", \"TRAVEL_AND_LOCAL/1/0.0\", \"VIDEO_PLAYERS/1/0.0\", \"WEATHER/1/0.0\", \"COMMUNICATION/0/0.99\", \"FAMILY/0/0.99\", \"GAME/0/0.99\", \"MAPS_AND_NAVIGATION/0/0.99\", \"MEDICAL/0/0.99\", \"PERSONALIZATION/0/0.99\", \"PRODUCTIVITY/0/0.99\", \"SOCIAL/0/0.99\", \"TOOLS/0/0.99\", \"VIDEO_PLAYERS/0/0.99\", \"BOOKS_AND_REFERENCE/1/0.99\", \"COMMUNICATION/1/0.99\", \"FAMILY/1/0.99\", \"GAME/1/0.99\", \"LIFESTYLE/1/0.99\", \"MAPS_AND_NAVIGATION/1/0.99\", \"MEDICAL/1/0.99\", \"NEWS_AND_MAGAZINES/1/0.99\", \"PERSONALIZATION/1/0.99\", \"PRODUCTIVITY/1/0.99\", \"SOCIAL/1/0.99\", \"SPORTS/1/0.99\", \"TOOLS/1/0.99\", \"SPORTS/1/1.0\", \"TOOLS/1/1.0\", \"FAMILY/1/1.2\", \"PRODUCTIVITY/1/1.29\", \"COMMUNICATION/0/1.49\", \"FAMILY/0/1.49\", \"PERSONALIZATION/0/1.49\", \"TOOLS/0/1.49\", \"COMMUNICATION/1/1.49\", \"FAMILY/1/1.49\", \"GAME/1/1.49\", \"PERSONALIZATION/1/1.49\", \"PHOTOGRAPHY/1/1.49\", \"PRODUCTIVITY/1/1.49\", \"TOOLS/1/1.49\", \"VIDEO_PLAYERS/1/1.49\", \"MEDICAL/1/1.5\", \"FAMILY/1/1.59\", \"GAME/1/1.61\", \"PERSONALIZATION/1/1.7\", \"BOOKS_AND_REFERENCE/1/1.75\", \"TOOLS/1/1.76\", \"TOOLS/1/1.97\", \"BOOKS_AND_REFERENCE/0/1.99\", \"FAMILY/0/1.99\", \"FINANCE/0/1.99\", \"GAME/0/1.99\", \"HEALTH_AND_FITNESS/0/1.99\", \"PERSONALIZATION/0/1.99\", \"TOOLS/0/1.99\", \"WEATHER/0/1.99\", \"ART_AND_DESIGN/1/1.99\", \"AUTO_AND_VEHICLES/1/1.99\", \"FAMILY/1/1.99\", \"GAME/1/1.99\", \"HEALTH_AND_FITNESS/1/1.99\", \"LIFESTYLE/1/1.99\", \"MEDICAL/1/1.99\", \"PERSONALIZATION/1/1.99\", \"PHOTOGRAPHY/1/1.99\", \"PRODUCTIVITY/1/1.99\", \"SPORTS/1/1.99\", \"TOOLS/1/1.99\", \"TRAVEL_AND_LOCAL/1/1.99\", \"VIDEO_PLAYERS/1/1.99\", \"PERSONALIZATION/1/2.0\", \"BUSINESS/0/2.49\", \"FAMILY/0/2.49\", \"LIFESTYLE/0/2.49\", \"TRAVEL_AND_LOCAL/0/2.49\", \"COMMUNICATION/1/2.49\", \"FAMILY/1/2.49\", \"GAME/1/2.49\", \"LIFESTYLE/1/2.49\", \"MEDICAL/1/2.49\", \"PERSONALIZATION/1/2.49\", \"SHOPPING/1/2.49\", \"SPORTS/1/2.49\", \"TOOLS/1/2.49\", \"TOOLS/1/2.5\", \"TRAVEL_AND_LOCAL/0/2.56\", \"TOOLS/1/2.59\", \"COMMUNICATION/1/2.9\", \"TOOLS/1/2.95\", \"COMMUNICATION/0/2.99\", \"FAMILY/0/2.99\", \"FINANCE/0/2.99\", \"GAME/0/2.99\", \"HEALTH_AND_FITNESS/0/2.99\", \"MEDICAL/0/2.99\", \"PHOTOGRAPHY/0/2.99\", \"PRODUCTIVITY/0/2.99\", \"SPORTS/0/2.99\", \"TOOLS/0/2.99\", \"BOOKS_AND_REFERENCE/1/2.99\", \"BUSINESS/1/2.99\", \"COMMUNICATION/1/2.99\", \"ENTERTAINMENT/1/2.99\", \"FAMILY/1/2.99\", \"FINANCE/1/2.99\", \"GAME/1/2.99\", \"HEALTH_AND_FITNESS/1/2.99\", \"LIFESTYLE/1/2.99\", \"MAPS_AND_NAVIGATION/1/2.99\", \"MEDICAL/1/2.99\", \"NEWS_AND_MAGAZINES/1/2.99\", \"PERSONALIZATION/1/2.99\", \"PHOTOGRAPHY/1/2.99\", \"PRODUCTIVITY/1/2.99\", \"SHOPPING/1/2.99\", \"SPORTS/1/2.99\", \"TOOLS/1/2.99\", \"TRAVEL_AND_LOCAL/1/2.99\", \"WEATHER/1/2.99\", \"SPORTS/1/3.02\", \"LIFESTYLE/1/3.04\", \"BOOKS_AND_REFERENCE/1/3.08\", \"TOOLS/0/3.28\", \"PHOTOGRAPHY/0/3.49\", \"FOOD_AND_DRINK/1/3.49\", \"GAME/1/3.49\", \"HEALTH_AND_FITNESS/1/3.49\", \"MEDICAL/1/3.49\", \"SPORTS/1/3.49\", \"TOOLS/1/3.49\", \"SPORTS/1/3.88\", \"TOOLS/1/3.9\", \"PHOTOGRAPHY/0/3.95\", \"COMMUNICATION/0/3.99\", \"FAMILY/0/3.99\", \"GAME/0/3.99\", \"MEDICAL/0/3.99\", \"SPORTS/0/3.99\", \"BOOKS_AND_REFERENCE/1/3.99\", \"BUSINESS/1/3.99\", \"COMMUNICATION/1/3.99\", \"DATING/1/3.99\", \"EDUCATION/1/3.99\", \"FAMILY/1/3.99\", \"FINANCE/1/3.99\", \"GAME/1/3.99\", \"HEALTH_AND_FITNESS/1/3.99\", \"LIFESTYLE/1/3.99\", \"MEDICAL/1/3.99\", \"PERSONALIZATION/1/3.99\", \"PRODUCTIVITY/1/3.99\", \"SPORTS/1/3.99\", \"TOOLS/1/3.99\", \"TRAVEL_AND_LOCAL/1/3.99\", \"WEATHER/1/3.99\", \"PRODUCTIVITY/1/4.29\", \"GAME/0/4.49\", \"BOOKS_AND_REFERENCE/1/4.49\", \"FAMILY/1/4.49\", \"GAME/1/4.49\", \"PERSONALIZATION/1/4.49\", \"PRODUCTIVITY/1/4.49\", \"SPORTS/1/4.49\", \"TOOLS/1/4.49\", \"WEATHER/1/4.49\", \"PARENTING/0/4.59\", \"BOOKS_AND_REFERENCE/0/4.6\", \"FAMILY/0/4.77\", \"FAMILY/1/4.84\", \"COMMUNICATION/0/4.99\", \"FAMILY/0/4.99\", \"FINANCE/0/4.99\", \"GAME/0/4.99\", \"HEALTH_AND_FITNESS/0/4.99\", \"PHOTOGRAPHY/0/4.99\", \"PRODUCTIVITY/0/4.99\", \"SPORTS/0/4.99\", \"TOOLS/0/4.99\", \"BUSINESS/1/4.99\", \"COMMUNICATION/1/4.99\", \"ENTERTAINMENT/1/4.99\", \"FAMILY/1/4.99\", \"FOOD_AND_DRINK/1/4.99\", \"GAME/1/4.99\", \"LIFESTYLE/1/4.99\", \"MEDICAL/1/4.99\", \"PARENTING/1/4.99\", \"PERSONALIZATION/1/4.99\", \"PHOTOGRAPHY/1/4.99\", \"PRODUCTIVITY/1/4.99\", \"TOOLS/1/4.99\", \"MEDICAL/1/5.49\", \"MEDICAL/0/5.99\", \"TOOLS/0/5.99\", \"FAMILY/1/5.99\", \"GAME/1/5.99\", \"LIFESTYLE/1/5.99\", \"MEDICAL/1/5.99\", \"PHOTOGRAPHY/1/5.99\", \"PRODUCTIVITY/1/5.99\", \"TRAVEL_AND_LOCAL/1/5.99\", \"VIDEO_PLAYERS/1/5.99\", \"WEATHER/1/5.99\", \"PRODUCTIVITY/0/6.49\", \"WEATHER/0/6.99\", \"FAMILY/1/6.99\", \"GAME/1/6.99\", \"HEALTH_AND_FITNESS/1/6.99\", \"MEDICAL/1/6.99\", \"PERSONALIZATION/1/6.99\", \"TOOLS/1/6.99\", \"FAMILY/1/7.49\", \"MEDICAL/1/7.49\", \"DATING/0/7.99\", \"FAMILY/1/7.99\", \"GAME/1/7.99\", \"HEALTH_AND_FITNESS/1/7.99\", \"LIFESTYLE/1/7.99\", \"MEDICAL/1/7.99\", \"PRODUCTIVITY/1/7.99\", \"TRAVEL_AND_LOCAL/0/8.49\", \"BUSINESS/0/8.99\", \"PRODUCTIVITY/0/8.99\", \"SPORTS/0/8.99\", \"TRAVEL_AND_LOCAL/1/8.99\", \"MEDICAL/1/9.0\", \"FAMILY/0/9.99\", \"MAPS_AND_NAVIGATION/0/9.99\", \"MEDICAL/0/9.99\", \"FAMILY/1/9.99\", \"GAME/1/9.99\", \"MEDICAL/1/9.99\", \"PERSONALIZATION/1/9.99\", \"PHOTOGRAPHY/1/9.99\", \"FAMILY/1/10.0\", \"MEDICAL/1/10.0\", \"FAMILY/0/10.99\", \"MEDICAL/0/10.99\", \"MAPS_AND_NAVIGATION/1/11.99\", \"MEDICAL/1/11.99\", \"BUSINESS/0/12.99\", \"FAMILY/1/12.99\", \"MEDICAL/1/12.99\", \"FAMILY/1/13.99\", \"GAME/1/14.0\", \"MEDICAL/0/14.99\", \"TOOLS/0/14.99\", \"FAMILY/1/14.99\", \"MEDICAL/1/14.99\", \"TOOLS/1/14.99\", \"MEDICAL/0/15.46\", \"MEDICAL/1/15.99\", \"GAME/0/16.99\", \"MEDICAL/1/16.99\", \"BUSINESS/0/17.99\", \"GAME/1/17.99\", \"FINANCE/1/18.99\", \"FAMILY/1/19.4\", \"PHOTOGRAPHY/0/19.99\", \"FAMILY/1/19.99\", \"MEDICAL/1/19.99\", \"MEDICAL/1/24.99\", \"MEDICAL/0/29.99\", \"FAMILY/1/29.99\", \"MEDICAL/1/29.99\", \"SPORTS/1/29.99\", \"MEDICAL/0/33.99\", \"LIFESTYLE/1/37.99\", \"MEDICAL/0/39.99\", \"MEDICAL/1/79.99\", \"LIFESTYLE/0/299.99\", \"LIFESTYLE/0/379.99\", \"FAMILY/0/389.99\", \"FAMILY/0/399.99\", \"FINANCE/0/399.99\", \"LIFESTYLE/0/399.99\", \"FAMILY/1/399.99\", \"FINANCE/1/399.99\", \"LIFESTYLE/0/400.0\", \"ART_AND_DESIGN/0\", \"AUTO_AND_VEHICLES/0\", \"BEAUTY/0\", \"BOOKS_AND_REFERENCE/0\", \"BUSINESS/0\", \"COMICS/0\", \"COMMUNICATION/0\", \"DATING/0\", \"EDUCATION/0\", \"ENTERTAINMENT/0\", \"EVENTS/0\", \"FAMILY/0\", \"FINANCE/0\", \"FOOD_AND_DRINK/0\", \"GAME/0\", \"HEALTH_AND_FITNESS/0\", \"HOUSE_AND_HOME/0\", \"LIBRARIES_AND_DEMO/0\", \"LIFESTYLE/0\", \"MAPS_AND_NAVIGATION/0\", \"MEDICAL/0\", \"NEWS_AND_MAGAZINES/0\", \"PARENTING/0\", \"PERSONALIZATION/0\", \"PHOTOGRAPHY/0\", \"PRODUCTIVITY/0\", \"SHOPPING/0\", \"SOCIAL/0\", \"SPORTS/0\", \"TOOLS/0\", \"TRAVEL_AND_LOCAL/0\", \"VIDEO_PLAYERS/0\", \"WEATHER/0\", \"ART_AND_DESIGN/1\", \"AUTO_AND_VEHICLES/1\", \"BEAUTY/1\", \"BOOKS_AND_REFERENCE/1\", \"BUSINESS/1\", \"COMICS/1\", \"COMMUNICATION/1\", \"DATING/1\", \"EDUCATION/1\", \"ENTERTAINMENT/1\", \"EVENTS/1\", \"FAMILY/1\", \"FINANCE/1\", \"FOOD_AND_DRINK/1\", \"GAME/1\", \"HEALTH_AND_FITNESS/1\", \"HOUSE_AND_HOME/1\", \"LIBRARIES_AND_DEMO/1\", \"LIFESTYLE/1\", \"MAPS_AND_NAVIGATION/1\", \"MEDICAL/1\", \"NEWS_AND_MAGAZINES/1\", \"PARENTING/1\", \"PERSONALIZATION/1\", \"PHOTOGRAPHY/1\", \"PRODUCTIVITY/1\", \"SHOPPING/1\", \"SOCIAL/1\", \"SPORTS/1\", \"TOOLS/1\", \"TRAVEL_AND_LOCAL/1\", \"VIDEO_PLAYERS/1\", \"WEATHER/1\", \"ART_AND_DESIGN\", \"AUTO_AND_VEHICLES\", \"BEAUTY\", \"BOOKS_AND_REFERENCE\", \"BUSINESS\", \"COMICS\", \"COMMUNICATION\", \"DATING\", \"EDUCATION\", \"ENTERTAINMENT\", \"EVENTS\", \"FAMILY\", \"FINANCE\", \"FOOD_AND_DRINK\", \"GAME\", \"HEALTH_AND_FITNESS\", \"HOUSE_AND_HOME\", \"LIBRARIES_AND_DEMO\", \"LIFESTYLE\", \"MAPS_AND_NAVIGATION\", \"MEDICAL\", \"NEWS_AND_MAGAZINES\", \"PARENTING\", \"PERSONALIZATION\", \"PHOTOGRAPHY\", \"PRODUCTIVITY\", \"SHOPPING\", \"SOCIAL\", \"SPORTS\", \"TOOLS\", \"TRAVEL_AND_LOCAL\", \"VIDEO_PLAYERS\", \"WEATHER\"], \"labels\": [\"0.0\", \"0.0\", \"0.0\", \"0.0\", \"0.0\", \"0.0\", \"0.0\", \"0.0\", \"0.0\", \"0.0\", \"0.0\", \"0.0\", \"0.0\", \"0.0\", \"0.0\", \"0.0\", \"0.0\", \"0.0\", \"0.0\", \"0.0\", \"0.0\", \"0.0\", \"0.0\", \"0.0\", \"0.0\", \"0.0\", \"0.0\", \"0.0\", \"0.0\", \"0.0\", \"0.0\", \"0.0\", \"0.0\", \"0.0\", \"0.0\", \"0.0\", \"0.0\", \"0.0\", \"0.0\", \"0.0\", \"0.0\", \"0.0\", \"0.0\", \"0.0\", \"0.0\", \"0.0\", \"0.0\", \"0.0\", \"0.0\", \"0.0\", \"0.0\", \"0.0\", \"0.0\", \"0.0\", \"0.0\", \"0.0\", \"0.0\", \"0.0\", \"0.0\", \"0.0\", \"0.0\", \"0.0\", \"0.0\", \"0.0\", \"0.0\", \"0.0\", \"0.99\", \"0.99\", \"0.99\", \"0.99\", \"0.99\", \"0.99\", \"0.99\", \"0.99\", \"0.99\", \"0.99\", \"0.99\", \"0.99\", \"0.99\", \"0.99\", \"0.99\", \"0.99\", \"0.99\", \"0.99\", \"0.99\", \"0.99\", \"0.99\", \"0.99\", \"0.99\", \"1.0\", \"1.0\", \"1.2\", \"1.29\", \"1.49\", \"1.49\", \"1.49\", \"1.49\", \"1.49\", \"1.49\", \"1.49\", \"1.49\", \"1.49\", \"1.49\", \"1.49\", \"1.49\", \"1.5\", \"1.59\", \"1.61\", \"1.7\", \"1.75\", \"1.76\", \"1.97\", \"1.99\", \"1.99\", \"1.99\", \"1.99\", \"1.99\", \"1.99\", \"1.99\", \"1.99\", \"1.99\", \"1.99\", \"1.99\", \"1.99\", \"1.99\", \"1.99\", \"1.99\", \"1.99\", \"1.99\", \"1.99\", \"1.99\", \"1.99\", \"1.99\", \"1.99\", \"2.0\", \"2.49\", \"2.49\", \"2.49\", \"2.49\", \"2.49\", \"2.49\", \"2.49\", \"2.49\", \"2.49\", \"2.49\", \"2.49\", \"2.49\", \"2.49\", \"2.5\", \"2.56\", \"2.59\", \"2.9\", \"2.95\", \"2.99\", \"2.99\", \"2.99\", \"2.99\", \"2.99\", \"2.99\", \"2.99\", \"2.99\", \"2.99\", \"2.99\", \"2.99\", \"2.99\", \"2.99\", \"2.99\", \"2.99\", \"2.99\", \"2.99\", \"2.99\", \"2.99\", \"2.99\", \"2.99\", \"2.99\", \"2.99\", \"2.99\", \"2.99\", \"2.99\", \"2.99\", \"2.99\", \"2.99\", \"2.99\", \"3.02\", \"3.04\", \"3.08\", \"3.28\", \"3.49\", \"3.49\", \"3.49\", \"3.49\", \"3.49\", \"3.49\", \"3.49\", \"3.88\", \"3.9\", \"3.95\", \"3.99\", \"3.99\", \"3.99\", \"3.99\", \"3.99\", \"3.99\", \"3.99\", \"3.99\", \"3.99\", \"3.99\", \"3.99\", \"3.99\", \"3.99\", \"3.99\", \"3.99\", \"3.99\", \"3.99\", \"3.99\", \"3.99\", \"3.99\", \"3.99\", \"3.99\", \"4.29\", \"4.49\", \"4.49\", \"4.49\", \"4.49\", \"4.49\", \"4.49\", \"4.49\", \"4.49\", \"4.49\", \"4.59\", \"4.6\", \"4.77\", \"4.84\", \"4.99\", \"4.99\", \"4.99\", \"4.99\", \"4.99\", \"4.99\", \"4.99\", \"4.99\", \"4.99\", \"4.99\", \"4.99\", \"4.99\", \"4.99\", \"4.99\", \"4.99\", \"4.99\", \"4.99\", \"4.99\", \"4.99\", \"4.99\", \"4.99\", \"4.99\", \"5.49\", \"5.99\", \"5.99\", \"5.99\", \"5.99\", \"5.99\", \"5.99\", \"5.99\", \"5.99\", \"5.99\", \"5.99\", \"5.99\", \"6.49\", \"6.99\", \"6.99\", \"6.99\", \"6.99\", \"6.99\", \"6.99\", \"6.99\", \"7.49\", \"7.49\", \"7.99\", \"7.99\", \"7.99\", \"7.99\", \"7.99\", \"7.99\", \"7.99\", \"8.49\", \"8.99\", \"8.99\", \"8.99\", \"8.99\", \"9.0\", \"9.99\", \"9.99\", \"9.99\", \"9.99\", \"9.99\", \"9.99\", \"9.99\", \"9.99\", \"10.0\", \"10.0\", \"10.99\", \"10.99\", \"11.99\", \"11.99\", \"12.99\", \"12.99\", \"12.99\", \"13.99\", \"14.0\", \"14.99\", \"14.99\", \"14.99\", \"14.99\", \"14.99\", \"15.46\", \"15.99\", \"16.99\", \"16.99\", \"17.99\", \"17.99\", \"18.99\", \"19.4\", \"19.99\", \"19.99\", \"19.99\", \"24.99\", \"29.99\", \"29.99\", \"29.99\", \"29.99\", \"33.99\", \"37.99\", \"39.99\", \"79.99\", \"299.99\", \"379.99\", \"389.99\", \"399.99\", \"399.99\", \"399.99\", \"399.99\", \"399.99\", \"400.0\", \"0\", \"0\", \"0\", \"0\", \"0\", \"0\", \"0\", \"0\", \"0\", \"0\", \"0\", \"0\", \"0\", \"0\", \"0\", \"0\", \"0\", \"0\", \"0\", \"0\", \"0\", \"0\", \"0\", \"0\", \"0\", \"0\", \"0\", \"0\", \"0\", \"0\", \"0\", \"0\", \"0\", \"1\", \"1\", \"1\", \"1\", \"1\", \"1\", \"1\", \"1\", \"1\", \"1\", \"1\", \"1\", \"1\", \"1\", \"1\", \"1\", \"1\", \"1\", \"1\", \"1\", \"1\", \"1\", \"1\", \"1\", \"1\", \"1\", \"1\", \"1\", \"1\", \"1\", \"1\", \"1\", \"1\", \"ART_AND_DESIGN\", \"AUTO_AND_VEHICLES\", \"BEAUTY\", \"BOOKS_AND_REFERENCE\", \"BUSINESS\", \"COMICS\", \"COMMUNICATION\", \"DATING\", \"EDUCATION\", \"ENTERTAINMENT\", \"EVENTS\", \"FAMILY\", \"FINANCE\", \"FOOD_AND_DRINK\", \"GAME\", \"HEALTH_AND_FITNESS\", \"HOUSE_AND_HOME\", \"LIBRARIES_AND_DEMO\", \"LIFESTYLE\", \"MAPS_AND_NAVIGATION\", \"MEDICAL\", \"NEWS_AND_MAGAZINES\", \"PARENTING\", \"PERSONALIZATION\", \"PHOTOGRAPHY\", \"PRODUCTIVITY\", \"SHOPPING\", \"SOCIAL\", \"SPORTS\", \"TOOLS\", \"TRAVEL_AND_LOCAL\", \"VIDEO_PLAYERS\", \"WEATHER\"], \"name\": \"\", \"parents\": [\"ART_AND_DESIGN/0\", \"AUTO_AND_VEHICLES/0\", \"BEAUTY/0\", \"BOOKS_AND_REFERENCE/0\", \"BUSINESS/0\", \"COMICS/0\", \"COMMUNICATION/0\", \"DATING/0\", \"EDUCATION/0\", \"ENTERTAINMENT/0\", \"EVENTS/0\", \"FAMILY/0\", \"FINANCE/0\", \"FOOD_AND_DRINK/0\", \"GAME/0\", \"HEALTH_AND_FITNESS/0\", \"HOUSE_AND_HOME/0\", \"LIBRARIES_AND_DEMO/0\", \"LIFESTYLE/0\", \"MAPS_AND_NAVIGATION/0\", \"MEDICAL/0\", \"NEWS_AND_MAGAZINES/0\", \"PARENTING/0\", \"PERSONALIZATION/0\", \"PHOTOGRAPHY/0\", \"PRODUCTIVITY/0\", \"SHOPPING/0\", \"SOCIAL/0\", \"SPORTS/0\", \"TOOLS/0\", \"TRAVEL_AND_LOCAL/0\", \"VIDEO_PLAYERS/0\", \"WEATHER/0\", \"ART_AND_DESIGN/1\", \"AUTO_AND_VEHICLES/1\", \"BEAUTY/1\", \"BOOKS_AND_REFERENCE/1\", \"BUSINESS/1\", \"COMICS/1\", \"COMMUNICATION/1\", \"DATING/1\", \"EDUCATION/1\", \"ENTERTAINMENT/1\", \"EVENTS/1\", \"FAMILY/1\", \"FINANCE/1\", \"FOOD_AND_DRINK/1\", \"GAME/1\", \"HEALTH_AND_FITNESS/1\", \"HOUSE_AND_HOME/1\", \"LIBRARIES_AND_DEMO/1\", \"LIFESTYLE/1\", \"MAPS_AND_NAVIGATION/1\", \"MEDICAL/1\", \"NEWS_AND_MAGAZINES/1\", \"PARENTING/1\", \"PERSONALIZATION/1\", \"PHOTOGRAPHY/1\", \"PRODUCTIVITY/1\", \"SHOPPING/1\", \"SOCIAL/1\", \"SPORTS/1\", \"TOOLS/1\", \"TRAVEL_AND_LOCAL/1\", \"VIDEO_PLAYERS/1\", \"WEATHER/1\", \"COMMUNICATION/0\", \"FAMILY/0\", \"GAME/0\", \"MAPS_AND_NAVIGATION/0\", \"MEDICAL/0\", \"PERSONALIZATION/0\", \"PRODUCTIVITY/0\", \"SOCIAL/0\", \"TOOLS/0\", \"VIDEO_PLAYERS/0\", \"BOOKS_AND_REFERENCE/1\", \"COMMUNICATION/1\", \"FAMILY/1\", \"GAME/1\", \"LIFESTYLE/1\", \"MAPS_AND_NAVIGATION/1\", \"MEDICAL/1\", \"NEWS_AND_MAGAZINES/1\", \"PERSONALIZATION/1\", \"PRODUCTIVITY/1\", \"SOCIAL/1\", \"SPORTS/1\", \"TOOLS/1\", \"SPORTS/1\", \"TOOLS/1\", \"FAMILY/1\", \"PRODUCTIVITY/1\", \"COMMUNICATION/0\", \"FAMILY/0\", \"PERSONALIZATION/0\", \"TOOLS/0\", \"COMMUNICATION/1\", \"FAMILY/1\", \"GAME/1\", \"PERSONALIZATION/1\", \"PHOTOGRAPHY/1\", \"PRODUCTIVITY/1\", \"TOOLS/1\", \"VIDEO_PLAYERS/1\", \"MEDICAL/1\", \"FAMILY/1\", \"GAME/1\", \"PERSONALIZATION/1\", \"BOOKS_AND_REFERENCE/1\", \"TOOLS/1\", \"TOOLS/1\", \"BOOKS_AND_REFERENCE/0\", \"FAMILY/0\", \"FINANCE/0\", \"GAME/0\", \"HEALTH_AND_FITNESS/0\", \"PERSONALIZATION/0\", \"TOOLS/0\", \"WEATHER/0\", \"ART_AND_DESIGN/1\", \"AUTO_AND_VEHICLES/1\", \"FAMILY/1\", \"GAME/1\", \"HEALTH_AND_FITNESS/1\", \"LIFESTYLE/1\", \"MEDICAL/1\", \"PERSONALIZATION/1\", \"PHOTOGRAPHY/1\", \"PRODUCTIVITY/1\", \"SPORTS/1\", \"TOOLS/1\", \"TRAVEL_AND_LOCAL/1\", \"VIDEO_PLAYERS/1\", \"PERSONALIZATION/1\", \"BUSINESS/0\", \"FAMILY/0\", \"LIFESTYLE/0\", \"TRAVEL_AND_LOCAL/0\", \"COMMUNICATION/1\", \"FAMILY/1\", \"GAME/1\", \"LIFESTYLE/1\", \"MEDICAL/1\", \"PERSONALIZATION/1\", \"SHOPPING/1\", \"SPORTS/1\", \"TOOLS/1\", \"TOOLS/1\", \"TRAVEL_AND_LOCAL/0\", \"TOOLS/1\", \"COMMUNICATION/1\", \"TOOLS/1\", \"COMMUNICATION/0\", \"FAMILY/0\", \"FINANCE/0\", \"GAME/0\", \"HEALTH_AND_FITNESS/0\", \"MEDICAL/0\", \"PHOTOGRAPHY/0\", \"PRODUCTIVITY/0\", \"SPORTS/0\", \"TOOLS/0\", \"BOOKS_AND_REFERENCE/1\", \"BUSINESS/1\", \"COMMUNICATION/1\", \"ENTERTAINMENT/1\", \"FAMILY/1\", \"FINANCE/1\", \"GAME/1\", \"HEALTH_AND_FITNESS/1\", \"LIFESTYLE/1\", \"MAPS_AND_NAVIGATION/1\", \"MEDICAL/1\", \"NEWS_AND_MAGAZINES/1\", \"PERSONALIZATION/1\", \"PHOTOGRAPHY/1\", \"PRODUCTIVITY/1\", \"SHOPPING/1\", \"SPORTS/1\", \"TOOLS/1\", \"TRAVEL_AND_LOCAL/1\", \"WEATHER/1\", \"SPORTS/1\", \"LIFESTYLE/1\", \"BOOKS_AND_REFERENCE/1\", \"TOOLS/0\", \"PHOTOGRAPHY/0\", \"FOOD_AND_DRINK/1\", \"GAME/1\", \"HEALTH_AND_FITNESS/1\", \"MEDICAL/1\", \"SPORTS/1\", \"TOOLS/1\", \"SPORTS/1\", \"TOOLS/1\", \"PHOTOGRAPHY/0\", \"COMMUNICATION/0\", \"FAMILY/0\", \"GAME/0\", \"MEDICAL/0\", \"SPORTS/0\", \"BOOKS_AND_REFERENCE/1\", \"BUSINESS/1\", \"COMMUNICATION/1\", \"DATING/1\", \"EDUCATION/1\", \"FAMILY/1\", \"FINANCE/1\", \"GAME/1\", \"HEALTH_AND_FITNESS/1\", \"LIFESTYLE/1\", \"MEDICAL/1\", \"PERSONALIZATION/1\", \"PRODUCTIVITY/1\", \"SPORTS/1\", \"TOOLS/1\", \"TRAVEL_AND_LOCAL/1\", \"WEATHER/1\", \"PRODUCTIVITY/1\", \"GAME/0\", \"BOOKS_AND_REFERENCE/1\", \"FAMILY/1\", \"GAME/1\", \"PERSONALIZATION/1\", \"PRODUCTIVITY/1\", \"SPORTS/1\", \"TOOLS/1\", \"WEATHER/1\", \"PARENTING/0\", \"BOOKS_AND_REFERENCE/0\", \"FAMILY/0\", \"FAMILY/1\", \"COMMUNICATION/0\", \"FAMILY/0\", \"FINANCE/0\", \"GAME/0\", \"HEALTH_AND_FITNESS/0\", \"PHOTOGRAPHY/0\", \"PRODUCTIVITY/0\", \"SPORTS/0\", \"TOOLS/0\", \"BUSINESS/1\", \"COMMUNICATION/1\", \"ENTERTAINMENT/1\", \"FAMILY/1\", \"FOOD_AND_DRINK/1\", \"GAME/1\", \"LIFESTYLE/1\", \"MEDICAL/1\", \"PARENTING/1\", \"PERSONALIZATION/1\", \"PHOTOGRAPHY/1\", \"PRODUCTIVITY/1\", \"TOOLS/1\", \"MEDICAL/1\", \"MEDICAL/0\", \"TOOLS/0\", \"FAMILY/1\", \"GAME/1\", \"LIFESTYLE/1\", \"MEDICAL/1\", \"PHOTOGRAPHY/1\", \"PRODUCTIVITY/1\", \"TRAVEL_AND_LOCAL/1\", \"VIDEO_PLAYERS/1\", \"WEATHER/1\", \"PRODUCTIVITY/0\", \"WEATHER/0\", \"FAMILY/1\", \"GAME/1\", \"HEALTH_AND_FITNESS/1\", \"MEDICAL/1\", \"PERSONALIZATION/1\", \"TOOLS/1\", \"FAMILY/1\", \"MEDICAL/1\", \"DATING/0\", \"FAMILY/1\", \"GAME/1\", \"HEALTH_AND_FITNESS/1\", \"LIFESTYLE/1\", \"MEDICAL/1\", \"PRODUCTIVITY/1\", \"TRAVEL_AND_LOCAL/0\", \"BUSINESS/0\", \"PRODUCTIVITY/0\", \"SPORTS/0\", \"TRAVEL_AND_LOCAL/1\", \"MEDICAL/1\", \"FAMILY/0\", \"MAPS_AND_NAVIGATION/0\", \"MEDICAL/0\", \"FAMILY/1\", \"GAME/1\", \"MEDICAL/1\", \"PERSONALIZATION/1\", \"PHOTOGRAPHY/1\", \"FAMILY/1\", \"MEDICAL/1\", \"FAMILY/0\", \"MEDICAL/0\", \"MAPS_AND_NAVIGATION/1\", \"MEDICAL/1\", \"BUSINESS/0\", \"FAMILY/1\", \"MEDICAL/1\", \"FAMILY/1\", \"GAME/1\", \"MEDICAL/0\", \"TOOLS/0\", \"FAMILY/1\", \"MEDICAL/1\", \"TOOLS/1\", \"MEDICAL/0\", \"MEDICAL/1\", \"GAME/0\", \"MEDICAL/1\", \"BUSINESS/0\", \"GAME/1\", \"FINANCE/1\", \"FAMILY/1\", \"PHOTOGRAPHY/0\", \"FAMILY/1\", \"MEDICAL/1\", \"MEDICAL/1\", \"MEDICAL/0\", \"FAMILY/1\", \"MEDICAL/1\", \"SPORTS/1\", \"MEDICAL/0\", \"LIFESTYLE/1\", \"MEDICAL/0\", \"MEDICAL/1\", \"LIFESTYLE/0\", \"LIFESTYLE/0\", \"FAMILY/0\", \"FAMILY/0\", \"FINANCE/0\", \"LIFESTYLE/0\", \"FAMILY/1\", \"FINANCE/1\", \"LIFESTYLE/0\", \"ART_AND_DESIGN\", \"AUTO_AND_VEHICLES\", \"BEAUTY\", \"BOOKS_AND_REFERENCE\", \"BUSINESS\", \"COMICS\", \"COMMUNICATION\", \"DATING\", \"EDUCATION\", \"ENTERTAINMENT\", \"EVENTS\", \"FAMILY\", \"FINANCE\", \"FOOD_AND_DRINK\", \"GAME\", \"HEALTH_AND_FITNESS\", \"HOUSE_AND_HOME\", \"LIBRARIES_AND_DEMO\", \"LIFESTYLE\", \"MAPS_AND_NAVIGATION\", \"MEDICAL\", \"NEWS_AND_MAGAZINES\", \"PARENTING\", \"PERSONALIZATION\", \"PHOTOGRAPHY\", \"PRODUCTIVITY\", \"SHOPPING\", \"SOCIAL\", \"SPORTS\", \"TOOLS\", \"TRAVEL_AND_LOCAL\", \"VIDEO_PLAYERS\", \"WEATHER\", \"ART_AND_DESIGN\", \"AUTO_AND_VEHICLES\", \"BEAUTY\", \"BOOKS_AND_REFERENCE\", \"BUSINESS\", \"COMICS\", \"COMMUNICATION\", \"DATING\", \"EDUCATION\", \"ENTERTAINMENT\", \"EVENTS\", \"FAMILY\", \"FINANCE\", \"FOOD_AND_DRINK\", \"GAME\", \"HEALTH_AND_FITNESS\", \"HOUSE_AND_HOME\", \"LIBRARIES_AND_DEMO\", \"LIFESTYLE\", \"MAPS_AND_NAVIGATION\", \"MEDICAL\", \"NEWS_AND_MAGAZINES\", \"PARENTING\", \"PERSONALIZATION\", \"PHOTOGRAPHY\", \"PRODUCTIVITY\", \"SHOPPING\", \"SOCIAL\", \"SPORTS\", \"TOOLS\", \"TRAVEL_AND_LOCAL\", \"VIDEO_PLAYERS\", \"WEATHER\", \"\", \"\", \"\", \"\", \"\", \"\", \"\", \"\", \"\", \"\", \"\", \"\", \"\", \"\", \"\", \"\", \"\", \"\", \"\", \"\", \"\", \"\", \"\", \"\", \"\", \"\", \"\", \"\", \"\", \"\", \"\", \"\", \"\"], \"type\": \"treemap\", \"values\": [9, 27, 12, 31, 88, 17, 74, 59, 16, 28, 8, 478, 92, 27, 190, 55, 24, 21, 110, 41, 77, 73, 11, 35, 70, 74, 41, 46, 64, 249, 63, 57, 17, 47, 45, 30, 130, 165, 37, 161, 72, 83, 49, 37, 1014, 197, 65, 645, 177, 37, 43, 173, 72, 151, 129, 37, 198, 178, 209, 137, 155, 176, 407, 116, 88, 48, 4, 4, 4, 1, 1, 3, 1, 1, 3, 1, 1, 1, 16, 16, 2, 1, 3, 1, 27, 1, 1, 3, 8, 1, 1, 1, 1, 2, 2, 1, 1, 3, 5, 1, 10, 2, 1, 2, 1, 1, 1, 1, 2, 1, 1, 1, 1, 2, 1, 5, 1, 1, 2, 1, 3, 1, 9, 7, 2, 1, 2, 6, 2, 1, 4, 5, 1, 1, 1, 1, 1, 1, 1, 1, 3, 1, 1, 1, 5, 1, 1, 2, 1, 1, 1, 1, 1, 1, 9, 1, 1, 1, 2, 2, 1, 2, 1, 1, 1, 3, 1, 37, 1, 10, 2, 1, 1, 7, 1, 2, 2, 3, 1, 2, 9, 1, 2, 1, 1, 1, 1, 1, 1, 1, 1, 1, 1, 1, 1, 1, 1, 1, 1, 1, 3, 1, 1, 1, 2, 1, 2, 13, 2, 2, 1, 1, 8, 1, 1, 1, 6, 1, 1, 1, 1, 1, 1, 1, 1, 1, 1, 1, 1, 1, 1, 1, 1, 1, 3, 1, 1, 1, 1, 1, 1, 9, 3, 2, 1, 18, 1, 13, 2, 2, 1, 3, 1, 1, 1, 2, 1, 2, 2, 1, 1, 2, 1, 1, 1, 1, 1, 1, 1, 1, 4, 1, 2, 1, 1, 1, 1, 1, 1, 1, 1, 1, 1, 1, 1, 1, 1, 1, 1, 1, 1, 1, 1, 5, 1, 3, 1, 1, 1, 1, 1, 1, 1, 2, 1, 2, 1, 1, 1, 1, 1, 4, 1, 1, 1, 1, 1, 1, 1, 1, 1, 1, 1, 2, 1, 2, 1, 1, 1, 1, 1, 1, 1, 1, 1, 1, 1, 1, 3, 2, 2, 3, 1, 9, 27, 12, 33, 92, 17, 83, 60, 16, 28, 8, 505, 98, 27, 204, 58, 24, 21, 116, 43, 91, 73, 12, 40, 76, 79, 41, 47, 69, 269, 66, 58, 19, 50, 46, 30, 136, 170, 37, 174, 73, 85, 51, 37, 1143, 204, 67, 707, 185, 37, 43, 185, 75, 200, 131, 38, 258, 187, 222, 139, 156, 193, 451, 121, 91, 53, 59, 73, 42, 169, 262, 54, 257, 133, 101, 79, 45, 1648, 302, 94, 911, 243, 61, 64, 301, 118, 291, 204, 50, 298, 263, 301, 180, 203, 262, 720, 187, 149, 72]}],                        {\"legend\": {\"tracegroupgap\": 0}, \"margin\": {\"t\": 60}, \"template\": {\"data\": {\"bar\": [{\"error_x\": {\"color\": \"#2a3f5f\"}, \"error_y\": {\"color\": \"#2a3f5f\"}, \"marker\": {\"line\": {\"color\": \"#E5ECF6\", \"width\": 0.5}}, \"type\": \"bar\"}], \"barpolar\": [{\"marker\": {\"line\": {\"color\": \"#E5ECF6\", \"width\": 0.5}}, \"type\": \"barpolar\"}], \"carpet\": [{\"aaxis\": {\"endlinecolor\": \"#2a3f5f\", \"gridcolor\": \"white\", \"linecolor\": \"white\", \"minorgridcolor\": \"white\", \"startlinecolor\": \"#2a3f5f\"}, \"baxis\": {\"endlinecolor\": \"#2a3f5f\", \"gridcolor\": \"white\", \"linecolor\": \"white\", \"minorgridcolor\": \"white\", \"startlinecolor\": \"#2a3f5f\"}, \"type\": \"carpet\"}], \"choropleth\": [{\"colorbar\": {\"outlinewidth\": 0, \"ticks\": \"\"}, \"type\": \"choropleth\"}], \"contour\": [{\"colorbar\": {\"outlinewidth\": 0, \"ticks\": \"\"}, \"colorscale\": [[0.0, \"#0d0887\"], [0.1111111111111111, \"#46039f\"], [0.2222222222222222, \"#7201a8\"], [0.3333333333333333, \"#9c179e\"], [0.4444444444444444, \"#bd3786\"], [0.5555555555555556, \"#d8576b\"], [0.6666666666666666, \"#ed7953\"], [0.7777777777777778, \"#fb9f3a\"], [0.8888888888888888, \"#fdca26\"], [1.0, \"#f0f921\"]], \"type\": \"contour\"}], \"contourcarpet\": [{\"colorbar\": {\"outlinewidth\": 0, \"ticks\": \"\"}, \"type\": \"contourcarpet\"}], \"heatmap\": [{\"colorbar\": {\"outlinewidth\": 0, \"ticks\": \"\"}, \"colorscale\": [[0.0, \"#0d0887\"], [0.1111111111111111, \"#46039f\"], [0.2222222222222222, \"#7201a8\"], [0.3333333333333333, \"#9c179e\"], [0.4444444444444444, \"#bd3786\"], [0.5555555555555556, \"#d8576b\"], [0.6666666666666666, \"#ed7953\"], [0.7777777777777778, \"#fb9f3a\"], [0.8888888888888888, \"#fdca26\"], [1.0, \"#f0f921\"]], \"type\": \"heatmap\"}], \"heatmapgl\": [{\"colorbar\": {\"outlinewidth\": 0, \"ticks\": \"\"}, \"colorscale\": [[0.0, \"#0d0887\"], [0.1111111111111111, \"#46039f\"], [0.2222222222222222, \"#7201a8\"], [0.3333333333333333, \"#9c179e\"], [0.4444444444444444, \"#bd3786\"], [0.5555555555555556, \"#d8576b\"], [0.6666666666666666, \"#ed7953\"], [0.7777777777777778, \"#fb9f3a\"], [0.8888888888888888, \"#fdca26\"], [1.0, \"#f0f921\"]], \"type\": \"heatmapgl\"}], \"histogram\": [{\"marker\": {\"colorbar\": {\"outlinewidth\": 0, \"ticks\": \"\"}}, \"type\": \"histogram\"}], \"histogram2d\": [{\"colorbar\": {\"outlinewidth\": 0, \"ticks\": \"\"}, \"colorscale\": [[0.0, \"#0d0887\"], [0.1111111111111111, \"#46039f\"], [0.2222222222222222, \"#7201a8\"], [0.3333333333333333, \"#9c179e\"], [0.4444444444444444, \"#bd3786\"], [0.5555555555555556, \"#d8576b\"], [0.6666666666666666, \"#ed7953\"], [0.7777777777777778, \"#fb9f3a\"], [0.8888888888888888, \"#fdca26\"], [1.0, \"#f0f921\"]], \"type\": \"histogram2d\"}], \"histogram2dcontour\": [{\"colorbar\": {\"outlinewidth\": 0, \"ticks\": \"\"}, \"colorscale\": [[0.0, \"#0d0887\"], [0.1111111111111111, \"#46039f\"], [0.2222222222222222, \"#7201a8\"], [0.3333333333333333, \"#9c179e\"], [0.4444444444444444, \"#bd3786\"], [0.5555555555555556, \"#d8576b\"], [0.6666666666666666, \"#ed7953\"], [0.7777777777777778, \"#fb9f3a\"], [0.8888888888888888, \"#fdca26\"], [1.0, \"#f0f921\"]], \"type\": \"histogram2dcontour\"}], \"mesh3d\": [{\"colorbar\": {\"outlinewidth\": 0, \"ticks\": \"\"}, \"type\": \"mesh3d\"}], \"parcoords\": [{\"line\": {\"colorbar\": {\"outlinewidth\": 0, \"ticks\": \"\"}}, \"type\": \"parcoords\"}], \"pie\": [{\"automargin\": true, \"type\": \"pie\"}], \"scatter\": [{\"marker\": {\"colorbar\": {\"outlinewidth\": 0, \"ticks\": \"\"}}, \"type\": \"scatter\"}], \"scatter3d\": [{\"line\": {\"colorbar\": {\"outlinewidth\": 0, \"ticks\": \"\"}}, \"marker\": {\"colorbar\": {\"outlinewidth\": 0, \"ticks\": \"\"}}, \"type\": \"scatter3d\"}], \"scattercarpet\": [{\"marker\": {\"colorbar\": {\"outlinewidth\": 0, \"ticks\": \"\"}}, \"type\": \"scattercarpet\"}], \"scattergeo\": [{\"marker\": {\"colorbar\": {\"outlinewidth\": 0, \"ticks\": \"\"}}, \"type\": \"scattergeo\"}], \"scattergl\": [{\"marker\": {\"colorbar\": {\"outlinewidth\": 0, \"ticks\": \"\"}}, \"type\": \"scattergl\"}], \"scattermapbox\": [{\"marker\": {\"colorbar\": {\"outlinewidth\": 0, \"ticks\": \"\"}}, \"type\": \"scattermapbox\"}], \"scatterpolar\": [{\"marker\": {\"colorbar\": {\"outlinewidth\": 0, \"ticks\": \"\"}}, \"type\": \"scatterpolar\"}], \"scatterpolargl\": [{\"marker\": {\"colorbar\": {\"outlinewidth\": 0, \"ticks\": \"\"}}, \"type\": \"scatterpolargl\"}], \"scatterternary\": [{\"marker\": {\"colorbar\": {\"outlinewidth\": 0, \"ticks\": \"\"}}, \"type\": \"scatterternary\"}], \"surface\": [{\"colorbar\": {\"outlinewidth\": 0, \"ticks\": \"\"}, \"colorscale\": [[0.0, \"#0d0887\"], [0.1111111111111111, \"#46039f\"], [0.2222222222222222, \"#7201a8\"], [0.3333333333333333, \"#9c179e\"], [0.4444444444444444, \"#bd3786\"], [0.5555555555555556, \"#d8576b\"], [0.6666666666666666, \"#ed7953\"], [0.7777777777777778, \"#fb9f3a\"], [0.8888888888888888, \"#fdca26\"], [1.0, \"#f0f921\"]], \"type\": \"surface\"}], \"table\": [{\"cells\": {\"fill\": {\"color\": \"#EBF0F8\"}, \"line\": {\"color\": \"white\"}}, \"header\": {\"fill\": {\"color\": \"#C8D4E3\"}, \"line\": {\"color\": \"white\"}}, \"type\": \"table\"}]}, \"layout\": {\"annotationdefaults\": {\"arrowcolor\": \"#2a3f5f\", \"arrowhead\": 0, \"arrowwidth\": 1}, \"autotypenumbers\": \"strict\", \"coloraxis\": {\"colorbar\": {\"outlinewidth\": 0, \"ticks\": \"\"}}, \"colorscale\": {\"diverging\": [[0, \"#8e0152\"], [0.1, \"#c51b7d\"], [0.2, \"#de77ae\"], [0.3, \"#f1b6da\"], [0.4, \"#fde0ef\"], [0.5, \"#f7f7f7\"], [0.6, \"#e6f5d0\"], [0.7, \"#b8e186\"], [0.8, \"#7fbc41\"], [0.9, \"#4d9221\"], [1, \"#276419\"]], \"sequential\": [[0.0, \"#0d0887\"], [0.1111111111111111, \"#46039f\"], [0.2222222222222222, \"#7201a8\"], [0.3333333333333333, \"#9c179e\"], [0.4444444444444444, \"#bd3786\"], [0.5555555555555556, \"#d8576b\"], [0.6666666666666666, \"#ed7953\"], [0.7777777777777778, \"#fb9f3a\"], [0.8888888888888888, \"#fdca26\"], [1.0, \"#f0f921\"]], \"sequentialminus\": [[0.0, \"#0d0887\"], [0.1111111111111111, \"#46039f\"], [0.2222222222222222, \"#7201a8\"], [0.3333333333333333, \"#9c179e\"], [0.4444444444444444, \"#bd3786\"], [0.5555555555555556, \"#d8576b\"], [0.6666666666666666, \"#ed7953\"], [0.7777777777777778, \"#fb9f3a\"], [0.8888888888888888, \"#fdca26\"], [1.0, \"#f0f921\"]]}, \"colorway\": [\"#636efa\", \"#EF553B\", \"#00cc96\", \"#ab63fa\", \"#FFA15A\", \"#19d3f3\", \"#FF6692\", \"#B6E880\", \"#FF97FF\", \"#FECB52\"], \"font\": {\"color\": \"#2a3f5f\"}, \"geo\": {\"bgcolor\": \"white\", \"lakecolor\": \"white\", \"landcolor\": \"#E5ECF6\", \"showlakes\": true, \"showland\": true, \"subunitcolor\": \"white\"}, \"hoverlabel\": {\"align\": \"left\"}, \"hovermode\": \"closest\", \"mapbox\": {\"style\": \"light\"}, \"paper_bgcolor\": \"white\", \"plot_bgcolor\": \"#E5ECF6\", \"polar\": {\"angularaxis\": {\"gridcolor\": \"white\", \"linecolor\": \"white\", \"ticks\": \"\"}, \"bgcolor\": \"#E5ECF6\", \"radialaxis\": {\"gridcolor\": \"white\", \"linecolor\": \"white\", \"ticks\": \"\"}}, \"scene\": {\"xaxis\": {\"backgroundcolor\": \"#E5ECF6\", \"gridcolor\": \"white\", \"gridwidth\": 2, \"linecolor\": \"white\", \"showbackground\": true, \"ticks\": \"\", \"zerolinecolor\": \"white\"}, \"yaxis\": {\"backgroundcolor\": \"#E5ECF6\", \"gridcolor\": \"white\", \"gridwidth\": 2, \"linecolor\": \"white\", \"showbackground\": true, \"ticks\": \"\", \"zerolinecolor\": \"white\"}, \"zaxis\": {\"backgroundcolor\": \"#E5ECF6\", \"gridcolor\": \"white\", \"gridwidth\": 2, \"linecolor\": \"white\", \"showbackground\": true, \"ticks\": \"\", \"zerolinecolor\": \"white\"}}, \"shapedefaults\": {\"line\": {\"color\": \"#2a3f5f\"}}, \"ternary\": {\"aaxis\": {\"gridcolor\": \"white\", \"linecolor\": \"white\", \"ticks\": \"\"}, \"baxis\": {\"gridcolor\": \"white\", \"linecolor\": \"white\", \"ticks\": \"\"}, \"bgcolor\": \"#E5ECF6\", \"caxis\": {\"gridcolor\": \"white\", \"linecolor\": \"white\", \"ticks\": \"\"}}, \"title\": {\"x\": 0.05}, \"xaxis\": {\"automargin\": true, \"gridcolor\": \"white\", \"linecolor\": \"white\", \"ticks\": \"\", \"title\": {\"standoff\": 15}, \"zerolinecolor\": \"white\", \"zerolinewidth\": 2}, \"yaxis\": {\"automargin\": true, \"gridcolor\": \"white\", \"linecolor\": \"white\", \"ticks\": \"\", \"title\": {\"standoff\": 15}, \"zerolinecolor\": \"white\", \"zerolinewidth\": 2}}}},                        {\"responsive\": true}                    ).then(function(){\n",
              "                            \n",
              "var gd = document.getElementById('7566596d-c6d7-4710-bf38-0fdb6e414401');\n",
              "var x = new MutationObserver(function (mutations, observer) {{\n",
              "        var display = window.getComputedStyle(gd).display;\n",
              "        if (!display || display === 'none') {{\n",
              "            console.log([gd, 'removed!']);\n",
              "            Plotly.purge(gd);\n",
              "            observer.disconnect();\n",
              "        }}\n",
              "}});\n",
              "\n",
              "// Listen for the removal of the full notebook cells\n",
              "var notebookContainer = gd.closest('#notebook-container');\n",
              "if (notebookContainer) {{\n",
              "    x.observe(notebookContainer, {childList: true});\n",
              "}}\n",
              "\n",
              "// Listen for the clearing of the current output cell\n",
              "var outputEl = gd.closest('.output');\n",
              "if (outputEl) {{\n",
              "    x.observe(outputEl, {childList: true});\n",
              "}}\n",
              "\n",
              "                        })                };                            </script>        </div>\n",
              "</body>\n",
              "</html>"
            ]
          },
          "metadata": {
            "tags": []
          }
        }
      ]
    },
    {
      "cell_type": "markdown",
      "metadata": {
        "id": "a4Rq6lBe02gp"
      },
      "source": [
        "Del treemap anterior se observó que dentro las categorías, predominan las aplicaciones gratuitas sin importar que sean exitosas o no. El mejor ejemplo es la categoría FAMILY, en donde el 89% de las aplicaciones exitosas son gratuitas. Lo anterior puede deberse a las siguientes causas: \n",
        "\n",
        "- Las aplicaciones gratuitas presentan anuncios o propaganda, evitando el cobro al usuario pero obteniendo ganancias a partir de los cobros a empresas de terceros que buscan obtener clicks, vender productos o generar propaganda para otras aplicaciones o servicios.\n",
        "\n",
        "- Las aplicaciones aparecen como gratuitas pero incluyen compras in-app; lo cual significa que los usuarios pueden comprar extensiones dentro de la aplicación que desbloquean características adicionales.\n",
        "\n",
        "- Las aplicaciones aparecen como gratuitas para descarga pero requieren de cobros mensuales o anuales que permiten a los usuarios desbloquear o acceder al contenido dentro de la app.\n",
        "\n",
        "\n",
        "Por lo anterior, fue posible concluir que la mejor estrategia es colocar la aplicación móvil como gratuita; pero considerando las posibilidades adicionales de anuncios, compras in-app o suscripciones. De esta forma se contabilizará la descarga en la plataforma y las probabilidades de exito aumentarán."
      ]
    },
    {
      "cell_type": "markdown",
      "metadata": {
        "id": "ItR_waUR0DXW"
      },
      "source": [
        "### **Pruebas A/B**\n",
        "\n",
        "En esta sección nos interesa analizar varios aspectos de nuestros datos, cabe mencionar que hay dos maneras de poder realizar pruebas A/B, una es realizando iteraciones de muetreo para así obtener un p-valor estimado de un prueba de hipótesis en particular, la otra manera es obtener una [_estadística de prueba_](https://support.minitab.com/es-mx/minitab/18/help-and-how-to/statistics/basic-statistics/supporting-topics/basics/what-is-a-test-statistic/) y, a partir de esto, obtener el p-valor dada una distribución de probabilidad. La paquetería **statsmodels** ofrece maneras muy sencillas de contratar pruebas de hipótesis, obteniendo un p-valor considerablemente parecido al obtenido por medio de iteraciones, con la ventaja de ahorrar procesamiento de memoria."
      ]
    },
    {
      "cell_type": "code",
      "metadata": {
        "id": "KDvoShbI4hWO"
      },
      "source": [
        "import statsmodels.api as sm ## Paqueteria para pruebas de hipótesis"
      ],
      "execution_count": null,
      "outputs": []
    },
    {
      "cell_type": "markdown",
      "metadata": {
        "id": "LWOM0U624x8i"
      },
      "source": [
        "Primeramente, aparentemente aquellas aplicaciones que son actualizadas constantemente tienen una mayor calificación de Rating dadas por los usuarios, pero nos interesa saber si esta relación realmente se cumple, probaremos el siguiente juego de hipótesis: \n",
        "\n",
        "+ **H_0: P_2018 - P_(2018-i) = 0 vs H_1: P_2018 - P_(2018-i) > 0**\n",
        "\n",
        "Donde se P_2018 es la proporción de aplicaciones exitosas (Rating mayor a 4.0) donde su última actualización fue en 2018, de manera parecida P_(2018-i) es la proporción de apps exitosas en los años anteriores a 2018. \n",
        "\n",
        "En la siguente tabla se puede apreciar que, aparentemente, la proporción de apps exitosas respecto a su ultimo años de actualización es creciente, es decir, 'Si actualizó mi app constantemente a más cantidad de usuarios les va a gustar', pero vamos a probar esto.\n",
        "\n",
        "Como nota, omitiremos el año 2010, ya que solo se trata de una sola aplicación en esta categoría."
      ]
    },
    {
      "cell_type": "code",
      "metadata": {
        "id": "o5YgttqD0XS7",
        "colab": {
          "base_uri": "https://localhost:8080/",
          "height": 328
        },
        "outputId": "a563a497-74a9-494b-adda-e0fcc344a8dc"
      },
      "source": [
        "info = df_limpio[df_limpio['Anio_ultimo_updated']>2010].groupby('Anio_ultimo_updated')[['Categoria', 'Exito_app']].mean()\n",
        "info.columns = ['Proporción de apps exitosas por último año de actualización']\n",
        "info"
      ],
      "execution_count": null,
      "outputs": [
        {
          "output_type": "execute_result",
          "data": {
            "text/html": [
              "<div>\n",
              "<style scoped>\n",
              "    .dataframe tbody tr th:only-of-type {\n",
              "        vertical-align: middle;\n",
              "    }\n",
              "\n",
              "    .dataframe tbody tr th {\n",
              "        vertical-align: top;\n",
              "    }\n",
              "\n",
              "    .dataframe thead th {\n",
              "        text-align: right;\n",
              "    }\n",
              "</style>\n",
              "<table border=\"1\" class=\"dataframe\">\n",
              "  <thead>\n",
              "    <tr style=\"text-align: right;\">\n",
              "      <th></th>\n",
              "      <th>Proporción de apps exitosas por último año de actualización</th>\n",
              "    </tr>\n",
              "    <tr>\n",
              "      <th>Anio_ultimo_updated</th>\n",
              "      <th></th>\n",
              "    </tr>\n",
              "  </thead>\n",
              "  <tbody>\n",
              "    <tr>\n",
              "      <th>2011</th>\n",
              "      <td>0.467</td>\n",
              "    </tr>\n",
              "    <tr>\n",
              "      <th>2012</th>\n",
              "      <td>0.476</td>\n",
              "    </tr>\n",
              "    <tr>\n",
              "      <th>2013</th>\n",
              "      <td>0.628</td>\n",
              "    </tr>\n",
              "    <tr>\n",
              "      <th>2014</th>\n",
              "      <td>0.589</td>\n",
              "    </tr>\n",
              "    <tr>\n",
              "      <th>2015</th>\n",
              "      <td>0.557</td>\n",
              "    </tr>\n",
              "    <tr>\n",
              "      <th>2016</th>\n",
              "      <td>0.601</td>\n",
              "    </tr>\n",
              "    <tr>\n",
              "      <th>2017</th>\n",
              "      <td>0.642</td>\n",
              "    </tr>\n",
              "    <tr>\n",
              "      <th>2018</th>\n",
              "      <td>0.775</td>\n",
              "    </tr>\n",
              "  </tbody>\n",
              "</table>\n",
              "</div>"
            ],
            "text/plain": [
              "                     Proporción de apps exitosas por último año de actualización\n",
              "Anio_ultimo_updated                                                             \n",
              "2011                                                             0.467          \n",
              "2012                                                             0.476          \n",
              "2013                                                             0.628          \n",
              "2014                                                             0.589          \n",
              "2015                                                             0.557          \n",
              "2016                                                             0.601          \n",
              "2017                                                             0.642          \n",
              "2018                                                             0.775          "
            ]
          },
          "metadata": {
            "tags": []
          },
          "execution_count": 64
        }
      ]
    },
    {
      "cell_type": "code",
      "metadata": {
        "id": "gujEpTcY9mYt",
        "colab": {
          "base_uri": "https://localhost:8080/"
        },
        "outputId": "e0ad6545-90b3-4ff1-82ed-72018495da54"
      },
      "source": [
        "for year in info.index[info.index < 2018]:\n",
        "  print('Prueba de hipótesis de diferencia de proporción de apps exitosas entre 2018 y', year)\n",
        "  print('H_0: P_2018 - P_',year,' = 0 vs H_1: P_2018 - P_',year,' > 0')\n",
        "  p_value = sm.stats.ttest_ind(df_limpio[df_limpio['Anio_ultimo_updated'] == 2018]['Exito_app'], \n",
        "                               df_limpio[df_limpio['Anio_ultimo_updated'] == year]['Exito_app'], \n",
        "                               alternative = 'larger', value = 0)\n",
        "  print('P_value: ', np.round(p_value[1], 6))\n",
        "  print('-'*60)"
      ],
      "execution_count": null,
      "outputs": [
        {
          "output_type": "stream",
          "text": [
            "Prueba de hipótesis de diferencia de proporción de apps exitosas entre 2018 y 2011\n",
            "H_0: P_2018 - P_ 2011  = 0 vs H_1: P_2018 - P_ 2011  > 0\n",
            "P_value:  0.002171\n",
            "------------------------------------------------------------\n",
            "Prueba de hipótesis de diferencia de proporción de apps exitosas entre 2018 y 2012\n",
            "H_0: P_2018 - P_ 2012  = 0 vs H_1: P_2018 - P_ 2012  > 0\n",
            "P_value:  0.000542\n",
            "------------------------------------------------------------\n",
            "Prueba de hipótesis de diferencia de proporción de apps exitosas entre 2018 y 2013\n",
            "H_0: P_2018 - P_ 2013  = 0 vs H_1: P_2018 - P_ 2013  > 0\n",
            "P_value:  0.000358\n",
            "------------------------------------------------------------\n",
            "Prueba de hipótesis de diferencia de proporción de apps exitosas entre 2018 y 2014\n",
            "H_0: P_2018 - P_ 2014  = 0 vs H_1: P_2018 - P_ 2014  > 0\n",
            "P_value:  0.0\n",
            "------------------------------------------------------------\n",
            "Prueba de hipótesis de diferencia de proporción de apps exitosas entre 2018 y 2015\n",
            "H_0: P_2018 - P_ 2015  = 0 vs H_1: P_2018 - P_ 2015  > 0\n",
            "P_value:  0.0\n",
            "------------------------------------------------------------\n",
            "Prueba de hipótesis de diferencia de proporción de apps exitosas entre 2018 y 2016\n",
            "H_0: P_2018 - P_ 2016  = 0 vs H_1: P_2018 - P_ 2016  > 0\n",
            "P_value:  0.0\n",
            "------------------------------------------------------------\n",
            "Prueba de hipótesis de diferencia de proporción de apps exitosas entre 2018 y 2017\n",
            "H_0: P_2018 - P_ 2017  = 0 vs H_1: P_2018 - P_ 2017  > 0\n",
            "P_value:  0.0\n",
            "------------------------------------------------------------\n"
          ],
          "name": "stdout"
        }
      ]
    },
    {
      "cell_type": "markdown",
      "metadata": {
        "id": "q3YnyhF3BiJI"
      },
      "source": [
        "Notamos que para todas la pruebas, los p-value obtenidos son cercanos a cero y en particular menores a 0.05 (nivel de significancia habirual), por lo que hay diferencia significatica entre las aplicaciones actualizadas por ultima vez en 2018 y exitosas respecto a la proporción de apps que fueron actualizadas por ultima vez en años anteriores a 2018 y que tambíen han sido catalogadas como exitosas. \n",
        "\n",
        "Por esta razón, hay evidencia estadística para pensar que si una app que se actualiza constantemente puede ser más del agrado de los usuarios."
      ]
    },
    {
      "cell_type": "markdown",
      "metadata": {
        "id": "UvjXQdRX9Ucf"
      },
      "source": [
        "Ahora nos interesa estudiar si hay diferencia estadística en las proporciones de apps exitosas que son gratuitas con respecto a las que son de pago, con el siguiente juego de hipótesis: \n",
        "\n",
        "* **H_0: (P_g - P_p) = 0 vs H_1: (P_g - P_p) ≠ 0**\n",
        "\n",
        "Donde P_g es la proporción de apps gratuitas que se consideran exitosas y P_p es la proporción de apps de paga que se consideran exitosas, consideraremos un nivel de significancia (alpha) de 0.05.\n",
        "\n",
        "Lo anterior nos dará información para saber si la cantidad de apps exitosas gratuitas difiere estadísticamente de la cantidad de apps de paga exitosas."
      ]
    },
    {
      "cell_type": "code",
      "metadata": {
        "colab": {
          "base_uri": "https://localhost:8080/"
        },
        "id": "WFEsGpg-_kLl",
        "outputId": "403e928d-e4ee-4d34-dcec-b9e0041143a7"
      },
      "source": [
        "print('Proporción de apps gratuitas exitosas: ', np.round(df_limpio[df_limpio['App_gratuita'] == 1]['Exito_app'].mean(), 4))\n",
        "print('Proporción de apps de paga exitosas: ', np.round(df_limpio[df_limpio['App_pago'] == 1]['Exito_app'].mean(), 4))"
      ],
      "execution_count": null,
      "outputs": [
        {
          "output_type": "stream",
          "text": [
            "Proporción de apps gratuitas exitosas:  0.7221\n",
            "Proporción de apps de paga exitosas:  0.779\n"
          ],
          "name": "stdout"
        }
      ]
    },
    {
      "cell_type": "code",
      "metadata": {
        "colab": {
          "base_uri": "https://localhost:8080/"
        },
        "id": "sPs6hKMsJ784",
        "outputId": "d5a62837-30ec-4667-e00a-07f79c940f61"
      },
      "source": [
        "alpha = 0.05\n",
        "p = sm.stats.ttest_ind(df_limpio[df_limpio['App_gratuita'] == 1]['Exito_app'], \n",
        "                   df_limpio[df_limpio['App_pago'] == 1]['Exito_app'], value = 0)[1]\n",
        "\n",
        "print('Hipótesis: H_0: (P_g - P_p) = 0 vs H_1: (P_g - P_p) ≠ 0')\n",
        "print('El p_value para el juego de hipótesis es:', p)\n",
        "if p<alpha:\n",
        "  print('Se rechaza H_0: (P_g - P_p) = 0')\n",
        "else:\n",
        "  print('No se puede rechazar H_0: (P_g - P_p) = 0')\n"
      ],
      "execution_count": null,
      "outputs": [
        {
          "output_type": "stream",
          "text": [
            "Hipótesis: H_0: (P_g - P_p) = 0 vs H_1: (P_g - P_p) ≠ 0\n",
            "El p_value para el juego de hipótesis es: 0.0017463005084206713\n",
            "Se rechaza H_0: (P_g - P_p) = 0\n"
          ],
          "name": "stdout"
        }
      ]
    },
    {
      "cell_type": "markdown",
      "metadata": {
        "id": "npWaeWNDOrRZ"
      },
      "source": [
        "Dado el p_valor anterior, hay evidencia estadística para notar que la proporción de app gratuitas exitosas difiere de la proporción de apps exitosas que son de paga y ahora la pregunta es ¿hacia qué lado difiere?\n",
        "\n",
        "Para esto probaremos con este juego de hipótesis:\n",
        "\n",
        "* **H_0: (P_g - P_p) = 0 vs H_1: (P_g - P_p) < 0**\n",
        "\n",
        "Esto nos dirá, si se rechaza **H_0**, que la proporción de apps exitosas de paga es estadísticamente mayor a una app gratuita."
      ]
    },
    {
      "cell_type": "code",
      "metadata": {
        "colab": {
          "base_uri": "https://localhost:8080/"
        },
        "id": "BZBDgoHpPBve",
        "outputId": "8bd0f972-f8b8-4ea3-fc13-c3f1ad8f9c71"
      },
      "source": [
        "alpha = 0.05\n",
        "p = sm.stats.ttest_ind(df_limpio[df_limpio['App_gratuita'] == 1]['Exito_app'], \n",
        "                   df_limpio[df_limpio['App_pago'] == 1]['Exito_app'], alternative = 'smaller', value = 0)[1]\n",
        "\n",
        "\n",
        "print('Hipótesis: H_0: (P_g - P_p) = 0 vs H_1: (P_g - P_p) < 0')\n",
        "print('El p_value para el juego de hipótesis es:', p)\n",
        "if p<alpha:\n",
        "  print('Se rechaza H_0: (P_g - P_p) = 0')\n",
        "else:\n",
        "  print('No se puede rechazar H_0: (P_g - P_p) = 0')"
      ],
      "execution_count": null,
      "outputs": [
        {
          "output_type": "stream",
          "text": [
            "Hipótesis: H_0: (P_g - P_p) = 0 vs H_1: (P_g - P_p) < 0\n",
            "El p_value para el juego de hipótesis es: 0.0008731502542103357\n",
            "Se rechaza H_0: (P_g - P_p) = 0\n"
          ],
          "name": "stdout"
        }
      ]
    },
    {
      "cell_type": "markdown",
      "metadata": {
        "id": "0Zp7ESwJQGUq"
      },
      "source": [
        "Se volvió a rechazara **H_0**, por lo que la proporción de apps de paga que son exitosas es estadísticamente mayor que de las apps gratuitas.\n",
        "\n",
        "Esto nos dice que, tratando de desarrollar una app de pago, podría caer, al final de cuentas, como app exitosa para los usuarios. Aunque la diferencia en proporción no es muy grande, el mercado muestra que es así."
      ]
    },
    {
      "cell_type": "markdown",
      "metadata": {
        "id": "cBT_YK150ANi"
      },
      "source": [
        "### **Exploración de variables catégoricas**"
      ]
    },
    {
      "cell_type": "code",
      "metadata": {
        "id": "1Ck5rJKlG45M",
        "colab": {
          "base_uri": "https://localhost:8080/",
          "height": 608
        },
        "outputId": "0f590d08-72ef-49ac-f1eb-90c22a3b70bc"
      },
      "source": [
        "import matplotlib.pyplot as plt\n",
        "df_limpio['App_gratuita']=df_limpio['App_gratuita'].replace(0,'De pago')\n",
        "df_limpio['App_gratuita']=df_limpio['App_gratuita'].replace(1,'Gratuito')\n",
        "df_limpio['App_gratuita'].value_counts().plot.pie(figsize=(10, 10),\n",
        "                             title='Apps Gratuitas-Pago',\n",
        "                             startangle=90,\n",
        "                             autopct='%1.1f%%',\n",
        "                             pctdistance=1.05,\n",
        "                             colormap='Paired',\n",
        "                             explode=(0,.1))\n",
        "plt.legend(loc='upper left')"
      ],
      "execution_count": null,
      "outputs": [
        {
          "output_type": "execute_result",
          "data": {
            "text/plain": [
              "<matplotlib.legend.Legend at 0x7f2139cdc190>"
            ]
          },
          "metadata": {
            "tags": []
          },
          "execution_count": 69
        },
        {
          "output_type": "display_data",
          "data": {
            "image/png": "[encoded data removed]",
            "text/plain": [
              "<Figure size 720x720 with 1 Axes>"
            ]
          },
          "metadata": {
            "tags": []
          }
        }
      ]
    },
    {
      "cell_type": "markdown",
      "metadata": {
        "id": "Hx7UvfzJuvlL"
      },
      "source": [
        "Aquí podemos ver que el 93,1% de las aplicaciones son gratuitas y el 6.9% las aplicaciones se pagan en Google Play Store, por lo que podemos decir que la mayoría las aplicaciones son gratuitas en Google Play Store."
      ]
    },
    {
      "cell_type": "code",
      "metadata": {
        "id": "ellfVVkRvPYi",
        "colab": {
          "base_uri": "https://localhost:8080/",
          "height": 382
        },
        "outputId": "f37c1d74-2147-4807-b989-f47e7c0f7198"
      },
      "source": [
        "sns.displot(df_limpio.Reviews, kind=\"kde\")"
      ],
      "execution_count": null,
      "outputs": [
        {
          "output_type": "execute_result",
          "data": {
            "text/plain": [
              "<seaborn.axisgrid.FacetGrid at 0x7f2139c7af90>"
            ]
          },
          "metadata": {
            "tags": []
          },
          "execution_count": 70
        },
        {
          "output_type": "display_data",
          "data": {
            "image/png": "[encoded data removed]",
            "text/plain": [
              "<Figure size 360x360 with 1 Axes>"
            ]
          },
          "metadata": {
            "tags": []
          }
        }
      ]
    },
    {
      "cell_type": "markdown",
      "metadata": {
        "id": "uEkl8ziyyFBS"
      },
      "source": [
        "\n",
        "La distribución anterior está claramente sesgada. Las aplicaciones con muy pocas reseñas lograron fácilmente obtener calificaciones de 5.0 que pueden ser engañosas.\n",
        "Así que filtremos los que mas de 5000000 reseñas. Estas aplicaciones filtradas son las que realmente tienen una calificación de 5.0."
      ]
    },
    {
      "cell_type": "code",
      "metadata": {
        "id": "Ude5jTjx7vHN",
        "colab": {
          "base_uri": "https://localhost:8080/",
          "height": 399
        },
        "outputId": "86cf237b-5e21-42fb-8bc7-88baed1fd36e"
      },
      "source": [
        "df_full = df_limpio[df_limpio.Reviews > 5000000]\n",
        "print(\"No. de aplicaciones que tienen 5.0 de Rating con suficientes reseñas: \",df_full.App.count())\n",
        "sns.displot(df_full.Reviews, kind=\"kde\")"
      ],
      "execution_count": null,
      "outputs": [
        {
          "output_type": "stream",
          "text": [
            "No. de aplicaciones que tienen 5.0 de Rating con suficientes reseñas:  230\n"
          ],
          "name": "stdout"
        },
        {
          "output_type": "execute_result",
          "data": {
            "text/plain": [
              "<seaborn.axisgrid.FacetGrid at 0x7f2139c26d50>"
            ]
          },
          "metadata": {
            "tags": []
          },
          "execution_count": 71
        },
        {
          "output_type": "display_data",
          "data": {
            "image/png": "[encoded data removed]",
            "text/plain": [
              "<Figure size 360x360 with 1 Axes>"
            ]
          },
          "metadata": {
            "tags": []
          }
        }
      ]
    },
    {
      "cell_type": "code",
      "metadata": {
        "id": "QCX3OWfN4Mh2",
        "colab": {
          "base_uri": "https://localhost:8080/",
          "height": 204
        },
        "outputId": "eedc468e-1bb9-4d5d-e037-3f36d957db66"
      },
      "source": [
        "df_important = df_limpio.loc[:,['Reviews', 'Instalaciones_minimas_estimadas', 'Rating', 'Exito_app']]\n",
        "df_important.head()"
      ],
      "execution_count": null,
      "outputs": [
        {
          "output_type": "execute_result",
          "data": {
            "text/html": [
              "<div>\n",
              "<style scoped>\n",
              "    .dataframe tbody tr th:only-of-type {\n",
              "        vertical-align: middle;\n",
              "    }\n",
              "\n",
              "    .dataframe tbody tr th {\n",
              "        vertical-align: top;\n",
              "    }\n",
              "\n",
              "    .dataframe thead th {\n",
              "        text-align: right;\n",
              "    }\n",
              "</style>\n",
              "<table border=\"1\" class=\"dataframe\">\n",
              "  <thead>\n",
              "    <tr style=\"text-align: right;\">\n",
              "      <th></th>\n",
              "      <th>Reviews</th>\n",
              "      <th>Instalaciones_minimas_estimadas</th>\n",
              "      <th>Rating</th>\n",
              "      <th>Exito_app</th>\n",
              "    </tr>\n",
              "  </thead>\n",
              "  <tbody>\n",
              "    <tr>\n",
              "      <th>0</th>\n",
              "      <td>159</td>\n",
              "      <td>10000</td>\n",
              "      <td>4.100</td>\n",
              "      <td>1</td>\n",
              "    </tr>\n",
              "    <tr>\n",
              "      <th>1</th>\n",
              "      <td>967</td>\n",
              "      <td>500000</td>\n",
              "      <td>3.900</td>\n",
              "      <td>0</td>\n",
              "    </tr>\n",
              "    <tr>\n",
              "      <th>2</th>\n",
              "      <td>87510</td>\n",
              "      <td>5000000</td>\n",
              "      <td>4.700</td>\n",
              "      <td>1</td>\n",
              "    </tr>\n",
              "    <tr>\n",
              "      <th>3</th>\n",
              "      <td>215644</td>\n",
              "      <td>50000000</td>\n",
              "      <td>4.500</td>\n",
              "      <td>1</td>\n",
              "    </tr>\n",
              "    <tr>\n",
              "      <th>4</th>\n",
              "      <td>967</td>\n",
              "      <td>100000</td>\n",
              "      <td>4.300</td>\n",
              "      <td>1</td>\n",
              "    </tr>\n",
              "  </tbody>\n",
              "</table>\n",
              "</div>"
            ],
            "text/plain": [
              "   Reviews  Instalaciones_minimas_estimadas  Rating  Exito_app\n",
              "0      159                            10000   4.100          1\n",
              "1      967                           500000   3.900          0\n",
              "2    87510                          5000000   4.700          1\n",
              "3   215644                         50000000   4.500          1\n",
              "4      967                           100000   4.300          1"
            ]
          },
          "metadata": {
            "tags": []
          },
          "execution_count": 73
        }
      ]
    },
    {
      "cell_type": "code",
      "metadata": {
        "id": "ueK20lQL6Vcy",
        "colab": {
          "base_uri": "https://localhost:8080/",
          "height": 667
        },
        "outputId": "ffc8fca9-f65b-43df-c75c-43a367002705"
      },
      "source": [
        "plt.figure(figsize=(10,8))\n",
        "ax = sns.heatmap(df_important.corr(), vmin=-1, vmax=1, annot=True, linewidths=0.2, cmap=\"YlGnBu\")"
      ],
      "execution_count": null,
      "outputs": [
        {
          "output_type": "display_data",
          "data": {
            "image/png": "[encoded data removed]",
            "text/plain": [
              "<Figure size 720x576 with 2 Axes>"
            ]
          },
          "metadata": {
            "tags": []
          }
        }
      ]
    },
    {
      "cell_type": "code",
      "metadata": {
        "id": "313RCbIX7Jcn",
        "colab": {
          "base_uri": "https://localhost:8080/",
          "height": 741
        },
        "outputId": "9d432f35-aba4-4183-c447-5edd0e62ddb5"
      },
      "source": [
        "sns.pairplot(data=df_important, palette=\"bright\") "
      ],
      "execution_count": null,
      "outputs": [
        {
          "output_type": "execute_result",
          "data": {
            "text/plain": [
              "<seaborn.axisgrid.PairGrid at 0x7f21399d1b10>"
            ]
          },
          "metadata": {
            "tags": []
          },
          "execution_count": 75
        },
        {
          "output_type": "display_data",
          "data": {
            "image/png": "[encoded data removed]",
            "text/plain": [
              "<Figure size 720x720 with 20 Axes>"
            ]
          },
          "metadata": {
            "tags": []
          }
        }
      ]
    },
    {
      "cell_type": "code",
      "metadata": {
        "colab": {
          "base_uri": "https://localhost:8080/",
          "height": 719
        },
        "id": "zoUzC-9p0Rup",
        "outputId": "0de0553e-6fa3-4e22-caec-25f07ba1766d"
      },
      "source": [
        "top_apps_generos = df_limpio['Categoria'].value_counts()\n",
        "generoX = []\n",
        "generoY = []\n",
        "\n",
        "for i in range(len(top_apps_generos)):\n",
        "    generoX.append(top_apps_generos.index[i])\n",
        "    generoY.append(top_apps_generos[i])\n",
        "\n",
        "plt.figure(figsize=(15,9))\n",
        "plt.ylabel('Genres(App Count)')\n",
        "plt.xlabel('Genres')\n",
        "graph = sns.barplot(x=generoX,y=generoY,palette=\"deep\")\n",
        "graph.set_xticklabels(graph.get_xticklabels(), rotation=90, fontsize=12)\n",
        "graph.set_title(\"Top generos en la playstore\", fontsize = 20);"
      ],
      "execution_count": null,
      "outputs": [
        {
          "output_type": "display_data",
          "data": {
            "image/png": "[encoded data removed]",
            "text/plain": [
              "<Figure size 1080x648 with 1 Axes>"
            ]
          },
          "metadata": {
            "tags": []
          }
        }
      ]
    },
    {
      "cell_type": "markdown",
      "metadata": {
        "id": "mmACB1hXTE-9"
      },
      "source": [
        "Con el gráfico anterior podemos notar que aplicación enfócados en la categoría **Family** predominan en nuestro dataset, nos da indicio para pensa que la mayoría de las aplicaciones desarrolladas son destinadas a un público de todas las edades y donde todos puedan utlizar la apps móvil.\n",
        "\n",
        "Le siguen las aplicaciones destinadas a video juegos y herramientas. La categoría de aplicaciones menos representadas son las enfocadas a calendarios y organiezación (_events_) y enfócadas a belleza."
      ]
    },
    {
      "cell_type": "code",
      "metadata": {
        "colab": {
          "base_uri": "https://localhost:8080/",
          "height": 363
        },
        "id": "eGezHfwbyqBr",
        "outputId": "40905499-0c2e-41a7-a7d6-b7d76fa2d969"
      },
      "source": [
        "df['Rating_del_contenido'].value_counts().plot.bar()"
      ],
      "execution_count": null,
      "outputs": [
        {
          "output_type": "execute_result",
          "data": {
            "text/plain": [
              "<matplotlib.axes._subplots.AxesSubplot at 0x7f21526fe650>"
            ]
          },
          "metadata": {
            "tags": []
          },
          "execution_count": 78
        },
        {
          "output_type": "display_data",
          "data": {
            "image/png": "[encoded data removed]",
            "text/plain": [
              "<Figure size 432x288 with 1 Axes>"
            ]
          },
          "metadata": {
            "tags": []
          }
        }
      ]
    },
    {
      "cell_type": "markdown",
      "metadata": {
        "id": "urxL1ZSVT9v4"
      },
      "source": [
        "Concordando con lo anterior, la mayoría del contenido en estas aplicaciones esta enfocado a todo público y solo un poqueño sector diseña aplicaciones para adultos y gente adulta."
      ]
    },
    {
      "cell_type": "markdown",
      "metadata": {
        "id": "hdMdY73zysvJ"
      },
      "source": [
        "### **Procesamiento de lenguaje natural.**\n",
        "\n",
        "Para este espacio, usaremos la columna de los titulos. Lo anterior, ya que algunos de estos nombres contienen stop words, podríamos simplificar los titulos con las palabras clave que nos interesan que sean representativo de la aplicación.\n",
        "\n"
      ]
    },
    {
      "cell_type": "code",
      "metadata": {
        "id": "8Tyyc0KdcVc1",
        "colab": {
          "base_uri": "https://localhost:8080/"
        },
        "outputId": "a89fef5d-cc1c-4765-c0d7-e11af1458e8d"
      },
      "source": [
        "!pip install nltk\n",
        "!pip install --upgrade pip\n",
        "!python -m nltk.downloader all\n",
        "import nltk\n",
        "import string"
      ],
      "execution_count": null,
      "outputs": [
        {
          "output_type": "stream",
          "text": [
            "Requirement already satisfied: nltk in /usr/local/lib/python3.7/dist-packages (3.2.5)\n",
            "Requirement already satisfied: six in /usr/local/lib/python3.7/dist-packages (from nltk) (1.15.0)\n",
            "Collecting pip\n",
            "\u001b[?25l  Downloading https://files.pythonhosted.org/packages/cd/6f/43037c7bcc8bd8ba7c9074256b1a11596daa15555808ec748048c1507f08/pip-21.1.1-py3-none-any.whl (1.5MB)\n",
            "\u001b[K     |████████████████████████████████| 1.6MB 3.7MB/s \n",
            "\u001b[?25hInstalling collected packages: pip\n",
            "  Found existing installation: pip 19.3.1\n",
            "    Uninstalling pip-19.3.1:\n",
            "      Successfully uninstalled pip-19.3.1\n",
            "Successfully installed pip-21.1.1\n",
            "/usr/lib/python3.7/runpy.py:125: RuntimeWarning: 'nltk.downloader' found in sys.modules after import of package 'nltk', but prior to execution of 'nltk.downloader'; this may result in unpredictable behaviour\n",
            "  warn(RuntimeWarning(msg))\n",
            "[nltk_data] Downloading collection 'all'\n",
            "[nltk_data]    | \n",
            "[nltk_data]    | Downloading package abc to /root/nltk_data...\n",
            "[nltk_data]    |   Unzipping corpora/abc.zip.\n",
            "[nltk_data]    | Downloading package alpino to /root/nltk_data...\n",
            "[nltk_data]    |   Unzipping corpora/alpino.zip.\n",
            "[nltk_data]    | Downloading package biocreative_ppi to\n",
            "[nltk_data]    |     /root/nltk_data...\n",
            "[nltk_data]    |   Unzipping corpora/biocreative_ppi.zip.\n",
            "[nltk_data]    | Downloading package brown to /root/nltk_data...\n",
            "[nltk_data]    |   Unzipping corpora/brown.zip.\n",
            "[nltk_data]    | Downloading package brown_tei to /root/nltk_data...\n",
            "[nltk_data]    |   Unzipping corpora/brown_tei.zip.\n",
            "[nltk_data]    | Downloading package cess_cat to /root/nltk_data...\n",
            "[nltk_data]    |   Unzipping corpora/cess_cat.zip.\n",
            "[nltk_data]    | Downloading package cess_esp to /root/nltk_data...\n",
            "[nltk_data]    |   Unzipping corpora/cess_esp.zip.\n",
            "[nltk_data]    | Downloading package chat80 to /root/nltk_data...\n",
            "[nltk_data]    |   Unzipping corpora/chat80.zip.\n",
            "[nltk_data]    | Downloading package city_database to\n",
            "[nltk_data]    |     /root/nltk_data...\n",
            "[nltk_data]    |   Unzipping corpora/city_database.zip.\n",
            "[nltk_data]    | Downloading package cmudict to /root/nltk_data...\n",
            "[nltk_data]    |   Unzipping corpora/cmudict.zip.\n",
            "[nltk_data]    | Downloading package comparative_sentences to\n",
            "[nltk_data]    |     /root/nltk_data...\n",
            "[nltk_data]    |   Unzipping corpora/comparative_sentences.zip.\n",
            "[nltk_data]    | Downloading package comtrans to /root/nltk_data...\n",
            "[nltk_data]    | Downloading package conll2000 to /root/nltk_data...\n",
            "[nltk_data]    |   Unzipping corpora/conll2000.zip.\n",
            "[nltk_data]    | Downloading package conll2002 to /root/nltk_data...\n",
            "[nltk_data]    |   Unzipping corpora/conll2002.zip.\n",
            "[nltk_data]    | Downloading package conll2007 to /root/nltk_data...\n",
            "[nltk_data]    | Downloading package crubadan to /root/nltk_data...\n",
            "[nltk_data]    |   Unzipping corpora/crubadan.zip.\n",
            "[nltk_data]    | Downloading package dependency_treebank to\n",
            "[nltk_data]    |     /root/nltk_data...\n",
            "[nltk_data]    |   Unzipping corpora/dependency_treebank.zip.\n",
            "[nltk_data]    | Downloading package dolch to /root/nltk_data...\n",
            "[nltk_data]    |   Unzipping corpora/dolch.zip.\n",
            "[nltk_data]    | Downloading package europarl_raw to\n",
            "[nltk_data]    |     /root/nltk_data...\n",
            "[nltk_data]    |   Unzipping corpora/europarl_raw.zip.\n",
            "[nltk_data]    | Downloading package floresta to /root/nltk_data...\n",
            "[nltk_data]    |   Unzipping corpora/floresta.zip.\n",
            "[nltk_data]    | Downloading package framenet_v15 to\n",
            "[nltk_data]    |     /root/nltk_data...\n",
            "[nltk_data]    |   Unzipping corpora/framenet_v15.zip.\n",
            "[nltk_data]    | Downloading package framenet_v17 to\n",
            "[nltk_data]    |     /root/nltk_data...\n",
            "[nltk_data]    |   Unzipping corpora/framenet_v17.zip.\n",
            "[nltk_data]    | Downloading package gazetteers to /root/nltk_data...\n",
            "[nltk_data]    |   Unzipping corpora/gazetteers.zip.\n",
            "[nltk_data]    | Downloading package genesis to /root/nltk_data...\n",
            "[nltk_data]    |   Unzipping corpora/genesis.zip.\n",
            "[nltk_data]    | Downloading package gutenberg to /root/nltk_data...\n",
            "[nltk_data]    |   Unzipping corpora/gutenberg.zip.\n",
            "[nltk_data]    | Downloading package ieer to /root/nltk_data...\n",
            "[nltk_data]    |   Unzipping corpora/ieer.zip.\n",
            "[nltk_data]    | Downloading package inaugural to /root/nltk_data...\n",
            "[nltk_data]    |   Unzipping corpora/inaugural.zip.\n",
            "[nltk_data]    | Downloading package indian to /root/nltk_data...\n",
            "[nltk_data]    |   Unzipping corpora/indian.zip.\n",
            "[nltk_data]    | Downloading package jeita to /root/nltk_data...\n",
            "[nltk_data]    | Downloading package kimmo to /root/nltk_data...\n",
            "[nltk_data]    |   Unzipping corpora/kimmo.zip.\n",
            "[nltk_data]    | Downloading package knbc to /root/nltk_data...\n",
            "[nltk_data]    | Downloading package lin_thesaurus to\n",
            "[nltk_data]    |     /root/nltk_data...\n",
            "[nltk_data]    |   Unzipping corpora/lin_thesaurus.zip.\n",
            "[nltk_data]    | Downloading package mac_morpho to /root/nltk_data...\n",
            "[nltk_data]    |   Unzipping corpora/mac_morpho.zip.\n",
            "[nltk_data]    | Downloading package machado to /root/nltk_data...\n",
            "[nltk_data]    | Downloading package masc_tagged to /root/nltk_data...\n",
            "[nltk_data]    | Downloading package moses_sample to\n",
            "[nltk_data]    |     /root/nltk_data...\n",
            "[nltk_data]    |   Unzipping models/moses_sample.zip.\n",
            "[nltk_data]    | Downloading package movie_reviews to\n",
            "[nltk_data]    |     /root/nltk_data...\n",
            "[nltk_data]    |   Unzipping corpora/movie_reviews.zip.\n",
            "[nltk_data]    | Downloading package names to /root/nltk_data...\n",
            "[nltk_data]    |   Unzipping corpora/names.zip.\n",
            "[nltk_data]    | Downloading package nombank.1.0 to /root/nltk_data...\n",
            "[nltk_data]    | Downloading package nps_chat to /root/nltk_data...\n",
            "[nltk_data]    |   Unzipping corpora/nps_chat.zip.\n",
            "[nltk_data]    | Downloading package omw to /root/nltk_data...\n",
            "[nltk_data]    |   Unzipping corpora/omw.zip.\n",
            "[nltk_data]    | Downloading package opinion_lexicon to\n",
            "[nltk_data]    |     /root/nltk_data...\n",
            "[nltk_data]    |   Unzipping corpora/opinion_lexicon.zip.\n",
            "[nltk_data]    | Downloading package paradigms to /root/nltk_data...\n",
            "[nltk_data]    |   Unzipping corpora/paradigms.zip.\n",
            "[nltk_data]    | Downloading package pil to /root/nltk_data...\n",
            "[nltk_data]    |   Unzipping corpora/pil.zip.\n",
            "[nltk_data]    | Downloading package pl196x to /root/nltk_data...\n",
            "[nltk_data]    |   Unzipping corpora/pl196x.zip.\n",
            "[nltk_data]    | Downloading package ppattach to /root/nltk_data...\n",
            "[nltk_data]    |   Unzipping corpora/ppattach.zip.\n",
            "[nltk_data]    | Downloading package problem_reports to\n",
            "[nltk_data]    |     /root/nltk_data...\n",
            "[nltk_data]    |   Unzipping corpora/problem_reports.zip.\n",
            "[nltk_data]    | Downloading package propbank to /root/nltk_data...\n",
            "[nltk_data]    | Downloading package ptb to /root/nltk_data...\n",
            "[nltk_data]    |   Unzipping corpora/ptb.zip.\n",
            "[nltk_data]    | Downloading package product_reviews_1 to\n",
            "[nltk_data]    |     /root/nltk_data...\n",
            "[nltk_data]    |   Unzipping corpora/product_reviews_1.zip.\n",
            "[nltk_data]    | Downloading package product_reviews_2 to\n",
            "[nltk_data]    |     /root/nltk_data...\n",
            "[nltk_data]    |   Unzipping corpora/product_reviews_2.zip.\n",
            "[nltk_data]    | Downloading package pros_cons to /root/nltk_data...\n",
            "[nltk_data]    |   Unzipping corpora/pros_cons.zip.\n",
            "[nltk_data]    | Downloading package qc to /root/nltk_data...\n",
            "[nltk_data]    |   Unzipping corpora/qc.zip.\n",
            "[nltk_data]    | Downloading package reuters to /root/nltk_data...\n",
            "[nltk_data]    | Downloading package rte to /root/nltk_data...\n",
            "[nltk_data]    |   Unzipping corpora/rte.zip.\n",
            "[nltk_data]    | Downloading package semcor to /root/nltk_data...\n",
            "[nltk_data]    | Downloading package senseval to /root/nltk_data...\n",
            "[nltk_data]    |   Unzipping corpora/senseval.zip.\n",
            "[nltk_data]    | Downloading package sentiwordnet to\n",
            "[nltk_data]    |     /root/nltk_data...\n",
            "[nltk_data]    |   Unzipping corpora/sentiwordnet.zip.\n",
            "[nltk_data]    | Downloading package sentence_polarity to\n",
            "[nltk_data]    |     /root/nltk_data...\n",
            "[nltk_data]    |   Unzipping corpora/sentence_polarity.zip.\n",
            "[nltk_data]    | Downloading package shakespeare to /root/nltk_data...\n",
            "[nltk_data]    |   Unzipping corpora/shakespeare.zip.\n",
            "[nltk_data]    | Downloading package sinica_treebank to\n",
            "[nltk_data]    |     /root/nltk_data...\n",
            "[nltk_data]    |   Unzipping corpora/sinica_treebank.zip.\n",
            "[nltk_data]    | Downloading package smultron to /root/nltk_data...\n",
            "[nltk_data]    |   Unzipping corpora/smultron.zip.\n",
            "[nltk_data]    | Downloading package state_union to /root/nltk_data...\n",
            "[nltk_data]    |   Unzipping corpora/state_union.zip.\n",
            "[nltk_data]    | Downloading package stopwords to /root/nltk_data...\n",
            "[nltk_data]    |   Unzipping corpora/stopwords.zip.\n",
            "[nltk_data]    | Downloading package subjectivity to\n",
            "[nltk_data]    |     /root/nltk_data...\n",
            "[nltk_data]    |   Unzipping corpora/subjectivity.zip.\n",
            "[nltk_data]    | Downloading package swadesh to /root/nltk_data...\n",
            "[nltk_data]    |   Unzipping corpora/swadesh.zip.\n",
            "[nltk_data]    | Downloading package switchboard to /root/nltk_data...\n",
            "[nltk_data]    |   Unzipping corpora/switchboard.zip.\n",
            "[nltk_data]    | Downloading package timit to /root/nltk_data...\n",
            "[nltk_data]    |   Unzipping corpora/timit.zip.\n",
            "[nltk_data]    | Downloading package toolbox to /root/nltk_data...\n",
            "[nltk_data]    |   Unzipping corpora/toolbox.zip.\n",
            "[nltk_data]    | Downloading package treebank to /root/nltk_data...\n",
            "[nltk_data]    |   Unzipping corpora/treebank.zip.\n",
            "[nltk_data]    | Downloading package twitter_samples to\n",
            "[nltk_data]    |     /root/nltk_data...\n",
            "[nltk_data]    |   Unzipping corpora/twitter_samples.zip.\n",
            "[nltk_data]    | Downloading package udhr to /root/nltk_data...\n",
            "[nltk_data]    |   Unzipping corpora/udhr.zip.\n",
            "[nltk_data]    | Downloading package udhr2 to /root/nltk_data...\n",
            "[nltk_data]    |   Unzipping corpora/udhr2.zip.\n",
            "[nltk_data]    | Downloading package unicode_samples to\n",
            "[nltk_data]    |     /root/nltk_data...\n",
            "[nltk_data]    |   Unzipping corpora/unicode_samples.zip.\n",
            "[nltk_data]    | Downloading package universal_treebanks_v20 to\n",
            "[nltk_data]    |     /root/nltk_data...\n",
            "[nltk_data]    | Downloading package verbnet to /root/nltk_data...\n",
            "[nltk_data]    |   Unzipping corpora/verbnet.zip.\n",
            "[nltk_data]    | Downloading package verbnet3 to /root/nltk_data...\n",
            "[nltk_data]    |   Unzipping corpora/verbnet3.zip.\n",
            "[nltk_data]    | Downloading package webtext to /root/nltk_data...\n",
            "[nltk_data]    |   Unzipping corpora/webtext.zip.\n",
            "[nltk_data]    | Downloading package wordnet to /root/nltk_data...\n",
            "[nltk_data]    |   Unzipping corpora/wordnet.zip.\n",
            "[nltk_data]    | Downloading package wordnet_ic to /root/nltk_data...\n",
            "[nltk_data]    |   Unzipping corpora/wordnet_ic.zip.\n",
            "[nltk_data]    | Downloading package words to /root/nltk_data...\n",
            "[nltk_data]    |   Unzipping corpora/words.zip.\n",
            "[nltk_data]    | Downloading package ycoe to /root/nltk_data...\n",
            "[nltk_data]    |   Unzipping corpora/ycoe.zip.\n",
            "[nltk_data]    | Downloading package rslp to /root/nltk_data...\n",
            "[nltk_data]    |   Unzipping stemmers/rslp.zip.\n",
            "[nltk_data]    | Downloading package maxent_treebank_pos_tagger to\n",
            "[nltk_data]    |     /root/nltk_data...\n",
            "[nltk_data]    |   Unzipping taggers/maxent_treebank_pos_tagger.zip.\n",
            "[nltk_data]    | Downloading package universal_tagset to\n",
            "[nltk_data]    |     /root/nltk_data...\n",
            "[nltk_data]    |   Unzipping taggers/universal_tagset.zip.\n",
            "[nltk_data]    | Downloading package maxent_ne_chunker to\n",
            "[nltk_data]    |     /root/nltk_data...\n",
            "[nltk_data]    |   Unzipping chunkers/maxent_ne_chunker.zip.\n",
            "[nltk_data]    | Downloading package punkt to /root/nltk_data...\n",
            "[nltk_data]    |   Unzipping tokenizers/punkt.zip.\n",
            "[nltk_data]    | Downloading package book_grammars to\n",
            "[nltk_data]    |     /root/nltk_data...\n",
            "[nltk_data]    |   Unzipping grammars/book_grammars.zip.\n",
            "[nltk_data]    | Downloading package sample_grammars to\n",
            "[nltk_data]    |     /root/nltk_data...\n",
            "[nltk_data]    |   Unzipping grammars/sample_grammars.zip.\n",
            "[nltk_data]    | Downloading package spanish_grammars to\n",
            "[nltk_data]    |     /root/nltk_data...\n",
            "[nltk_data]    |   Unzipping grammars/spanish_grammars.zip.\n",
            "[nltk_data]    | Downloading package basque_grammars to\n",
            "[nltk_data]    |     /root/nltk_data...\n",
            "[nltk_data]    |   Unzipping grammars/basque_grammars.zip.\n",
            "[nltk_data]    | Downloading package large_grammars to\n",
            "[nltk_data]    |     /root/nltk_data...\n",
            "[nltk_data]    |   Unzipping grammars/large_grammars.zip.\n",
            "[nltk_data]    | Downloading package tagsets to /root/nltk_data...\n",
            "[nltk_data]    |   Unzipping help/tagsets.zip.\n",
            "[nltk_data]    | Downloading package snowball_data to\n",
            "[nltk_data]    |     /root/nltk_data...\n",
            "[nltk_data]    | Downloading package bllip_wsj_no_aux to\n",
            "[nltk_data]    |     /root/nltk_data...\n",
            "[nltk_data]    |   Unzipping models/bllip_wsj_no_aux.zip.\n",
            "[nltk_data]    | Downloading package word2vec_sample to\n",
            "[nltk_data]    |     /root/nltk_data...\n",
            "[nltk_data]    |   Unzipping models/word2vec_sample.zip.\n",
            "[nltk_data]    | Downloading package panlex_swadesh to\n",
            "[nltk_data]    |     /root/nltk_data...\n",
            "[nltk_data]    | Downloading package mte_teip5 to /root/nltk_data...\n",
            "[nltk_data]    |   Unzipping corpora/mte_teip5.zip.\n",
            "[nltk_data]    | Downloading package averaged_perceptron_tagger to\n",
            "[nltk_data]    |     /root/nltk_data...\n",
            "[nltk_data]    |   Unzipping taggers/averaged_perceptron_tagger.zip.\n",
            "[nltk_data]    | Downloading package averaged_perceptron_tagger_ru to\n",
            "[nltk_data]    |     /root/nltk_data...\n",
            "[nltk_data]    |   Unzipping\n",
            "[nltk_data]    |       taggers/averaged_perceptron_tagger_ru.zip.\n",
            "[nltk_data]    | Downloading package perluniprops to\n",
            "[nltk_data]    |     /root/nltk_data...\n",
            "[nltk_data]    |   Unzipping misc/perluniprops.zip.\n",
            "[nltk_data]    | Downloading package nonbreaking_prefixes to\n",
            "[nltk_data]    |     /root/nltk_data...\n",
            "[nltk_data]    |   Unzipping corpora/nonbreaking_prefixes.zip.\n",
            "[nltk_data]    | Downloading package vader_lexicon to\n",
            "[nltk_data]    |     /root/nltk_data...\n",
            "[nltk_data]    | Downloading package porter_test to /root/nltk_data...\n",
            "[nltk_data]    |   Unzipping stemmers/porter_test.zip.\n",
            "[nltk_data]    | Downloading package wmt15_eval to /root/nltk_data...\n",
            "[nltk_data]    |   Unzipping models/wmt15_eval.zip.\n",
            "[nltk_data]    | Downloading package mwa_ppdb to /root/nltk_data...\n",
            "[nltk_data]    |   Unzipping misc/mwa_ppdb.zip.\n",
            "[nltk_data]    | \n",
            "[nltk_data]  Done downloading collection all\n"
          ],
          "name": "stdout"
        }
      ]
    },
    {
      "cell_type": "code",
      "metadata": {
        "id": "hm4coXX2cVgB"
      },
      "source": [
        "import re\n",
        "from nltk.corpus import stopwords\n",
        "from nltk.stem import PorterStemmer\n",
        "from nltk.tokenize import TweetTokenizer\n",
        "from nltk.corpus import twitter_samples \n",
        "from nltk.tokenize import word_tokenize  \n"
      ],
      "execution_count": null,
      "outputs": []
    },
    {
      "cell_type": "markdown",
      "metadata": {
        "id": "XmYjlxkoTwIV"
      },
      "source": [
        "Creamos una función para procesar los titulos de las aplicaciones, de esta mánera quitamos stopwords y obtenemos las palabras significantes por su léxico."
      ]
    },
    {
      "cell_type": "code",
      "metadata": {
        "id": "G9-2wWUJ0DIo"
      },
      "source": [
        "def process_text(text):\n",
        "    \"\"\"\n",
        "    Input:\n",
        "        text: una cadena \n",
        "    Output:\n",
        "        text_clean: una lista de palabras conteniendo el text ya procesado\n",
        "\n",
        "    \"\"\"\n",
        "    stemmer = PorterStemmer()\n",
        "    stopwords_english = stopwords.words('english')\n",
        "    text = re.sub(r'\\$\\w*', '', text)\n",
        "    text = re.sub(r'^RT[\\s]+', '', text)\n",
        "    text = re.sub(r'https?:\\/\\/.*[\\r\\n]*', '', text)\n",
        "    text = re.sub(r'#', '', text)\n",
        "    tokenizer = TweetTokenizer(preserve_case=False, strip_handles=True,\n",
        "                               reduce_len=True)\n",
        "    text_tokens = tokenizer.tokenize(text)\n",
        "    text_clean = []\n",
        "    for word in text_tokens:\n",
        "        if (word not in stopwords_english and  \n",
        "                word not in string.punctuation):          \n",
        "            stem_word = stemmer.stem(word) \n",
        "            text_clean.append(stem_word)\n",
        "    clean=''\n",
        "    for i in text_clean:\n",
        "      clean+=i\n",
        "      clean+= ' '\n",
        "\n",
        "    return clean"
      ],
      "execution_count": null,
      "outputs": []
    },
    {
      "cell_type": "markdown",
      "metadata": {
        "id": "97RpgbjsUHmD"
      },
      "source": [
        "Observamos que obtenemos los titulos procesados con las características antes descritas"
      ]
    },
    {
      "cell_type": "code",
      "metadata": {
        "colab": {
          "base_uri": "https://localhost:8080/",
          "height": 419
        },
        "id": "UWqCvMI_pYay",
        "outputId": "912109b3-2641-4718-ca55-90e4f4521a4a"
      },
      "source": [
        "procesado=pd.DataFrame(map(process_text,df['App']))\n",
        "procesado"
      ],
      "execution_count": null,
      "outputs": [
        {
          "output_type": "execute_result",
          "data": {
            "text/html": [
              "<div>\n",
              "<style scoped>\n",
              "    .dataframe tbody tr th:only-of-type {\n",
              "        vertical-align: middle;\n",
              "    }\n",
              "\n",
              "    .dataframe tbody tr th {\n",
              "        vertical-align: top;\n",
              "    }\n",
              "\n",
              "    .dataframe thead th {\n",
              "        text-align: right;\n",
              "    }\n",
              "</style>\n",
              "<table border=\"1\" class=\"dataframe\">\n",
              "  <thead>\n",
              "    <tr style=\"text-align: right;\">\n",
              "      <th></th>\n",
              "      <th>0</th>\n",
              "    </tr>\n",
              "  </thead>\n",
              "  <tbody>\n",
              "    <tr>\n",
              "      <th>0</th>\n",
              "      <td>photo editor candi camera grid scrapbook</td>\n",
              "    </tr>\n",
              "    <tr>\n",
              "      <th>1</th>\n",
              "      <td>color book moana</td>\n",
              "    </tr>\n",
              "    <tr>\n",
              "      <th>2</th>\n",
              "      <td>u launcher lite – free live cool theme hide app</td>\n",
              "    </tr>\n",
              "    <tr>\n",
              "      <th>3</th>\n",
              "      <td>sketch draw paint</td>\n",
              "    </tr>\n",
              "    <tr>\n",
              "      <th>4</th>\n",
              "      <td>pixel draw number art color book</td>\n",
              "    </tr>\n",
              "    <tr>\n",
              "      <th>...</th>\n",
              "      <td>...</td>\n",
              "    </tr>\n",
              "    <tr>\n",
              "      <th>9361</th>\n",
              "      <td>fr calcul</td>\n",
              "    </tr>\n",
              "    <tr>\n",
              "      <th>9362</th>\n",
              "      <td>sya 9a maroc fr</td>\n",
              "    </tr>\n",
              "    <tr>\n",
              "      <th>9363</th>\n",
              "      <td>fr mike schmitz audio teach</td>\n",
              "    </tr>\n",
              "    <tr>\n",
              "      <th>9364</th>\n",
              "      <td>scp foundat db fr nn5n</td>\n",
              "    </tr>\n",
              "    <tr>\n",
              "      <th>9365</th>\n",
              "      <td>ihoroscop 2018 daili horoscop astrolog</td>\n",
              "    </tr>\n",
              "  </tbody>\n",
              "</table>\n",
              "<p>9366 rows × 1 columns</p>\n",
              "</div>"
            ],
            "text/plain": [
              "                                                     0\n",
              "0            photo editor candi camera grid scrapbook \n",
              "1                                    color book moana \n",
              "2     u launcher lite – free live cool theme hide app \n",
              "3                                   sketch draw paint \n",
              "4                    pixel draw number art color book \n",
              "...                                                ...\n",
              "9361                                        fr calcul \n",
              "9362                                  sya 9a maroc fr \n",
              "9363                      fr mike schmitz audio teach \n",
              "9364                           scp foundat db fr nn5n \n",
              "9365           ihoroscop 2018 daili horoscop astrolog \n",
              "\n",
              "[9366 rows x 1 columns]"
            ]
          },
          "metadata": {
            "tags": []
          },
          "execution_count": 82
        }
      ]
    },
    {
      "cell_type": "markdown",
      "metadata": {
        "id": "yfKVMyHtUZkc"
      },
      "source": [
        "Ahora, agrupamos el top 50 de los valores más repetidos para poder visualizar que algunas de las aplicaciones pueden ser complementos de otras, por ejemplo Roblox que es una aplicación popular, obtuvimos 9 aplicaciones que existen en el dataset referente a este videojuego movil"
      ]
    },
    {
      "cell_type": "code",
      "metadata": {
        "id": "_kxfaUfcoCEJ",
        "colab": {
          "base_uri": "https://localhost:8080/",
          "height": 1000
        },
        "outputId": "3deec87f-56a5-4702-ab8c-dca53cc82969"
      },
      "source": [
        "pd.DataFrame(procesado.value_counts().head(50))"
      ],
      "execution_count": null,
      "outputs": [
        {
          "output_type": "execute_result",
          "data": {
            "text/html": [
              "<div>\n",
              "<style scoped>\n",
              "    .dataframe tbody tr th:only-of-type {\n",
              "        vertical-align: middle;\n",
              "    }\n",
              "\n",
              "    .dataframe tbody tr th {\n",
              "        vertical-align: top;\n",
              "    }\n",
              "\n",
              "    .dataframe thead th {\n",
              "        text-align: right;\n",
              "    }\n",
              "</style>\n",
              "<table border=\"1\" class=\"dataframe\">\n",
              "  <thead>\n",
              "    <tr style=\"text-align: right;\">\n",
              "      <th></th>\n",
              "      <th>0</th>\n",
              "    </tr>\n",
              "    <tr>\n",
              "      <th>0</th>\n",
              "      <th></th>\n",
              "    </tr>\n",
              "  </thead>\n",
              "  <tbody>\n",
              "    <tr>\n",
              "      <th>roblox</th>\n",
              "      <td>9</td>\n",
              "    </tr>\n",
              "    <tr>\n",
              "      <th></th>\n",
              "      <td>8</td>\n",
              "    </tr>\n",
              "    <tr>\n",
              "      <th>cb sport app score news stat watch live</th>\n",
              "      <td>8</td>\n",
              "    </tr>\n",
              "    <tr>\n",
              "      <th>duolingo learn languag free</th>\n",
              "      <td>7</td>\n",
              "    </tr>\n",
              "    <tr>\n",
              "      <th>espn</th>\n",
              "      <td>7</td>\n",
              "    </tr>\n",
              "    <tr>\n",
              "      <th>8 ball pool</th>\n",
              "      <td>7</td>\n",
              "    </tr>\n",
              "    <tr>\n",
              "      <th>candi crush saga</th>\n",
              "      <td>7</td>\n",
              "    </tr>\n",
              "    <tr>\n",
              "      <th>rich</th>\n",
              "      <td>6</td>\n",
              "    </tr>\n",
              "    <tr>\n",
              "      <th>subway surfer</th>\n",
              "      <td>6</td>\n",
              "    </tr>\n",
              "    <tr>\n",
              "      <th>bubbl shooter</th>\n",
              "      <td>6</td>\n",
              "    </tr>\n",
              "    <tr>\n",
              "      <th>zombi catcher</th>\n",
              "      <td>6</td>\n",
              "    </tr>\n",
              "    <tr>\n",
              "      <th>nick</th>\n",
              "      <td>6</td>\n",
              "    </tr>\n",
              "    <tr>\n",
              "      <th>bowmast</th>\n",
              "      <td>6</td>\n",
              "    </tr>\n",
              "    <tr>\n",
              "      <th>sniper 3d gun shooter free shoot game fp</th>\n",
              "      <td>6</td>\n",
              "    </tr>\n",
              "    <tr>\n",
              "      <th>helix jump</th>\n",
              "      <td>6</td>\n",
              "    </tr>\n",
              "    <tr>\n",
              "      <th>templ run 2</th>\n",
              "      <td>6</td>\n",
              "    </tr>\n",
              "    <tr>\n",
              "      <th>slither.io</th>\n",
              "      <td>6</td>\n",
              "    </tr>\n",
              "    <tr>\n",
              "      <th>bleacher report sport news score highlight</th>\n",
              "      <td>6</td>\n",
              "    </tr>\n",
              "    <tr>\n",
              "      <th>wish shop made fun</th>\n",
              "      <td>5</td>\n",
              "    </tr>\n",
              "    <tr>\n",
              "      <th>meetm chat meet new peopl</th>\n",
              "      <td>5</td>\n",
              "    </tr>\n",
              "    <tr>\n",
              "      <th>cw</th>\n",
              "      <td>5</td>\n",
              "    </tr>\n",
              "    <tr>\n",
              "      <th>flow free</th>\n",
              "      <td>5</td>\n",
              "    </tr>\n",
              "    <tr>\n",
              "      <th>beautyplu easi photo editor selfi camera</th>\n",
              "      <td>5</td>\n",
              "    </tr>\n",
              "    <tr>\n",
              "      <th>plant vs zombi free</th>\n",
              "      <td>5</td>\n",
              "    </tr>\n",
              "    <tr>\n",
              "      <th>netflix</th>\n",
              "      <td>5</td>\n",
              "    </tr>\n",
              "    <tr>\n",
              "      <th>moco chat meet peopl</th>\n",
              "      <td>5</td>\n",
              "    </tr>\n",
              "    <tr>\n",
              "      <th>zombi tsunami</th>\n",
              "      <td>5</td>\n",
              "    </tr>\n",
              "    <tr>\n",
              "      <th>viber messeng</th>\n",
              "      <td>5</td>\n",
              "    </tr>\n",
              "    <tr>\n",
              "      <th>yahoo fantasi sport 1 rate fantasi app</th>\n",
              "      <td>5</td>\n",
              "    </tr>\n",
              "    <tr>\n",
              "      <th>talk angela</th>\n",
              "      <td>5</td>\n",
              "    </tr>\n",
              "    <tr>\n",
              "      <th>angri bird classic</th>\n",
              "      <td>5</td>\n",
              "    </tr>\n",
              "    <tr>\n",
              "      <th>mlb bat</th>\n",
              "      <td>5</td>\n",
              "    </tr>\n",
              "    <tr>\n",
              "      <th>kick buddi</th>\n",
              "      <td>5</td>\n",
              "    </tr>\n",
              "    <tr>\n",
              "      <th>thescor live sport score news stat video</th>\n",
              "      <td>5</td>\n",
              "    </tr>\n",
              "    <tr>\n",
              "      <th>calori counter myfitnessp</th>\n",
              "      <td>5</td>\n",
              "    </tr>\n",
              "    <tr>\n",
              "      <th>tripadvisor hotel flight restaur attract</th>\n",
              "      <td>5</td>\n",
              "    </tr>\n",
              "    <tr>\n",
              "      <th>farm hero saga</th>\n",
              "      <td>5</td>\n",
              "    </tr>\n",
              "    <tr>\n",
              "      <th>ebay buy sell summer discov deal</th>\n",
              "      <td>5</td>\n",
              "    </tr>\n",
              "    <tr>\n",
              "      <th>solitair</th>\n",
              "      <td>5</td>\n",
              "    </tr>\n",
              "    <tr>\n",
              "      <th>granni</th>\n",
              "      <td>5</td>\n",
              "    </tr>\n",
              "    <tr>\n",
              "      <th>skyscann</th>\n",
              "      <td>5</td>\n",
              "    </tr>\n",
              "    <tr>\n",
              "      <th>hbo stream tv movi</th>\n",
              "      <td>4</td>\n",
              "    </tr>\n",
              "    <tr>\n",
              "      <th>badoo free chat date app</th>\n",
              "      <td>4</td>\n",
              "    </tr>\n",
              "    <tr>\n",
              "      <th>pou</th>\n",
              "      <td>4</td>\n",
              "    </tr>\n",
              "    <tr>\n",
              "      <th>hangout</th>\n",
              "      <td>4</td>\n",
              "    </tr>\n",
              "    <tr>\n",
              "      <th>block puzzl</th>\n",
              "      <td>4</td>\n",
              "    </tr>\n",
              "    <tr>\n",
              "      <th>googl</th>\n",
              "      <td>4</td>\n",
              "    </tr>\n",
              "    <tr>\n",
              "      <th>imo free video call chat</th>\n",
              "      <td>4</td>\n",
              "    </tr>\n",
              "    <tr>\n",
              "      <th>babbel – learn languag</th>\n",
              "      <td>4</td>\n",
              "    </tr>\n",
              "    <tr>\n",
              "      <th>shutterfli free print photo book card gift</th>\n",
              "      <td>4</td>\n",
              "    </tr>\n",
              "  </tbody>\n",
              "</table>\n",
              "</div>"
            ],
            "text/plain": [
              "                                             0\n",
              "0                                             \n",
              "roblox                                       9\n",
              "                                             8\n",
              "cb sport app score news stat watch live      8\n",
              "duolingo learn languag free                  7\n",
              "espn                                         7\n",
              "8 ball pool                                  7\n",
              "candi crush saga                             7\n",
              "rich                                         6\n",
              "subway surfer                                6\n",
              "bubbl shooter                                6\n",
              "zombi catcher                                6\n",
              "nick                                         6\n",
              "bowmast                                      6\n",
              "sniper 3d gun shooter free shoot game fp     6\n",
              "helix jump                                   6\n",
              "templ run 2                                  6\n",
              "slither.io                                   6\n",
              "bleacher report sport news score highlight   6\n",
              "wish shop made fun                           5\n",
              "meetm chat meet new peopl                    5\n",
              "cw                                           5\n",
              "flow free                                    5\n",
              "beautyplu easi photo editor selfi camera     5\n",
              "plant vs zombi free                          5\n",
              "netflix                                      5\n",
              "moco chat meet peopl                         5\n",
              "zombi tsunami                                5\n",
              "viber messeng                                5\n",
              "yahoo fantasi sport 1 rate fantasi app       5\n",
              "talk angela                                  5\n",
              "angri bird classic                           5\n",
              "mlb bat                                      5\n",
              "kick buddi                                   5\n",
              "thescor live sport score news stat video     5\n",
              "calori counter myfitnessp                    5\n",
              "tripadvisor hotel flight restaur attract     5\n",
              "farm hero saga                               5\n",
              "ebay buy sell summer discov deal             5\n",
              "solitair                                     5\n",
              "granni                                       5\n",
              "skyscann                                     5\n",
              "hbo stream tv movi                           4\n",
              "badoo free chat date app                     4\n",
              "pou                                          4\n",
              "hangout                                      4\n",
              "block puzzl                                  4\n",
              "googl                                        4\n",
              "imo free video call chat                     4\n",
              "babbel – learn languag                       4\n",
              "shutterfli free print photo book card gift   4"
            ]
          },
          "metadata": {
            "tags": []
          },
          "execution_count": 83
        }
      ]
    },
    {
      "cell_type": "markdown",
      "metadata": {
        "id": "V-IPvg4H09Kd"
      },
      "source": [
        "### **Regresión Logística.**\n",
        "\n",
        "A partir de nuestro dataset limpio en donde tenemos la columna de Exito_App con un 1 si es exitosa o un 0 si no lo fue, se decidió incorporar un análisis de regresión logística para que a partir de un conjunto de prueba, identificar si es posible clasificar el resto y predecir si son exitosas o no. De esta forma lo primero que se realizó fue observar el data set para retirar aquellas variables categóricas que no serán de utilidad:"
      ]
    },
    {
      "cell_type": "code",
      "metadata": {
        "id": "0kGB_gEX0-XY",
        "colab": {
          "base_uri": "https://localhost:8080/",
          "height": 250
        },
        "outputId": "63572e98-2378-47bf-c112-6b50b821c410"
      },
      "source": [
        "df_limpio.head(2)"
      ],
      "execution_count": null,
      "outputs": [
        {
          "output_type": "execute_result",
          "data": {
            "text/html": [
              "<div>\n",
              "<style scoped>\n",
              "    .dataframe tbody tr th:only-of-type {\n",
              "        vertical-align: middle;\n",
              "    }\n",
              "\n",
              "    .dataframe tbody tr th {\n",
              "        vertical-align: top;\n",
              "    }\n",
              "\n",
              "    .dataframe thead th {\n",
              "        text-align: right;\n",
              "    }\n",
              "</style>\n",
              "<table border=\"1\" class=\"dataframe\">\n",
              "  <thead>\n",
              "    <tr style=\"text-align: right;\">\n",
              "      <th></th>\n",
              "      <th>App</th>\n",
              "      <th>Categoria</th>\n",
              "      <th>Reviews</th>\n",
              "      <th>Tamanio_MB</th>\n",
              "      <th>Instalaciones_minimas_estimadas</th>\n",
              "      <th>App_gratuita</th>\n",
              "      <th>App_pago</th>\n",
              "      <th>Precio</th>\n",
              "      <th>Rating_del_contenido</th>\n",
              "      <th>Ultimo_updated</th>\n",
              "      <th>Anio_ultimo_updated</th>\n",
              "      <th>Version_actual</th>\n",
              "      <th>Version_Android</th>\n",
              "      <th>Rating</th>\n",
              "      <th>Exito_app</th>\n",
              "    </tr>\n",
              "  </thead>\n",
              "  <tbody>\n",
              "    <tr>\n",
              "      <th>0</th>\n",
              "      <td>Photo Editor &amp; Candy Camera &amp; Grid &amp; ScrapBook</td>\n",
              "      <td>ART_AND_DESIGN</td>\n",
              "      <td>159</td>\n",
              "      <td>19.000</td>\n",
              "      <td>10000</td>\n",
              "      <td>Gratuito</td>\n",
              "      <td>0</td>\n",
              "      <td>0.000</td>\n",
              "      <td>Everyone</td>\n",
              "      <td>January 7, 2018</td>\n",
              "      <td>2018</td>\n",
              "      <td>1.0.0</td>\n",
              "      <td>4.0.3 and up</td>\n",
              "      <td>4.100</td>\n",
              "      <td>1</td>\n",
              "    </tr>\n",
              "    <tr>\n",
              "      <th>1</th>\n",
              "      <td>Coloring book moana</td>\n",
              "      <td>ART_AND_DESIGN</td>\n",
              "      <td>967</td>\n",
              "      <td>14.000</td>\n",
              "      <td>500000</td>\n",
              "      <td>Gratuito</td>\n",
              "      <td>0</td>\n",
              "      <td>0.000</td>\n",
              "      <td>Everyone</td>\n",
              "      <td>January 15, 2018</td>\n",
              "      <td>2018</td>\n",
              "      <td>2.0.0</td>\n",
              "      <td>4.0.3 and up</td>\n",
              "      <td>3.900</td>\n",
              "      <td>0</td>\n",
              "    </tr>\n",
              "  </tbody>\n",
              "</table>\n",
              "</div>"
            ],
            "text/plain": [
              "                                              App       Categoria  Reviews  \\\n",
              "0  Photo Editor & Candy Camera & Grid & ScrapBook  ART_AND_DESIGN      159   \n",
              "1                             Coloring book moana  ART_AND_DESIGN      967   \n",
              "\n",
              "   Tamanio_MB  Instalaciones_minimas_estimadas App_gratuita  App_pago  Precio  \\\n",
              "0      19.000                            10000     Gratuito         0   0.000   \n",
              "1      14.000                           500000     Gratuito         0   0.000   \n",
              "\n",
              "  Rating_del_contenido    Ultimo_updated  Anio_ultimo_updated Version_actual  \\\n",
              "0             Everyone   January 7, 2018                 2018          1.0.0   \n",
              "1             Everyone  January 15, 2018                 2018          2.0.0   \n",
              "\n",
              "  Version_Android  Rating  Exito_app  \n",
              "0    4.0.3 and up   4.100          1  \n",
              "1    4.0.3 and up   3.900          0  "
            ]
          },
          "metadata": {
            "tags": []
          },
          "execution_count": 84
        }
      ]
    },
    {
      "cell_type": "markdown",
      "metadata": {
        "id": "Xaay-Lpx1B7g"
      },
      "source": [
        "Posteriormente se construyeron los vectores X (con variables independientes numéricas) y _y_ como el vector con la variable dependiente binaria que nos arroja si la app es un éxito o no."
      ]
    },
    {
      "cell_type": "code",
      "metadata": {
        "id": "JkkAhfiD1C0g"
      },
      "source": [
        "X = df_limpio.drop(columns=['Exito_app', 'App', 'Categoria', 'App_gratuita', 'App_pago', 'Rating_del_contenido', 'Ultimo_updated', 'Anio_ultimo_updated', 'Version_actual', 'Version_Android', 'Rating'])\n",
        "y = df_limpio['Exito_app']"
      ],
      "execution_count": null,
      "outputs": []
    },
    {
      "cell_type": "code",
      "metadata": {
        "id": "UrphEAXM1HcD"
      },
      "source": [
        "from sklearn.linear_model import LogisticRegression\n",
        "from sklearn.model_selection import train_test_split"
      ],
      "execution_count": null,
      "outputs": []
    },
    {
      "cell_type": "markdown",
      "metadata": {
        "id": "OPJe-vpy1GBJ"
      },
      "source": [
        "Construyendo nuestros conjuntos de entrenamiento y de prueba a partir de una muestra de prueba del 30%:"
      ]
    },
    {
      "cell_type": "code",
      "metadata": {
        "id": "XLS-11Im1LzY"
      },
      "source": [
        "X_train, X_test, y_train, y_test = train_test_split(X, y, test_size=0.3, random_state = 123)"
      ],
      "execution_count": null,
      "outputs": []
    },
    {
      "cell_type": "markdown",
      "metadata": {
        "id": "0yXSmurq1PFm"
      },
      "source": [
        "Aplicando la regresión logística:"
      ]
    },
    {
      "cell_type": "code",
      "metadata": {
        "id": "YzvrfPIx1Q0L"
      },
      "source": [
        "logreg = LogisticRegression(random_state = 234)"
      ],
      "execution_count": null,
      "outputs": []
    },
    {
      "cell_type": "code",
      "metadata": {
        "colab": {
          "base_uri": "https://localhost:8080/"
        },
        "id": "VzwQr21I1SO_",
        "outputId": "31ca73ab-e80d-475b-bc67-34e8aa16ae71"
      },
      "source": [
        "logreg.fit(X_train, y_train)"
      ],
      "execution_count": null,
      "outputs": [
        {
          "output_type": "execute_result",
          "data": {
            "text/plain": [
              "LogisticRegression(C=1.0, class_weight=None, dual=False, fit_intercept=True,\n",
              "                   intercept_scaling=1, l1_ratio=None, max_iter=100,\n",
              "                   multi_class='auto', n_jobs=None, penalty='l2',\n",
              "                   random_state=234, solver='lbfgs', tol=0.0001, verbose=0,\n",
              "                   warm_start=False)"
            ]
          },
          "metadata": {
            "tags": []
          },
          "execution_count": 89
        }
      ]
    },
    {
      "cell_type": "markdown",
      "metadata": {
        "id": "6M_BIQIP1Qne"
      },
      "source": [
        "Prediciendo para nuestro conjunto de prueba se obtuvo lo siguiente:"
      ]
    },
    {
      "cell_type": "code",
      "metadata": {
        "colab": {
          "base_uri": "https://localhost:8080/"
        },
        "id": "_RLMxA6C1V-7",
        "outputId": "6e069b90-3f1a-4fdd-c561-d093d1583e28"
      },
      "source": [
        "y_pred = logreg.predict(X_test)\n",
        "\n",
        "y_pred"
      ],
      "execution_count": null,
      "outputs": [
        {
          "output_type": "execute_result",
          "data": {
            "text/plain": [
              "array([1, 1, 1, ..., 1, 1, 1])"
            ]
          },
          "metadata": {
            "tags": []
          },
          "execution_count": 90
        }
      ]
    },
    {
      "cell_type": "markdown",
      "metadata": {
        "id": "XlWMNbZV1Y8x"
      },
      "source": [
        "Finalmente, al ver cuantos elementos del conjunto de prueba se clasificaron de forma correcta se obtuvo el 72.5% de exactitud al implementar el algoritmo de regresión logística:"
      ]
    },
    {
      "cell_type": "code",
      "metadata": {
        "colab": {
          "base_uri": "https://localhost:8080/"
        },
        "id": "CLT3lCul1YmJ",
        "outputId": "f6caf9b9-0106-4411-e15c-b3584f8fd780"
      },
      "source": [
        "logreg.score(X_test, y_test)"
      ],
      "execution_count": null,
      "outputs": [
        {
          "output_type": "execute_result",
          "data": {
            "text/plain": [
              "0.7195729537366548"
            ]
          },
          "metadata": {
            "tags": []
          },
          "execution_count": 91
        }
      ]
    },
    {
      "cell_type": "markdown",
      "metadata": {
        "id": "DBq_kwBb44s-"
      },
      "source": [
        "Aparentemente el resultado de la exactitud es muy buen en el set de prueba, pero veamos por un momento los datos presentes:\n",
        " "
      ]
    },
    {
      "cell_type": "code",
      "metadata": {
        "colab": {
          "base_uri": "https://localhost:8080/"
        },
        "id": "jJhljX4l44N5",
        "outputId": "ba6ba5d3-c988-4d09-d543-68351f635c69"
      },
      "source": [
        "print('Proporción de registros por clase en el set de prueba (%): ')\n",
        "y_test.value_counts()"
      ],
      "execution_count": null,
      "outputs": [
        {
          "output_type": "stream",
          "text": [
            "Proporción de registros por clase en el set de prueba (%): \n"
          ],
          "name": "stdout"
        },
        {
          "output_type": "execute_result",
          "data": {
            "text/plain": [
              "1    2018\n",
              "0     792\n",
              "Name: Exito_app, dtype: int64"
            ]
          },
          "metadata": {
            "tags": []
          },
          "execution_count": 92
        }
      ]
    },
    {
      "cell_type": "markdown",
      "metadata": {
        "id": "f_9YIyI76hbw"
      },
      "source": [
        "Notamos que los datos estan desvalanceados hacía la clase 1. Este modelo de regresión logística predice en la mayoría de las ocasiones la clase más representada, por lo que la _exactitud_ obtenida anteriormnete es una métrica de desempeño engañosa, en este caso, ya que solo 16 registros (de los 792 registros de la clase negativa) se predijeron de manera correcta, esto quiere decir que un modelo de logístico no puede separar las clase de buena manera, y tiende a predecir la clase más representada.\n"
      ]
    },
    {
      "cell_type": "code",
      "metadata": {
        "colab": {
          "base_uri": "https://localhost:8080/",
          "height": 301
        },
        "id": "-2toUhrusKkT",
        "outputId": "10502404-4107-4127-8a42-c95bfbb6726c"
      },
      "source": [
        "from sklearn.metrics import plot_confusion_matrix\n",
        "from sklearn.metrics import roc_auc_score\n",
        "\n",
        "plot_confusion_matrix(logreg, X_test, y_test, values_format='.6g', cmap = 'gray')\n",
        "plt.title('Matriz de confusión.')\n",
        "plt.show();"
      ],
      "execution_count": null,
      "outputs": [
        {
          "output_type": "display_data",
          "data": {
            "image/png": "[encoded data removed]",
            "text/plain": [
              "<Figure size 432x288 with 2 Axes>"
            ]
          },
          "metadata": {
            "tags": []
          }
        }
      ]
    },
    {
      "cell_type": "markdown",
      "metadata": {
        "id": "ZUBtK1fX7gY2"
      },
      "source": [
        "Lo mencionado anteriormente se puede notar también con la métrica _AUC (Area under the curve)_, por lo que el rendimiento de este modelo es muy pobre en este conjunto de datos. "
      ]
    },
    {
      "cell_type": "code",
      "metadata": {
        "colab": {
          "base_uri": "https://localhost:8080/"
        },
        "id": "uw1UC9cV7XOv",
        "outputId": "50f5dc0b-6c59-4e8c-986e-6e1fb5764dba"
      },
      "source": [
        "print('Metrica AUC: ', roc_auc_score(y_test, y_pred))"
      ],
      "execution_count": null,
      "outputs": [
        {
          "output_type": "stream",
          "text": [
            "Metrica AUC:  0.5071277692685027\n"
          ],
          "name": "stdout"
        }
      ]
    },
    {
      "cell_type": "markdown",
      "metadata": {
        "id": "hpV7-Sxs1gx6"
      },
      "source": [
        "A pesar de que el 71.9% representa un buen parámetro de exactitud, este puede ser engañoso, y debemos de recurir a técnicas más avanzadas de Machine Learning; sin embargo, funciona como un buen parámetro de comparación a futuro, lo cual nos servirá para identificar si otros algoritmos y técnicas, así como replanteamientos del problema se comportan de mejor o peor manera al predecir el éxito o fracaso de una app."
      ]
    }
  ]
}